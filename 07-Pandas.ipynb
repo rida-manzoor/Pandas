{
 "cells": [
  {
   "cell_type": "markdown",
   "id": "c9138fb4",
   "metadata": {},
   "source": [
    "# Modifying Dataframes\n",
    "\n",
    "A Dataframe is a two-dimensional labeled data structure with heterogeneously typed columns, having both a row and a column indices."
   ]
  },
  {
   "cell_type": "code",
   "execution_count": 1,
   "id": "0431c585",
   "metadata": {},
   "outputs": [
    {
     "data": {
      "text/plain": [
       "('1.4.2', ['/home/rida/anaconda3/lib/python3.9/site-packages/pandas'])"
      ]
     },
     "execution_count": 1,
     "metadata": {},
     "output_type": "execute_result"
    }
   ],
   "source": [
    "import pandas as pd\n",
    "pd.__version__ , pd.__path__"
   ]
  },
  {
   "cell_type": "code",
   "execution_count": 10,
   "id": "937f8043",
   "metadata": {},
   "outputs": [
    {
     "data": {
      "text/html": [
       "<div>\n",
       "<style scoped>\n",
       "    .dataframe tbody tr th:only-of-type {\n",
       "        vertical-align: middle;\n",
       "    }\n",
       "\n",
       "    .dataframe tbody tr th {\n",
       "        vertical-align: top;\n",
       "    }\n",
       "\n",
       "    .dataframe thead th {\n",
       "        text-align: right;\n",
       "    }\n",
       "</style>\n",
       "<table border=\"1\" class=\"dataframe\">\n",
       "  <thead>\n",
       "    <tr style=\"text-align: right;\">\n",
       "      <th></th>\n",
       "      <th>StudentID</th>\n",
       "      <th>Name</th>\n",
       "      <th>Group</th>\n",
       "      <th>Maths</th>\n",
       "      <th>English</th>\n",
       "      <th>Urdu</th>\n",
       "      <th>Grades</th>\n",
       "    </tr>\n",
       "  </thead>\n",
       "  <tbody>\n",
       "    <tr>\n",
       "      <th>0</th>\n",
       "      <td>MS01</td>\n",
       "      <td>Naima</td>\n",
       "      <td>Group A</td>\n",
       "      <td>34.0</td>\n",
       "      <td>23</td>\n",
       "      <td>23.0</td>\n",
       "      <td>49.0</td>\n",
       "    </tr>\n",
       "    <tr>\n",
       "      <th>1</th>\n",
       "      <td>MS09</td>\n",
       "      <td>Azka</td>\n",
       "      <td>Group C</td>\n",
       "      <td>22.0</td>\n",
       "      <td>24</td>\n",
       "      <td>24.0</td>\n",
       "      <td>23.0</td>\n",
       "    </tr>\n",
       "    <tr>\n",
       "      <th>2</th>\n",
       "      <td>MS02</td>\n",
       "      <td>Nimra</td>\n",
       "      <td>NaN</td>\n",
       "      <td>34.0</td>\n",
       "      <td>NAN</td>\n",
       "      <td>NaN</td>\n",
       "      <td>87.0</td>\n",
       "    </tr>\n",
       "    <tr>\n",
       "      <th>3</th>\n",
       "      <td>MS03</td>\n",
       "      <td>Ayla</td>\n",
       "      <td>Group A</td>\n",
       "      <td>23.0</td>\n",
       "      <td>23</td>\n",
       "      <td>25.0</td>\n",
       "      <td>75.0</td>\n",
       "    </tr>\n",
       "    <tr>\n",
       "      <th>4</th>\n",
       "      <td>MS04</td>\n",
       "      <td>Ayesha</td>\n",
       "      <td>Group B</td>\n",
       "      <td>12.0</td>\n",
       "      <td>26</td>\n",
       "      <td>25.0</td>\n",
       "      <td>47.0</td>\n",
       "    </tr>\n",
       "  </tbody>\n",
       "</table>\n",
       "</div>"
      ],
      "text/plain": [
       "  StudentID    Name    Group  Maths English  Urdu  Grades\n",
       "0      MS01   Naima  Group A   34.0      23  23.0    49.0\n",
       "1      MS09    Azka  Group C   22.0      24  24.0    23.0\n",
       "2      MS02   Nimra      NaN   34.0     NAN   NaN    87.0\n",
       "3      MS03    Ayla  Group A   23.0      23  25.0    75.0\n",
       "4      MS04  Ayesha  Group B   12.0      26  25.0    47.0"
      ]
     },
     "execution_count": 10,
     "metadata": {},
     "output_type": "execute_result"
    }
   ],
   "source": [
    "df = pd.read_csv('data.csv')\n",
    "df.head()"
   ]
  },
  {
   "cell_type": "code",
   "execution_count": 11,
   "id": "aef65353",
   "metadata": {},
   "outputs": [
    {
     "data": {
      "text/html": [
       "<div>\n",
       "<style scoped>\n",
       "    .dataframe tbody tr th:only-of-type {\n",
       "        vertical-align: middle;\n",
       "    }\n",
       "\n",
       "    .dataframe tbody tr th {\n",
       "        vertical-align: top;\n",
       "    }\n",
       "\n",
       "    .dataframe thead th {\n",
       "        text-align: right;\n",
       "    }\n",
       "</style>\n",
       "<table border=\"1\" class=\"dataframe\">\n",
       "  <thead>\n",
       "    <tr style=\"text-align: right;\">\n",
       "      <th></th>\n",
       "      <th>StudentID</th>\n",
       "      <th>Name</th>\n",
       "      <th>Group</th>\n",
       "      <th>Maths</th>\n",
       "      <th>English</th>\n",
       "      <th>Urdu</th>\n",
       "      <th>Grades</th>\n",
       "    </tr>\n",
       "  </thead>\n",
       "  <tbody>\n",
       "    <tr>\n",
       "      <th>24</th>\n",
       "      <td>MS29</td>\n",
       "      <td>Maria</td>\n",
       "      <td>Group C</td>\n",
       "      <td>12.0</td>\n",
       "      <td>634</td>\n",
       "      <td>27.0</td>\n",
       "      <td>76.0</td>\n",
       "    </tr>\n",
       "    <tr>\n",
       "      <th>25</th>\n",
       "      <td>MS24</td>\n",
       "      <td>Arosh</td>\n",
       "      <td>Group A</td>\n",
       "      <td>46.0</td>\n",
       "      <td>64</td>\n",
       "      <td>63.0</td>\n",
       "      <td>75.0</td>\n",
       "    </tr>\n",
       "    <tr>\n",
       "      <th>26</th>\n",
       "      <td>MS32</td>\n",
       "      <td>Beck</td>\n",
       "      <td>Group A</td>\n",
       "      <td>23.0</td>\n",
       "      <td>64</td>\n",
       "      <td>23.0</td>\n",
       "      <td>39.0</td>\n",
       "    </tr>\n",
       "    <tr>\n",
       "      <th>27</th>\n",
       "      <td>MS64</td>\n",
       "      <td>Qandeel</td>\n",
       "      <td>Group B</td>\n",
       "      <td>34.0</td>\n",
       "      <td>23</td>\n",
       "      <td>26.0</td>\n",
       "      <td>85.0</td>\n",
       "    </tr>\n",
       "    <tr>\n",
       "      <th>28</th>\n",
       "      <td>MS55</td>\n",
       "      <td>Anoosha</td>\n",
       "      <td>Group C</td>\n",
       "      <td>12.0</td>\n",
       "      <td>65</td>\n",
       "      <td>43.0</td>\n",
       "      <td>82.0</td>\n",
       "    </tr>\n",
       "  </tbody>\n",
       "</table>\n",
       "</div>"
      ],
      "text/plain": [
       "   StudentID     Name    Group  Maths English  Urdu  Grades\n",
       "24      MS29    Maria  Group C   12.0     634  27.0    76.0\n",
       "25      MS24    Arosh  Group A   46.0      64  63.0    75.0\n",
       "26      MS32     Beck  Group A   23.0      64  23.0    39.0\n",
       "27      MS64  Qandeel  Group B   34.0      23  26.0    85.0\n",
       "28      MS55  Anoosha  Group C   12.0      65  43.0    82.0"
      ]
     },
     "execution_count": 11,
     "metadata": {},
     "output_type": "execute_result"
    }
   ],
   "source": [
    "df.tail()"
   ]
  },
  {
   "cell_type": "code",
   "execution_count": 12,
   "id": "e9e35e0d",
   "metadata": {},
   "outputs": [
    {
     "data": {
      "text/plain": [
       "(29, 7)"
      ]
     },
     "execution_count": 12,
     "metadata": {},
     "output_type": "execute_result"
    }
   ],
   "source": [
    "df.shape"
   ]
  },
  {
   "cell_type": "code",
   "execution_count": 13,
   "id": "344a7b16",
   "metadata": {},
   "outputs": [
    {
     "data": {
      "text/plain": [
       "RangeIndex(start=0, stop=29, step=1)"
      ]
     },
     "execution_count": 13,
     "metadata": {},
     "output_type": "execute_result"
    }
   ],
   "source": [
    "df.index"
   ]
  },
  {
   "cell_type": "code",
   "execution_count": 14,
   "id": "e037fc64",
   "metadata": {},
   "outputs": [
    {
     "data": {
      "text/plain": [
       "Index(['StudentID', 'Name', 'Group', 'Maths', 'English', 'Urdu', 'Grades'], dtype='object')"
      ]
     },
     "execution_count": 14,
     "metadata": {},
     "output_type": "execute_result"
    }
   ],
   "source": [
    "df.columns"
   ]
  },
  {
   "cell_type": "code",
   "execution_count": 15,
   "id": "2d98e402",
   "metadata": {},
   "outputs": [
    {
     "data": {
      "text/plain": [
       "StudentID     object\n",
       "Name          object\n",
       "Group         object\n",
       "Maths        float64\n",
       "English       object\n",
       "Urdu         float64\n",
       "Grades       float64\n",
       "dtype: object"
      ]
     },
     "execution_count": 15,
     "metadata": {},
     "output_type": "execute_result"
    }
   ],
   "source": [
    "df.dtypes"
   ]
  },
  {
   "cell_type": "code",
   "execution_count": 16,
   "id": "de2496f7",
   "metadata": {},
   "outputs": [
    {
     "name": "stdout",
     "output_type": "stream",
     "text": [
      "<class 'pandas.core.frame.DataFrame'>\n",
      "RangeIndex: 29 entries, 0 to 28\n",
      "Data columns (total 7 columns):\n",
      " #   Column     Non-Null Count  Dtype  \n",
      "---  ------     --------------  -----  \n",
      " 0   StudentID  29 non-null     object \n",
      " 1   Name       28 non-null     object \n",
      " 2   Group      28 non-null     object \n",
      " 3   Maths      27 non-null     float64\n",
      " 4   English    29 non-null     object \n",
      " 5   Urdu       28 non-null     float64\n",
      " 6   Grades     23 non-null     float64\n",
      "dtypes: float64(3), object(4)\n",
      "memory usage: 1.7+ KB\n"
     ]
    }
   ],
   "source": [
    "df.info()"
   ]
  },
  {
   "cell_type": "markdown",
   "id": "e6493f05",
   "metadata": {},
   "source": [
    "## 1. Add a New Column in a Dataframe\n",
    "To add a new column in a dataframe, create an appropriate series and then assign it to the dataframe\n",
    "\n",
    "\n",
    "Every time a new series is added to a dataframe, its name automatically becomes an attribute of that dataframe.\n",
    "\n",
    "\n",
    "It can be a series created from scratch, which can be cumbersome if the dataframe has thousands of rows.\n",
    "\n",
    "\n",
    "Another common way to add a column is construct a series from the existing data within the dataframe\n",
    "Let us understand this with an example"
   ]
  },
  {
   "cell_type": "code",
   "execution_count": null,
   "id": "d22fe8e7",
   "metadata": {},
   "outputs": [],
   "source": []
  }
 ],
 "metadata": {
  "kernelspec": {
   "display_name": "Python 3 (ipykernel)",
   "language": "python",
   "name": "python3"
  },
  "language_info": {
   "codemirror_mode": {
    "name": "ipython",
    "version": 3
   },
   "file_extension": ".py",
   "mimetype": "text/x-python",
   "name": "python",
   "nbconvert_exporter": "python",
   "pygments_lexer": "ipython3",
   "version": "3.9.12"
  }
 },
 "nbformat": 4,
 "nbformat_minor": 5
}
