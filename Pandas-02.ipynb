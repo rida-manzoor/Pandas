{
 "cells": [
  {
   "cell_type": "markdown",
   "id": "6da7bdf1",
   "metadata": {},
   "source": [
    "# Series\n",
    "\n",
    "Series is a one dimensional array capable of holding a sequence of values of any data type which by default has numeric data lebels starting from zero. Labels can be integer or string. \n",
    "\n",
    ". To create series:\n",
    "pd.Series(data,index,dtype,name)\n",
    "\n",
    "\n",
    "Data = Data that we want to add in that series. This can be a list, array, scalar value or dictionary.\n",
    "\n",
    "Index = If you do not pas the index argument, it will be by default assigned integer starting from zero. They must be hashable and of same length as data. They are used for mainly three purposes:\n",
    "\n",
    "- Identification\n",
    "\n",
    "- Selection\n",
    "\n",
    "- Alignment\n",
    "\n",
    "Dtype = This is optional argument. Can assign any valid data type to series object. If not passed it is inferred from data.\n",
    "\n",
    "Name = This is also optional. When list is added to any Dataframe, this name will become column name in dataframe.It become attribute of series object."
   ]
  },
  {
   "cell_type": "code",
   "execution_count": 1,
   "id": "5fc4bb9d",
   "metadata": {},
   "outputs": [],
   "source": [
    "import pandas as pd"
   ]
  },
  {
   "cell_type": "markdown",
   "id": "a7ba2380",
   "metadata": {},
   "source": [
    "### Creating series from Python List"
   ]
  },
  {
   "cell_type": "code",
   "execution_count": 2,
   "id": "50e7edfb",
   "metadata": {},
   "outputs": [
    {
     "data": {
      "text/plain": [
       "0    a\n",
       "1    b\n",
       "2    c\n",
       "3    w\n",
       "4    r\n",
       "5    t\n",
       "dtype: object"
      ]
     },
     "execution_count": 2,
     "metadata": {},
     "output_type": "execute_result"
    }
   ],
   "source": [
    "list1 = ['a','b','c','w','r','t']\n",
    "pd.Series(list1)"
   ]
  },
  {
   "cell_type": "code",
   "execution_count": 4,
   "id": "8b02d222",
   "metadata": {},
   "outputs": [
    {
     "data": {
      "text/plain": [
       "1    a\n",
       "4    b\n",
       "3    c\n",
       "6    w\n",
       "4    r\n",
       "8    t\n",
       "dtype: object"
      ]
     },
     "execution_count": 4,
     "metadata": {},
     "output_type": "execute_result"
    }
   ],
   "source": [
    "indics = [1,4,3,6,4,8]\n",
    "s= pd.Series(data=list1,index=indics)\n",
    "s"
   ]
  },
  {
   "cell_type": "code",
   "execution_count": 5,
   "id": "1964320d",
   "metadata": {},
   "outputs": [
    {
     "data": {
      "text/plain": [
       "'c'"
      ]
     },
     "execution_count": 5,
     "metadata": {},
     "output_type": "execute_result"
    }
   ],
   "source": [
    "s[3]"
   ]
  },
  {
   "cell_type": "code",
   "execution_count": 6,
   "id": "76469c0a",
   "metadata": {},
   "outputs": [
    {
     "data": {
      "text/plain": [
       "'a'"
      ]
     },
     "execution_count": 6,
     "metadata": {},
     "output_type": "execute_result"
    }
   ],
   "source": [
    "s[1]"
   ]
  },
  {
   "cell_type": "markdown",
   "id": "9d1e3a6d",
   "metadata": {},
   "source": [
    "### Creating series form Numpy array"
   ]
  },
  {
   "cell_type": "code",
   "execution_count": 7,
   "id": "ced0937b",
   "metadata": {},
   "outputs": [],
   "source": [
    "import numpy as np"
   ]
  },
  {
   "cell_type": "code",
   "execution_count": 8,
   "id": "41a00bea",
   "metadata": {},
   "outputs": [],
   "source": [
    "a = pd.Series(data=np.arange(9))"
   ]
  },
  {
   "cell_type": "code",
   "execution_count": 9,
   "id": "6b461cfd",
   "metadata": {},
   "outputs": [
    {
     "data": {
      "text/plain": [
       "0    0\n",
       "1    1\n",
       "2    2\n",
       "3    3\n",
       "4    4\n",
       "5    5\n",
       "6    6\n",
       "7    7\n",
       "8    8\n",
       "dtype: int64"
      ]
     },
     "execution_count": 9,
     "metadata": {},
     "output_type": "execute_result"
    }
   ],
   "source": [
    "a"
   ]
  },
  {
   "cell_type": "code",
   "execution_count": 13,
   "id": "c372483e",
   "metadata": {},
   "outputs": [
    {
     "data": {
      "text/plain": [
       "0    2\n",
       "1    5\n",
       "2    2\n",
       "3    7\n",
       "4    9\n",
       "5    5\n",
       "6    3\n",
       "7    6\n",
       "dtype: int64"
      ]
     },
     "execution_count": 13,
     "metadata": {},
     "output_type": "execute_result"
    }
   ],
   "source": [
    "arr = np.array([2,5,2,7,9,5,3,6])\n",
    "ab =pd.Series(arr)\n",
    "ab"
   ]
  },
  {
   "cell_type": "markdown",
   "id": "3aa7c32e",
   "metadata": {},
   "source": [
    "#### Example\n",
    "Create a NumPy array of 10 random integers between 1 and 100. Create a Pandas Series from this array, and set the index labels to ['A', 'B', 'C', 'D', 'E', 'F', 'G', 'H', 'I', 'J']. Name the Series \"random_integers\"."
   ]
  },
  {
   "cell_type": "code",
   "execution_count": 17,
   "id": "d333bbba",
   "metadata": {},
   "outputs": [
    {
     "data": {
      "text/plain": [
       "A    75\n",
       "B    83\n",
       "C     1\n",
       "D     3\n",
       "E     4\n",
       "F    29\n",
       "G    18\n",
       "H    47\n",
       "I     8\n",
       "J    48\n",
       "Name: random_integer, dtype: int64"
      ]
     },
     "execution_count": 17,
     "metadata": {},
     "output_type": "execute_result"
    }
   ],
   "source": [
    "arr =np.random.randint(low=1,high=101,size=10)\n",
    "index = ['A','B','C','D','E','F','G','H','I','J']\n",
    "b = pd.Series(data=arr,index=index,name=\"random_integer\")\n",
    "b"
   ]
  },
  {
   "cell_type": "markdown",
   "id": "49acb233",
   "metadata": {},
   "source": [
    "Create a NumPy array of 5 random floats between 0 and 1. Create a Pandas Series from this array, and set the index labels to ['apple', 'banana', 'cherry', 'date', 'elderberry']. Name the Series \"random_floats\"."
   ]
  },
  {
   "cell_type": "code",
   "execution_count": 47,
   "id": "08a5c293",
   "metadata": {},
   "outputs": [
    {
     "data": {
      "text/plain": [
       "apple         0.00\n",
       "banana        0.25\n",
       "cherry        0.50\n",
       "date          0.75\n",
       "elderberry    1.00\n",
       "Name: random_floats, dtype: float64"
      ]
     },
     "execution_count": 47,
     "metadata": {},
     "output_type": "execute_result"
    }
   ],
   "source": [
    "arr = np.linspace(start=0,stop=1,num=5)\n",
    "inex= ['apple','banana','cherry','date','elderberry']\n",
    "ser=pd.Series(data=arr,index=inex,name=\"random_floats\",dtype=float)\n",
    "ser"
   ]
  },
  {
   "cell_type": "markdown",
   "id": "1f1d8569",
   "metadata": {},
   "source": [
    "Create a Pandas Series from a NumPy array containing the Fibonacci sequence up to the 20th term. Name the Series \"fibonacci\" and set the index labels to the corresponding numbers in the sequence (e.g., the first element should have index label 0, the second should have index label 1, etc.)."
   ]
  },
  {
   "cell_type": "code",
   "execution_count": 29,
   "id": "ce223bf2",
   "metadata": {},
   "outputs": [
    {
     "name": "stdout",
     "output_type": "stream",
     "text": [
      "0        0\n",
      "1        1\n",
      "2        1\n",
      "3        2\n",
      "4        3\n",
      "5        5\n",
      "6        8\n",
      "7       13\n",
      "8       21\n",
      "9       34\n",
      "10      55\n",
      "11      89\n",
      "12     144\n",
      "13     233\n",
      "14     377\n",
      "15     610\n",
      "16     987\n",
      "17    1597\n",
      "18    2584\n",
      "19    4181\n",
      "dtype: int64\n"
     ]
    }
   ],
   "source": [
    "# Create an array with the first two terms of the Fibonacci sequence\n",
    "fib = np.array([0, 1])\n",
    "\n",
    "# Use a loop to compute the remaining terms of the sequence and add them to the array\n",
    "for i in range(2, 20):\n",
    "    fib = np.append(fib, fib[i-1] + fib[i-2])\n",
    "\n",
    "\n",
    "# Create a Pandas Series from the NumPy array and set the index labels\n",
    "fibonacci = pd.Series(fib, index=range(20))\n",
    "\n",
    "# Print the Series\n",
    "print(fibonacci)\n"
   ]
  },
  {
   "cell_type": "markdown",
   "id": "2d79d2e4",
   "metadata": {},
   "source": [
    "Create a NumPy array containing 100 random integers between 0 and 9. Create a Pandas Series from this array and group the values by their remainder when divided by 2 (i.e., group even values together and odd values together). Compute the mean of each group and create a new Series containing these means, with the group label (i.e., \"even\" or \"odd\") as the index label."
   ]
  },
  {
   "cell_type": "code",
   "execution_count": 38,
   "id": "9b56c695",
   "metadata": {},
   "outputs": [
    {
     "name": "stdout",
     "output_type": "stream",
     "text": [
      "even   NaN\n",
      "odd    NaN\n",
      "dtype: float64\n"
     ]
    }
   ],
   "source": [
    "arr = np.random.randint(low=0,high=10,size=100)\n",
    "s1 = pd.Series(arr)\n",
    "# Group the values by their remainder when divided by 2\n",
    "grouped = s1.groupby(lambda x: x % 2)\n",
    "# Compute the mean of each group\n",
    "means = grouped.mean().fillna(0)\n",
    "# Create a new Series from the means, with the group label as the index label\n",
    "result = pd.Series(means, index=['even', 'odd'])\n",
    "# Print the result\n",
    "print(result)"
   ]
  },
  {
   "cell_type": "markdown",
   "id": "5de8ae37",
   "metadata": {},
   "source": [
    "### Creating a Series from Python Dictionary"
   ]
  },
  {
   "cell_type": "code",
   "execution_count": 39,
   "id": "56316254",
   "metadata": {},
   "outputs": [],
   "source": [
    "my_dict = {\n",
    "    'name':\"Joe\", \n",
    "    'gender':\"Male\", \n",
    "    'Role':\"Manager\", \n",
    "    'subject':\"Data Science\"}\n",
    "s = pd.Series(data=my_dict)"
   ]
  },
  {
   "cell_type": "code",
   "execution_count": 40,
   "id": "832bfc57",
   "metadata": {},
   "outputs": [
    {
     "data": {
      "text/plain": [
       "name                Joe\n",
       "gender             Male\n",
       "Role            Manager\n",
       "subject    Data Science\n",
       "dtype: object"
      ]
     },
     "execution_count": 40,
     "metadata": {},
     "output_type": "execute_result"
    }
   ],
   "source": [
    "s"
   ]
  },
  {
   "cell_type": "markdown",
   "id": "23a91a4d",
   "metadata": {},
   "source": [
    "Create a Pandas Series from a dictionary containing the names and ages of a group of people. Use the names as the index labels and the ages as the values."
   ]
  },
  {
   "cell_type": "code",
   "execution_count": 41,
   "id": "e48edcc9",
   "metadata": {},
   "outputs": [
    {
     "name": "stdout",
     "output_type": "stream",
     "text": [
      "John     30\n",
      "Alice    25\n",
      "Bob      45\n",
      "Jane     20\n",
      "dtype: int64\n"
     ]
    }
   ],
   "source": [
    "people = {'John': 30, 'Alice': 25, 'Bob': 45, 'Jane': 20}\n",
    "\n",
    "# Create a Pandas Series from the dictionary\n",
    "age_series = pd.Series(people)\n",
    "print(age_series)\n"
   ]
  },
  {
   "cell_type": "markdown",
   "id": "7b86091d",
   "metadata": {},
   "source": [
    "Create a Pandas Series from a dictionary containing the prices of different items in a store. Use the names of the items as the index labels and the prices as the values."
   ]
  },
  {
   "cell_type": "code",
   "execution_count": 42,
   "id": "5a7a28b2",
   "metadata": {},
   "outputs": [
    {
     "data": {
      "text/plain": [
       "water    30\n",
       "candy     1\n",
       "coco     70\n",
       "dtype: int64"
      ]
     },
     "execution_count": 42,
     "metadata": {},
     "output_type": "execute_result"
    }
   ],
   "source": [
    "item ={'water':30,'candy':1,'coco':70}\n",
    "s=pd.Series(item)\n",
    "s"
   ]
  },
  {
   "cell_type": "markdown",
   "id": "54ebd0b5",
   "metadata": {},
   "source": [
    "### Creating a Series from Scalar value"
   ]
  },
  {
   "cell_type": "code",
   "execution_count": 43,
   "id": "412b1f58",
   "metadata": {},
   "outputs": [
    {
     "name": "stdout",
     "output_type": "stream",
     "text": [
      "0    25\n",
      "dtype: int64\n",
      "<class 'pandas.core.series.Series'>\n"
     ]
    }
   ],
   "source": [
    "s = pd.Series(data=25)\n",
    "print(s)\n",
    "print(type(s))\n"
   ]
  },
  {
   "cell_type": "markdown",
   "id": "040b99fa",
   "metadata": {},
   "source": [
    "### Creating an Empty Series"
   ]
  },
  {
   "cell_type": "code",
   "execution_count": 44,
   "id": "e169d177",
   "metadata": {},
   "outputs": [
    {
     "name": "stdout",
     "output_type": "stream",
     "text": [
      "Series([], dtype: float64)\n",
      "<class 'pandas.core.series.Series'>\n"
     ]
    },
    {
     "name": "stderr",
     "output_type": "stream",
     "text": [
      "/tmp/ipykernel_20631/3651937901.py:1: FutureWarning: The default dtype for empty Series will be 'object' instead of 'float64' in a future version. Specify a dtype explicitly to silence this warning.\n",
      "  s=pd.Series()\n"
     ]
    }
   ],
   "source": [
    "s=pd.Series()\n",
    "print(s)\n",
    "print(type(s))"
   ]
  },
  {
   "cell_type": "markdown",
   "id": "0f686526",
   "metadata": {},
   "source": [
    "## Attributes of Panda Series"
   ]
  },
  {
   "cell_type": "code",
   "execution_count": 48,
   "id": "efa5624c",
   "metadata": {},
   "outputs": [
    {
     "data": {
      "text/plain": [
       "'random_floats'"
      ]
     },
     "execution_count": 48,
     "metadata": {},
     "output_type": "execute_result"
    }
   ],
   "source": [
    "ser.name"
   ]
  },
  {
   "cell_type": "code",
   "execution_count": 49,
   "id": "cb56751b",
   "metadata": {},
   "outputs": [
    {
     "data": {
      "text/plain": [
       "Index(['apple', 'banana', 'cherry', 'date', 'elderberry'], dtype='object')"
      ]
     },
     "execution_count": 49,
     "metadata": {},
     "output_type": "execute_result"
    }
   ],
   "source": [
    "ser.index"
   ]
  },
  {
   "cell_type": "code",
   "execution_count": 50,
   "id": "f6ec10b0",
   "metadata": {},
   "outputs": [
    {
     "data": {
      "text/plain": [
       "array([0.  , 0.25, 0.5 , 0.75, 1.  ])"
      ]
     },
     "execution_count": 50,
     "metadata": {},
     "output_type": "execute_result"
    }
   ],
   "source": [
    "ser.values"
   ]
  },
  {
   "cell_type": "code",
   "execution_count": 53,
   "id": "dabfdf66",
   "metadata": {},
   "outputs": [
    {
     "data": {
      "text/plain": [
       "dtype('float64')"
      ]
     },
     "execution_count": 53,
     "metadata": {},
     "output_type": "execute_result"
    }
   ],
   "source": [
    "ser.dtype"
   ]
  },
  {
   "cell_type": "code",
   "execution_count": 55,
   "id": "bb47c828",
   "metadata": {},
   "outputs": [
    {
     "data": {
      "text/plain": [
       "1"
      ]
     },
     "execution_count": 55,
     "metadata": {},
     "output_type": "execute_result"
    }
   ],
   "source": [
    "ser.ndim"
   ]
  },
  {
   "cell_type": "code",
   "execution_count": 56,
   "id": "3b95d09b",
   "metadata": {},
   "outputs": [
    {
     "data": {
      "text/plain": [
       "(5,)"
      ]
     },
     "execution_count": 56,
     "metadata": {},
     "output_type": "execute_result"
    }
   ],
   "source": [
    "ser.shape"
   ]
  },
  {
   "cell_type": "code",
   "execution_count": 59,
   "id": "a40f7201",
   "metadata": {},
   "outputs": [
    {
     "data": {
      "text/plain": [
       "5"
      ]
     },
     "execution_count": 59,
     "metadata": {},
     "output_type": "execute_result"
    }
   ],
   "source": [
    "ser.size"
   ]
  },
  {
   "cell_type": "code",
   "execution_count": 60,
   "id": "6137fb8a",
   "metadata": {},
   "outputs": [
    {
     "data": {
      "text/plain": [
       "40"
      ]
     },
     "execution_count": 60,
     "metadata": {},
     "output_type": "execute_result"
    }
   ],
   "source": [
    "ser.nbytes"
   ]
  },
  {
   "cell_type": "code",
   "execution_count": 61,
   "id": "a3455bff",
   "metadata": {},
   "outputs": [
    {
     "data": {
      "text/plain": [
       "False"
      ]
     },
     "execution_count": 61,
     "metadata": {},
     "output_type": "execute_result"
    }
   ],
   "source": [
    "ser.hasnans"
   ]
  },
  {
   "cell_type": "markdown",
   "id": "281ef95d",
   "metadata": {},
   "source": [
    "## Understanding Index in a Series"
   ]
  },
  {
   "cell_type": "markdown",
   "id": "f91a90af",
   "metadata": {},
   "source": [
    " When index is unique, Pandas use a hashtable to map key to value and searching can be done in O(1) time. - When index is non-unique but sorted, Pandas use binary search, which takes logarithmic time O(logN). - When index is randomly ordered, searching takes linear time, as Pandas need to check all the keys in the index O(N)."
   ]
  },
  {
   "cell_type": "markdown",
   "id": "8dc42fb9",
   "metadata": {},
   "source": [
    "### Changing Index of a Series Object"
   ]
  },
  {
   "cell_type": "code",
   "execution_count": 62,
   "id": "f69a399e",
   "metadata": {},
   "outputs": [
    {
     "name": "stdout",
     "output_type": "stream",
     "text": [
      "0       Rauf\n",
      "1       Arif\n",
      "2       Maaz\n",
      "3     Hadeed\n",
      "4    Mujahid\n",
      "dtype: object\n",
      "RangeIndex(start=0, stop=5, step=1)\n"
     ]
    }
   ],
   "source": [
    "list1 = ['Rauf', 'Arif', 'Maaz', 'Hadeed', 'Mujahid']\n",
    "s = pd.Series(data=list1)\n",
    "print(s)\n",
    "print(s.index)"
   ]
  },
  {
   "cell_type": "code",
   "execution_count": 63,
   "id": "aa46eff0",
   "metadata": {},
   "outputs": [
    {
     "name": "stdout",
     "output_type": "stream",
     "text": [
      "117       Rauf\n",
      "109       Arif\n",
      "199       Maaz\n",
      "132     Hadeed\n",
      "159    Mujahid\n",
      "dtype: object\n",
      "Int64Index([117, 109, 199, 132, 159], dtype='int64')\n"
     ]
    }
   ],
   "source": [
    "arr1 = np.random.randint(low = 100, high = 200, size = 5)\n",
    "\n",
    "s.index = arr1\n",
    "\n",
    "print(s)\n",
    "print(s.index)"
   ]
  },
  {
   "cell_type": "markdown",
   "id": "c0d64764",
   "metadata": {},
   "source": [
    "### Changing index of a series to a list of strings\n",
    "\n"
   ]
  },
  {
   "cell_type": "code",
   "execution_count": 66,
   "id": "d08e31de",
   "metadata": {},
   "outputs": [
    {
     "data": {
      "text/plain": [
       "1        Rauf\n",
       "45       Arif\n",
       "6        Maaz\n",
       "3      Hadeed\n",
       "6     Mujahid\n",
       "dtype: object"
      ]
     },
     "execution_count": 66,
     "metadata": {},
     "output_type": "execute_result"
    }
   ],
   "source": [
    "list2 = [1,45,6,3,6]\n",
    "x = pd.Series(data=list1,index=list2)\n",
    "x"
   ]
  },
  {
   "cell_type": "markdown",
   "id": "c24245b7",
   "metadata": {},
   "source": [
    "##  First use of Index (Identification)\n"
   ]
  },
  {
   "cell_type": "markdown",
   "id": "b9bb7e09",
   "metadata": {},
   "source": [
    "-> Since every data value of a series object has an associated index (integer or string). So we can use this index/label to identify or access data value(s)\n",
    "\n",
    "There are three ways to access elements of a series:\n",
    "\n",
    "- Using s[ ] operator and specifying the index (integer/label)\n",
    "- Using s.loc[ ] method and specifying the index (integer/label)\n",
    "- Using .iloc[ ] method and specify the position (an integer value from 0 to length-1). It also support negative indexing, the last element can be accessed by an index of -1"
   ]
  },
  {
   "cell_type": "code",
   "execution_count": 67,
   "id": "c0e89402",
   "metadata": {},
   "outputs": [
    {
     "data": {
      "text/plain": [
       "1        Rauf\n",
       "45       Arif\n",
       "6        Maaz\n",
       "3      Hadeed\n",
       "6     Mujahid\n",
       "dtype: object"
      ]
     },
     "execution_count": 67,
     "metadata": {},
     "output_type": "execute_result"
    }
   ],
   "source": [
    "x"
   ]
  },
  {
   "cell_type": "code",
   "execution_count": 68,
   "id": "80fe75dc",
   "metadata": {},
   "outputs": [
    {
     "data": {
      "text/plain": [
       "'Arif'"
      ]
     },
     "execution_count": 68,
     "metadata": {},
     "output_type": "execute_result"
    }
   ],
   "source": [
    "x[45]"
   ]
  },
  {
   "cell_type": "code",
   "execution_count": 69,
   "id": "e56f367e",
   "metadata": {},
   "outputs": [
    {
     "data": {
      "text/plain": [
       "'Rauf'"
      ]
     },
     "execution_count": 69,
     "metadata": {},
     "output_type": "execute_result"
    }
   ],
   "source": [
    "x[1]\n",
    "# Subscript operator do not work on position"
   ]
  },
  {
   "cell_type": "code",
   "execution_count": 70,
   "id": "dbedcc81",
   "metadata": {},
   "outputs": [
    {
     "data": {
      "text/plain": [
       "6       Maaz\n",
       "6    Mujahid\n",
       "dtype: object"
      ]
     },
     "execution_count": 70,
     "metadata": {},
     "output_type": "execute_result"
    }
   ],
   "source": [
    "x.loc[6]\n",
    "# loc method do not work on position\n",
    "#x.loc[0] # will raise an error because index 0 do not exist"
   ]
  },
  {
   "cell_type": "code",
   "execution_count": 71,
   "id": "1db3a484",
   "metadata": {},
   "outputs": [
    {
     "data": {
      "text/plain": [
       "'Hadeed'"
      ]
     },
     "execution_count": 71,
     "metadata": {},
     "output_type": "execute_result"
    }
   ],
   "source": [
    "# The iloc method is passed position and not index\n",
    "x.iloc[3]"
   ]
  },
  {
   "cell_type": "code",
   "execution_count": 73,
   "id": "245b65f7",
   "metadata": {},
   "outputs": [
    {
     "data": {
      "text/plain": [
       "'Arif'"
      ]
     },
     "execution_count": 73,
     "metadata": {},
     "output_type": "execute_result"
    }
   ],
   "source": [
    "x.iloc[1]"
   ]
  },
  {
   "cell_type": "markdown",
   "id": "1af4bee0",
   "metadata": {},
   "source": [
    "#### Fancy Indexing"
   ]
  },
  {
   "cell_type": "code",
   "execution_count": 75,
   "id": "5630d10b",
   "metadata": {},
   "outputs": [
    {
     "data": {
      "text/plain": [
       "45    Arif\n",
       "1     Rauf\n",
       "dtype: object"
      ]
     },
     "execution_count": 75,
     "metadata": {},
     "output_type": "execute_result"
    }
   ],
   "source": [
    "# Can access multiple values by specifying a list of indices\n",
    "x[[45, 1]]"
   ]
  },
  {
   "cell_type": "code",
   "execution_count": 76,
   "id": "6a613b78",
   "metadata": {},
   "outputs": [
    {
     "data": {
      "text/plain": [
       "1     Rauf\n",
       "45    Arif\n",
       "dtype: object"
      ]
     },
     "execution_count": 76,
     "metadata": {},
     "output_type": "execute_result"
    }
   ],
   "source": [
    "# Can access multiple values by specifying a list of indices\n",
    "x.loc[[1, 45]]"
   ]
  },
  {
   "cell_type": "code",
   "execution_count": 77,
   "id": "eb8f2a4e",
   "metadata": {},
   "outputs": [
    {
     "data": {
      "text/plain": [
       "3    Hadeed\n",
       "1      Rauf\n",
       "dtype: object"
      ]
     },
     "execution_count": 77,
     "metadata": {},
     "output_type": "execute_result"
    }
   ],
   "source": [
    "# Can access multiple values by specifying list of positions\n",
    "x.iloc[[3, 0]]"
   ]
  },
  {
   "cell_type": "code",
   "execution_count": 78,
   "id": "9380f1ca",
   "metadata": {},
   "outputs": [
    {
     "data": {
      "text/plain": [
       "'Mujahid'"
      ]
     },
     "execution_count": 78,
     "metadata": {},
     "output_type": "execute_result"
    }
   ],
   "source": [
    "x.iloc[-1]"
   ]
  },
  {
   "cell_type": "code",
   "execution_count": 79,
   "id": "465dadde",
   "metadata": {},
   "outputs": [
    {
     "data": {
      "text/plain": [
       "num1       Rauf\n",
       "num2       Arif\n",
       "num3       Maaz\n",
       "num4     Hadeed\n",
       "num5    Mujahid\n",
       "dtype: object"
      ]
     },
     "execution_count": 79,
     "metadata": {},
     "output_type": "execute_result"
    }
   ],
   "source": [
    "list1 = ['Rauf', 'Arif', 'Maaz', 'Hadeed', 'Mujahid']\n",
    "indices = ['num1', 'num2', 'num3', 'num4', 'num5']\n",
    "s = pd.Series(data=list1, index=indices)\n",
    "s"
   ]
  },
  {
   "cell_type": "code",
   "execution_count": 80,
   "id": "5b69e7aa",
   "metadata": {},
   "outputs": [
    {
     "data": {
      "text/plain": [
       "'Hadeed'"
      ]
     },
     "execution_count": 80,
     "metadata": {},
     "output_type": "execute_result"
    }
   ],
   "source": [
    "s['num4']"
   ]
  },
  {
   "cell_type": "code",
   "execution_count": 82,
   "id": "2d4dbb4f",
   "metadata": {},
   "outputs": [
    {
     "data": {
      "text/plain": [
       "'Hadeed'"
      ]
     },
     "execution_count": 82,
     "metadata": {},
     "output_type": "execute_result"
    }
   ],
   "source": [
    "s[3]"
   ]
  },
  {
   "cell_type": "code",
   "execution_count": 83,
   "id": "b2effb37",
   "metadata": {},
   "outputs": [
    {
     "data": {
      "text/plain": [
       "'Arif'"
      ]
     },
     "execution_count": 83,
     "metadata": {},
     "output_type": "execute_result"
    }
   ],
   "source": [
    "s.loc['num2']"
   ]
  },
  {
   "cell_type": "code",
   "execution_count": 86,
   "id": "3c60ea43",
   "metadata": {},
   "outputs": [],
   "source": [
    "#s.loc[2]\n",
    "#Does not work on positional index"
   ]
  },
  {
   "cell_type": "code",
   "execution_count": 88,
   "id": "40cb5b31",
   "metadata": {},
   "outputs": [
    {
     "data": {
      "text/plain": [
       "'Hadeed'"
      ]
     },
     "execution_count": 88,
     "metadata": {},
     "output_type": "execute_result"
    }
   ],
   "source": [
    "#s.iloc['num1']\n",
    "# Will not work for literal index\n",
    "s.iloc[3]"
   ]
  },
  {
   "cell_type": "code",
   "execution_count": 89,
   "id": "f50d2b39",
   "metadata": {},
   "outputs": [
    {
     "data": {
      "text/plain": [
       "'Mujahid'"
      ]
     },
     "execution_count": 89,
     "metadata": {},
     "output_type": "execute_result"
    }
   ],
   "source": [
    "s.iloc[-1]"
   ]
  },
  {
   "cell_type": "markdown",
   "id": "97b0b493",
   "metadata": {},
   "source": [
    "## Second use of Index (Selection)"
   ]
  },
  {
   "cell_type": "markdown",
   "id": "a54e2c8f",
   "metadata": {},
   "source": [
    "A series can be sliced using : symbol, which returns a subset of a series object (values with corresponding indices).\n",
    "\n",
    "There are three arguments of slice object [[start]:[stop][:step]], and all are optional\n",
    "\n",
    "The slice object can be used in three ways to slice a Pandas Series object:\n",
    "\n",
    "- Using s[ ] operator and specifying the index (integer/label)\n",
    "- Using s.loc[ ] method and specifying the index (integer/label)\n",
    "- Using .iloc method and specify the position (an integer value from 0 to length-1). It also support negative indexing, the last element can be accessed by an index of -1\n",
    "\n",
    "Keep following points in mind:\n",
    "\n",
    "- The stop argument is NOT inclusive for s[] for integer indices, while it is inclusive for string indices.\n",
    "- The stop argument is inclusive for s.loc[] for both integer and label indices.\n",
    "- The stop argument is NOT inclusive for s.iloc[] being position based.\n",
    ">Note: Once you slice a Pandas series, you get a view of the original object, which is similar to shallow copy. So if you modify an element in original series object, the change will also be visible in the other series object.\n",
    "\n",
    "Selection/Filtering/Subsetting of Series object having Integer indices"
   ]
  },
  {
   "cell_type": "code",
   "execution_count": 91,
   "id": "8929cb04",
   "metadata": {},
   "outputs": [
    {
     "data": {
      "text/plain": [
       "5         Rauf\n",
       "10        Arif\n",
       "15        Maaz\n",
       "20      Hadeed\n",
       "25     Mujahid\n",
       "32    kakamana\n",
       "56     Hanzala\n",
       "dtype: object"
      ]
     },
     "execution_count": 91,
     "metadata": {},
     "output_type": "execute_result"
    }
   ],
   "source": [
    "list1 = ['Rauf', 'Arif', 'Maaz', 'Hadeed', 'Mujahid','kakamana','Hanzala']\n",
    "indices = [5, 10, 15, 20, 25,32,56]\n",
    "s = pd.Series(data=list1, index=indices)\n",
    "s"
   ]
  },
  {
   "cell_type": "code",
   "execution_count": 95,
   "id": "e118a2b8",
   "metadata": {},
   "outputs": [
    {
     "data": {
      "text/plain": [
       "32    kakamana\n",
       "56     Hanzala\n",
       "dtype: object"
      ]
     },
     "execution_count": 95,
     "metadata": {},
     "output_type": "execute_result"
    }
   ],
   "source": [
    "s[5:25]"
   ]
  },
  {
   "cell_type": "code",
   "execution_count": 98,
   "id": "d4b1082b",
   "metadata": {},
   "outputs": [
    {
     "name": "stdout",
     "output_type": "stream",
     "text": [
      "10      Arif\n",
      "15      Maaz\n",
      "20    Hadeed\n",
      "dtype: object\n"
     ]
    },
    {
     "data": {
      "text/plain": [
       "Series([], dtype: object)"
      ]
     },
     "execution_count": 98,
     "metadata": {},
     "output_type": "execute_result"
    }
   ],
   "source": [
    "# The subscript operator considers the slice object as positional index and not as the actual indices \n",
    "# (if we have integer indices)\n",
    "# The `stop` argument is NOT inclusive for `s[]` for integer indices\n",
    "print(s[1:4])\n",
    "s[15:25]"
   ]
  },
  {
   "cell_type": "code",
   "execution_count": 99,
   "id": "a56da253",
   "metadata": {},
   "outputs": [
    {
     "data": {
      "text/plain": [
       "5     Rauf\n",
       "10    Arif\n",
       "15    Maaz\n",
       "dtype: object"
      ]
     },
     "execution_count": 99,
     "metadata": {},
     "output_type": "execute_result"
    }
   ],
   "source": [
    "#The loc[] method considers the slice object as actual indices and not as positional indices\n",
    "# The stop argument is inclusive for `s.loc[]` for both integer and label indices\n",
    "s.loc[5:15]\n"
   ]
  },
  {
   "cell_type": "code",
   "execution_count": 100,
   "id": "541507a1",
   "metadata": {},
   "outputs": [
    {
     "data": {
      "text/plain": [
       "10      Arif\n",
       "15      Maaz\n",
       "20    Hadeed\n",
       "dtype: object"
      ]
     },
     "execution_count": 100,
     "metadata": {},
     "output_type": "execute_result"
    }
   ],
   "source": [
    "# The iloc[] method considers the slice object as positional index and not as the actual indices\n",
    "# The `stop` argument is NOT inclusive for `s.iloc[]` being position based\n",
    "s.iloc[1:4]\n"
   ]
  },
  {
   "cell_type": "code",
   "execution_count": 101,
   "id": "32427ba1",
   "metadata": {},
   "outputs": [
    {
     "data": {
      "text/plain": [
       "num1       Rauf\n",
       "num2       Arif\n",
       "num3       Maaz\n",
       "num4     Hadeed\n",
       "num5    Mujahid\n",
       "num6       Umar\n",
       "num7     Mirsab\n",
       "num8       Taha\n",
       "num9    Hanzala\n",
       "dtype: object"
      ]
     },
     "execution_count": 101,
     "metadata": {},
     "output_type": "execute_result"
    }
   ],
   "source": [
    "list1 = ['Rauf', 'Arif', 'Maaz', 'Hadeed', 'Mujahid','Umar','Mirsab','Taha','Hanzala']\n",
    "indices = ['num1', 'num2', 'num3', 'num4', 'num5','num6','num7','num8','num9']\n",
    "s = pd.Series(data=list1, index=indices)\n",
    "s"
   ]
  },
  {
   "cell_type": "code",
   "execution_count": 102,
   "id": "8227675d",
   "metadata": {},
   "outputs": [
    {
     "data": {
      "text/plain": [
       "num2       Arif\n",
       "num3       Maaz\n",
       "num4     Hadeed\n",
       "num5    Mujahid\n",
       "num6       Umar\n",
       "num7     Mirsab\n",
       "num8       Taha\n",
       "num9    Hanzala\n",
       "dtype: object"
      ]
     },
     "execution_count": 102,
     "metadata": {},
     "output_type": "execute_result"
    }
   ],
   "source": [
    "s['num2':'num9']"
   ]
  },
  {
   "cell_type": "code",
   "execution_count": 103,
   "id": "76ffdb46",
   "metadata": {},
   "outputs": [
    {
     "data": {
      "text/plain": [
       "num2      Arif\n",
       "num4    Hadeed\n",
       "num6      Umar\n",
       "num8      Taha\n",
       "dtype: object"
      ]
     },
     "execution_count": 103,
     "metadata": {},
     "output_type": "execute_result"
    }
   ],
   "source": [
    "s['num2':'num9':2]"
   ]
  },
  {
   "cell_type": "code",
   "execution_count": 104,
   "id": "6b0b8a9e",
   "metadata": {},
   "outputs": [
    {
     "data": {
      "text/plain": [
       "num3       Maaz\n",
       "num4     Hadeed\n",
       "num5    Mujahid\n",
       "dtype: object"
      ]
     },
     "execution_count": 104,
     "metadata": {},
     "output_type": "execute_result"
    }
   ],
   "source": [
    "s[2:5]"
   ]
  },
  {
   "cell_type": "code",
   "execution_count": 105,
   "id": "9871c10a",
   "metadata": {},
   "outputs": [
    {
     "data": {
      "text/plain": [
       "num3       Maaz\n",
       "num4     Hadeed\n",
       "num5    Mujahid\n",
       "num6       Umar\n",
       "num7     Mirsab\n",
       "num8       Taha\n",
       "num9    Hanzala\n",
       "dtype: object"
      ]
     },
     "execution_count": 105,
     "metadata": {},
     "output_type": "execute_result"
    }
   ],
   "source": [
    "s.loc['num3':'num9']"
   ]
  },
  {
   "cell_type": "code",
   "execution_count": 106,
   "id": "25405ca8",
   "metadata": {},
   "outputs": [
    {
     "data": {
      "text/plain": [
       "num1      Rauf\n",
       "num4    Hadeed\n",
       "dtype: object"
      ]
     },
     "execution_count": 106,
     "metadata": {},
     "output_type": "execute_result"
    }
   ],
   "source": [
    "s.loc['num1':'num6':3]"
   ]
  },
  {
   "cell_type": "code",
   "execution_count": 108,
   "id": "d62fd7bc",
   "metadata": {},
   "outputs": [
    {
     "data": {
      "text/plain": [
       "num2      Arif\n",
       "num4    Hadeed\n",
       "dtype: object"
      ]
     },
     "execution_count": 108,
     "metadata": {},
     "output_type": "execute_result"
    }
   ],
   "source": [
    "s.iloc[1:5:2]"
   ]
  },
  {
   "cell_type": "markdown",
   "id": "8c1fe613",
   "metadata": {},
   "source": [
    "## Third use of Index (Alignment)"
   ]
  },
  {
   "cell_type": "code",
   "execution_count": 113,
   "id": "37844c52",
   "metadata": {},
   "outputs": [],
   "source": [
    "list1 = [1,3,5,7,9];\n",
    "list2 = [2,4,6,8,10];\n",
    "s1 = pd.Series(data=list1)\n",
    "s2 = pd.Series(data=list2)"
   ]
  },
  {
   "cell_type": "code",
   "execution_count": 114,
   "id": "c7aa2281",
   "metadata": {},
   "outputs": [],
   "source": [
    "s3=s1+s2"
   ]
  },
  {
   "cell_type": "code",
   "execution_count": 115,
   "id": "6d156748",
   "metadata": {},
   "outputs": [
    {
     "data": {
      "text/plain": [
       "0     3\n",
       "1     7\n",
       "2    11\n",
       "3    15\n",
       "4    19\n",
       "dtype: int64"
      ]
     },
     "execution_count": 115,
     "metadata": {},
     "output_type": "execute_result"
    }
   ],
   "source": [
    "s3"
   ]
  },
  {
   "cell_type": "code",
   "execution_count": 116,
   "id": "324ac7d9",
   "metadata": {},
   "outputs": [],
   "source": [
    "list1 = [6,9,7,5]\n",
    "index1 = [0,1,2,3]\n",
    "list2 = [8,6,2,1]\n",
    "index2 = [0,2,3,5]\n",
    "s1 = pd.Series(data=list1, index=index1)\n",
    "s2 = pd.Series(data=list2, index=index2)"
   ]
  },
  {
   "cell_type": "code",
   "execution_count": 117,
   "id": "0410d297",
   "metadata": {},
   "outputs": [
    {
     "data": {
      "text/plain": [
       "0    6\n",
       "1    9\n",
       "2    7\n",
       "3    5\n",
       "dtype: int64"
      ]
     },
     "execution_count": 117,
     "metadata": {},
     "output_type": "execute_result"
    }
   ],
   "source": [
    "s1"
   ]
  },
  {
   "cell_type": "code",
   "execution_count": 118,
   "id": "4d28f0aa",
   "metadata": {},
   "outputs": [
    {
     "data": {
      "text/plain": [
       "0    8\n",
       "2    6\n",
       "3    2\n",
       "5    1\n",
       "dtype: int64"
      ]
     },
     "execution_count": 118,
     "metadata": {},
     "output_type": "execute_result"
    }
   ],
   "source": [
    "s2"
   ]
  },
  {
   "cell_type": "code",
   "execution_count": 119,
   "id": "4cf7d858",
   "metadata": {},
   "outputs": [],
   "source": [
    "s3=s1+s2"
   ]
  },
  {
   "cell_type": "code",
   "execution_count": 120,
   "id": "a24d5143",
   "metadata": {},
   "outputs": [
    {
     "data": {
      "text/plain": [
       "0    14.0\n",
       "1     NaN\n",
       "2    13.0\n",
       "3     7.0\n",
       "5     NaN\n",
       "dtype: float64"
      ]
     },
     "execution_count": 120,
     "metadata": {},
     "output_type": "execute_result"
    }
   ],
   "source": [
    "s3"
   ]
  },
  {
   "cell_type": "code",
   "execution_count": 121,
   "id": "5f003b7b",
   "metadata": {},
   "outputs": [],
   "source": [
    "#Problem: While performing mathematical operations on series having mismatched indices, all missing values are filled in with NaN by default.\n"
   ]
  },
  {
   "cell_type": "code",
   "execution_count": 123,
   "id": "61905d97",
   "metadata": {},
   "outputs": [
    {
     "data": {
      "text/plain": [
       "0    14.0\n",
       "1     9.0\n",
       "2    13.0\n",
       "3     7.0\n",
       "5     1.0\n",
       "dtype: float64"
      ]
     },
     "execution_count": 123,
     "metadata": {},
     "output_type": "execute_result"
    }
   ],
   "source": [
    "s1.add(s2,fill_value=0)"
   ]
  },
  {
   "cell_type": "markdown",
   "id": "01c7709d",
   "metadata": {},
   "source": [
    "### Boolean/ Fancy indexing"
   ]
  },
  {
   "cell_type": "code",
   "execution_count": 124,
   "id": "040efbd0",
   "metadata": {},
   "outputs": [
    {
     "name": "stdout",
     "output_type": "stream",
     "text": [
      "3    40\n",
      "4    50\n",
      "dtype: int64\n"
     ]
    }
   ],
   "source": [
    "# Create a Pandas Series\n",
    "my_series = pd.Series([10, 20, 30, 40, 50])\n",
    "\n",
    "# Use boolean indexing to select values from the Series\n",
    "selected_values = my_series[my_series > 30]\n",
    "\n",
    "# Print the selected values\n",
    "print(selected_values)\n"
   ]
  },
  {
   "cell_type": "markdown",
   "id": "34249efb",
   "metadata": {},
   "source": [
    "Create a Pandas Series of the first 20 positive integers. Use fancy indexing to select every third integer from the Series."
   ]
  },
  {
   "cell_type": "code",
   "execution_count": 127,
   "id": "9301188b",
   "metadata": {},
   "outputs": [
    {
     "data": {
      "text/plain": [
       "0      0\n",
       "3      3\n",
       "6      6\n",
       "9      9\n",
       "12    12\n",
       "15    15\n",
       "18    18\n",
       "dtype: int64"
      ]
     },
     "execution_count": 127,
     "metadata": {},
     "output_type": "execute_result"
    }
   ],
   "source": [
    "s=pd.Series(data=np.arange(0,21))\n",
    "s[::3]"
   ]
  },
  {
   "cell_type": "markdown",
   "id": "14ee6d86",
   "metadata": {},
   "source": [
    "Create a Pandas Series containing the heights (in inches) of a group of people. Use fancy indexing to select the heights of the people who are taller than 6 feet."
   ]
  },
  {
   "cell_type": "code",
   "execution_count": 130,
   "id": "90985fda",
   "metadata": {},
   "outputs": [
    {
     "data": {
      "text/plain": [
       "3     76\n",
       "4     45\n",
       "5     23\n",
       "6     64\n",
       "7     23\n",
       "8     98\n",
       "9     65\n",
       "10    32\n",
       "12    23\n",
       "dtype: int64"
      ]
     },
     "execution_count": 130,
     "metadata": {},
     "output_type": "execute_result"
    }
   ],
   "source": [
    "s=pd.Series(data=[3,2,5,76,45,23,64,23,98,65,32,15,23])\n",
    "s[s>15]"
   ]
  },
  {
   "cell_type": "markdown",
   "id": "eee9568c",
   "metadata": {},
   "source": [
    "Create a Pandas Series containing the sales figures for a company's products. Use fancy indexing to select the sales figures for the products with the top 5 sales numbers."
   ]
  },
  {
   "cell_type": "code",
   "execution_count": 133,
   "id": "464ecfc9",
   "metadata": {},
   "outputs": [
    {
     "data": {
      "text/plain": [
       "3     98\n",
       "10    89\n",
       "4     68\n",
       "0     65\n",
       "11    65\n",
       "dtype: int64"
      ]
     },
     "execution_count": 133,
     "metadata": {},
     "output_type": "execute_result"
    }
   ],
   "source": [
    "s=pd.Series(data=[65,34,26,98,68,50,46,29,26,64,89,65,64,60,24,30])\n",
    "s.nlargest(5)"
   ]
  },
  {
   "cell_type": "markdown",
   "id": "f3c29a55",
   "metadata": {},
   "source": [
    "Create a Pandas Series containing the grades of a group of students. Use fancy indexing to select the grades of the students who scored higher than 90%."
   ]
  },
  {
   "cell_type": "code",
   "execution_count": 132,
   "id": "697bf26b",
   "metadata": {},
   "outputs": [
    {
     "data": {
      "text/plain": [
       "6    95\n",
       "8    95\n",
       "9    91\n",
       "dtype: int64"
      ]
     },
     "execution_count": 132,
     "metadata": {},
     "output_type": "execute_result"
    }
   ],
   "source": [
    "s=pd.Series(data=[45,48,70,60,0,89,95,70,95,91,25])\n",
    "s[s>90]"
   ]
  },
  {
   "cell_type": "code",
   "execution_count": 134,
   "id": "7d5afbff",
   "metadata": {},
   "outputs": [
    {
     "data": {
      "text/html": [
       "<div>\n",
       "<style scoped>\n",
       "    .dataframe tbody tr th:only-of-type {\n",
       "        vertical-align: middle;\n",
       "    }\n",
       "\n",
       "    .dataframe tbody tr th {\n",
       "        vertical-align: top;\n",
       "    }\n",
       "\n",
       "    .dataframe thead th {\n",
       "        text-align: right;\n",
       "    }\n",
       "</style>\n",
       "<table border=\"1\" class=\"dataframe\">\n",
       "  <thead>\n",
       "    <tr style=\"text-align: right;\">\n",
       "      <th></th>\n",
       "      <th>index</th>\n",
       "      <th>0</th>\n",
       "    </tr>\n",
       "  </thead>\n",
       "  <tbody>\n",
       "    <tr>\n",
       "      <th>0</th>\n",
       "      <td>0</td>\n",
       "      <td>65</td>\n",
       "    </tr>\n",
       "    <tr>\n",
       "      <th>1</th>\n",
       "      <td>1</td>\n",
       "      <td>34</td>\n",
       "    </tr>\n",
       "    <tr>\n",
       "      <th>2</th>\n",
       "      <td>2</td>\n",
       "      <td>26</td>\n",
       "    </tr>\n",
       "    <tr>\n",
       "      <th>3</th>\n",
       "      <td>3</td>\n",
       "      <td>98</td>\n",
       "    </tr>\n",
       "    <tr>\n",
       "      <th>4</th>\n",
       "      <td>4</td>\n",
       "      <td>68</td>\n",
       "    </tr>\n",
       "    <tr>\n",
       "      <th>5</th>\n",
       "      <td>5</td>\n",
       "      <td>50</td>\n",
       "    </tr>\n",
       "    <tr>\n",
       "      <th>6</th>\n",
       "      <td>6</td>\n",
       "      <td>46</td>\n",
       "    </tr>\n",
       "    <tr>\n",
       "      <th>7</th>\n",
       "      <td>7</td>\n",
       "      <td>29</td>\n",
       "    </tr>\n",
       "    <tr>\n",
       "      <th>8</th>\n",
       "      <td>8</td>\n",
       "      <td>26</td>\n",
       "    </tr>\n",
       "    <tr>\n",
       "      <th>9</th>\n",
       "      <td>9</td>\n",
       "      <td>64</td>\n",
       "    </tr>\n",
       "    <tr>\n",
       "      <th>10</th>\n",
       "      <td>10</td>\n",
       "      <td>89</td>\n",
       "    </tr>\n",
       "    <tr>\n",
       "      <th>11</th>\n",
       "      <td>11</td>\n",
       "      <td>65</td>\n",
       "    </tr>\n",
       "    <tr>\n",
       "      <th>12</th>\n",
       "      <td>12</td>\n",
       "      <td>64</td>\n",
       "    </tr>\n",
       "    <tr>\n",
       "      <th>13</th>\n",
       "      <td>13</td>\n",
       "      <td>60</td>\n",
       "    </tr>\n",
       "    <tr>\n",
       "      <th>14</th>\n",
       "      <td>14</td>\n",
       "      <td>24</td>\n",
       "    </tr>\n",
       "    <tr>\n",
       "      <th>15</th>\n",
       "      <td>15</td>\n",
       "      <td>30</td>\n",
       "    </tr>\n",
       "  </tbody>\n",
       "</table>\n",
       "</div>"
      ],
      "text/plain": [
       "    index   0\n",
       "0       0  65\n",
       "1       1  34\n",
       "2       2  26\n",
       "3       3  98\n",
       "4       4  68\n",
       "5       5  50\n",
       "6       6  46\n",
       "7       7  29\n",
       "8       8  26\n",
       "9       9  64\n",
       "10     10  89\n",
       "11     11  65\n",
       "12     12  64\n",
       "13     13  60\n",
       "14     14  24\n",
       "15     15  30"
      ]
     },
     "execution_count": 134,
     "metadata": {},
     "output_type": "execute_result"
    }
   ],
   "source": [
    "s.reset_index()"
   ]
  },
  {
   "cell_type": "code",
   "execution_count": 141,
   "id": "1c9360e3",
   "metadata": {},
   "outputs": [
    {
     "data": {
      "text/plain": [
       "68"
      ]
     },
     "execution_count": 141,
     "metadata": {},
     "output_type": "execute_result"
    }
   ],
   "source": [
    "#s.pop(index) is passed an index and it returns the data item at the index and removes it from series\n",
    "s.pop(4)"
   ]
  },
  {
   "cell_type": "code",
   "execution_count": 137,
   "id": "1ee33b53",
   "metadata": {},
   "outputs": [
    {
     "data": {
      "text/plain": [
       "1     34\n",
       "2     26\n",
       "3     98\n",
       "4     68\n",
       "5     50\n",
       "6     46\n",
       "7     29\n",
       "8     26\n",
       "9     64\n",
       "10    89\n",
       "11    65\n",
       "12    64\n",
       "13    60\n",
       "14    24\n",
       "15    30\n",
       "dtype: int64"
      ]
     },
     "execution_count": 137,
     "metadata": {},
     "output_type": "execute_result"
    }
   ],
   "source": [
    "s"
   ]
  },
  {
   "cell_type": "code",
   "execution_count": 142,
   "id": "8ac5f1d2",
   "metadata": {},
   "outputs": [
    {
     "data": {
      "text/plain": [
       "1     34\n",
       "3     98\n",
       "5     50\n",
       "6     46\n",
       "7     29\n",
       "8     26\n",
       "9     64\n",
       "10    89\n",
       "11    65\n",
       "12    64\n",
       "13    60\n",
       "14    24\n",
       "15    30\n",
       "dtype: int64"
      ]
     },
     "execution_count": 142,
     "metadata": {},
     "output_type": "execute_result"
    }
   ],
   "source": [
    "#s.drop(indexes) is passed one or a list of indices and returns a series of the data items. Series remains unchanged unless the inplace = True argument is passed\n",
    "s.drop(2)"
   ]
  },
  {
   "cell_type": "code",
   "execution_count": 143,
   "id": "b3dfa1af",
   "metadata": {},
   "outputs": [
    {
     "name": "stderr",
     "output_type": "stream",
     "text": [
      "/tmp/ipykernel_20631/2569308658.py:2: FutureWarning: The series.append method is deprecated and will be removed from pandas in a future version. Use pandas.concat instead.\n",
      "  s1.append(s2)\n"
     ]
    },
    {
     "data": {
      "text/plain": [
       "0    6\n",
       "1    9\n",
       "2    7\n",
       "3    5\n",
       "0    8\n",
       "2    6\n",
       "3    2\n",
       "5    1\n",
       "dtype: int64"
      ]
     },
     "execution_count": 143,
     "metadata": {},
     "output_type": "execute_result"
    }
   ],
   "source": [
    "#s1.append(s2, ignore_index=False, verify_integrity=False) is used to concatenate two series and return the concatenated series, original series remain unchanged\n",
    "s1.append(s2)"
   ]
  },
  {
   "cell_type": "markdown",
   "id": "5bd33225",
   "metadata": {},
   "source": [
    "## Pandas Series vs NumPy 1-D Arrays\n",
    "- In a series object we can define our own labeled index to access elements of an array. These can be numbers or strings. NumPy arrays are accessed by their integer position using numbers only.\n",
    "- In a series object the elements can be indexed in descending order also. In NumPy arrays, the indexing starts  with zero for the first element and the index is fixed.\n",
    "- While performing arithmetic operations on series having misaligned indices, NaN or missing values may be generated. In NumPy arrays, the concept of broadcasting exist and there is no concept of NaN values. While performing arithmetic on incompatible numPy arrays the operation fails.\n",
    "- Series require more memory. NumPy arrays occupies lesser memory."
   ]
  },
  {
   "cell_type": "code",
   "execution_count": null,
   "id": "74f7831d",
   "metadata": {},
   "outputs": [],
   "source": []
  }
 ],
 "metadata": {
  "kernelspec": {
   "display_name": "Python 3 (ipykernel)",
   "language": "python",
   "name": "python3"
  },
  "language_info": {
   "codemirror_mode": {
    "name": "ipython",
    "version": 3
   },
   "file_extension": ".py",
   "mimetype": "text/x-python",
   "name": "python",
   "nbconvert_exporter": "python",
   "pygments_lexer": "ipython3",
   "version": "3.9.12"
  }
 },
 "nbformat": 4,
 "nbformat_minor": 5
}
