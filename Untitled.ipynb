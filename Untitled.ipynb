{
  "cells": [
    {
      "cell_type": "markdown",
      "metadata": {
        "id": "view-in-github",
        "colab_type": "text"
      },
      "source": [
        "<a href=\"https://colab.research.google.com/github/rida-manzoor/Pandas/blob/rida-manzoor-patch-1/Untitled.ipynb\" target=\"_parent\"><img src=\"https://colab.research.google.com/assets/colab-badge.svg\" alt=\"Open In Colab\"/></a>"
      ]
    },
    {
      "cell_type": "code",
      "execution_count": null,
      "id": "e2462599",
      "metadata": {
        "id": "e2462599"
      },
      "outputs": [],
      "source": [
        "import pandas as pd"
      ]
    },
    {
      "cell_type": "code",
      "execution_count": null,
      "id": "c8b6843f",
      "metadata": {
        "id": "c8b6843f"
      },
      "outputs": [],
      "source": [
        "import numpy as np\n",
        "import seaborn as sns\n",
        "import matplotlib.pyplot as plt"
      ]
    },
    {
      "cell_type": "markdown",
      "id": "c3b2b308",
      "metadata": {
        "id": "c3b2b308"
      },
      "source": [
        "## Loading data"
      ]
    },
    {
      "cell_type": "code",
      "execution_count": null,
      "id": "c8ad2dad",
      "metadata": {
        "id": "c8ad2dad"
      },
      "outputs": [],
      "source": [
        "df = pd.read_csv(\"/content/kaggle_bot_accounts.csv\")"
      ]
    },
    {
      "cell_type": "markdown",
      "id": "49fd0a82",
      "metadata": {
        "id": "49fd0a82"
      },
      "source": [
        "## Displaying data"
      ]
    },
    {
      "cell_type": "code",
      "source": [
        "from google.colab import drive\n",
        "drive.mount('/content/drive')"
      ],
      "metadata": {
        "colab": {
          "base_uri": "https://localhost:8080/"
        },
        "id": "iqZSOxe9WkHY",
        "outputId": "cb2b554f-c851-4568-9c38-96b5231b2a44"
      },
      "id": "iqZSOxe9WkHY",
      "execution_count": null,
      "outputs": [
        {
          "output_type": "stream",
          "name": "stdout",
          "text": [
            "Mounted at /content/drive\n"
          ]
        }
      ]
    },
    {
      "cell_type": "code",
      "execution_count": null,
      "id": "e2de8fcd",
      "metadata": {
        "id": "e2de8fcd",
        "outputId": "e9268e59-283f-48f6-d94d-2181126e030a"
      },
      "outputs": [
        {
          "data": {
            "text/html": [
              "<div>\n",
              "<style scoped>\n",
              "    .dataframe tbody tr th:only-of-type {\n",
              "        vertical-align: middle;\n",
              "    }\n",
              "\n",
              "    .dataframe tbody tr th {\n",
              "        vertical-align: top;\n",
              "    }\n",
              "\n",
              "    .dataframe thead th {\n",
              "        text-align: right;\n",
              "    }\n",
              "</style>\n",
              "<table border=\"1\" class=\"dataframe\">\n",
              "  <thead>\n",
              "    <tr style=\"text-align: right;\">\n",
              "      <th></th>\n",
              "      <th>Unnamed: 0</th>\n",
              "      <th>NAME</th>\n",
              "      <th>GENDER</th>\n",
              "      <th>EMAIL_ID</th>\n",
              "      <th>IS_GLOGIN</th>\n",
              "      <th>FOLLOWER_COUNT</th>\n",
              "      <th>FOLLOWING_COUNT</th>\n",
              "      <th>DATASET_COUNT</th>\n",
              "      <th>CODE_COUNT</th>\n",
              "      <th>DISCUSSION_COUNT</th>\n",
              "      <th>AVG_NB_READ_TIME_MIN</th>\n",
              "      <th>REGISTRATION_IPV4</th>\n",
              "      <th>REGISTRATION_LOCATION</th>\n",
              "      <th>TOTAL_VOTES_GAVE_NB</th>\n",
              "      <th>TOTAL_VOTES_GAVE_DS</th>\n",
              "      <th>TOTAL_VOTES_GAVE_DC</th>\n",
              "      <th>ISBOT</th>\n",
              "    </tr>\n",
              "  </thead>\n",
              "  <tbody>\n",
              "    <tr>\n",
              "      <th>0</th>\n",
              "      <td>0</td>\n",
              "      <td>Johnny KerrThomas</td>\n",
              "      <td>Male</td>\n",
              "      <td>jacksonalan@example.com</td>\n",
              "      <td>False</td>\n",
              "      <td>53.0</td>\n",
              "      <td>87.0</td>\n",
              "      <td>5.0</td>\n",
              "      <td>3.0</td>\n",
              "      <td>124.0</td>\n",
              "      <td>NaN</td>\n",
              "      <td>81.88.75.170</td>\n",
              "      <td>Argentina</td>\n",
              "      <td>16.0</td>\n",
              "      <td>10.0</td>\n",
              "      <td>3.0</td>\n",
              "      <td>NaN</td>\n",
              "    </tr>\n",
              "    <tr>\n",
              "      <th>1</th>\n",
              "      <td>1</td>\n",
              "      <td>Dwayne LarsenLara</td>\n",
              "      <td>Male</td>\n",
              "      <td>calvin80@example.com</td>\n",
              "      <td>True</td>\n",
              "      <td>16.0</td>\n",
              "      <td>67.0</td>\n",
              "      <td>5.0</td>\n",
              "      <td>NaN</td>\n",
              "      <td>26.0</td>\n",
              "      <td>24.97</td>\n",
              "      <td>NaN</td>\n",
              "      <td>New Zealand</td>\n",
              "      <td>14.0</td>\n",
              "      <td>5.0</td>\n",
              "      <td>2.0</td>\n",
              "      <td>NaN</td>\n",
              "    </tr>\n",
              "    <tr>\n",
              "      <th>2</th>\n",
              "      <td>2</td>\n",
              "      <td>NaN</td>\n",
              "      <td>Male</td>\n",
              "      <td>qbrown@example.net</td>\n",
              "      <td>True</td>\n",
              "      <td>44.0</td>\n",
              "      <td>81.0</td>\n",
              "      <td>4.0</td>\n",
              "      <td>17.0</td>\n",
              "      <td>125.0</td>\n",
              "      <td>7.75</td>\n",
              "      <td>159.202.103.178</td>\n",
              "      <td>Costa Rica</td>\n",
              "      <td>16.0</td>\n",
              "      <td>4.0</td>\n",
              "      <td>0.0</td>\n",
              "      <td>False</td>\n",
              "    </tr>\n",
              "    <tr>\n",
              "      <th>3</th>\n",
              "      <td>3</td>\n",
              "      <td>Russell SimmonsPhillips</td>\n",
              "      <td>Male</td>\n",
              "      <td>kimberlywagner@example.com</td>\n",
              "      <td>True</td>\n",
              "      <td>23.0</td>\n",
              "      <td>114.0</td>\n",
              "      <td>5.0</td>\n",
              "      <td>24.0</td>\n",
              "      <td>67.0</td>\n",
              "      <td>13.40</td>\n",
              "      <td>196.11.132.51</td>\n",
              "      <td>Italy</td>\n",
              "      <td>21.0</td>\n",
              "      <td>10.0</td>\n",
              "      <td>1.0</td>\n",
              "      <td>False</td>\n",
              "    </tr>\n",
              "    <tr>\n",
              "      <th>4</th>\n",
              "      <td>4</td>\n",
              "      <td>Jamie WilsonMartinez</td>\n",
              "      <td>Female</td>\n",
              "      <td>shaunbrooks@example.com</td>\n",
              "      <td>False</td>\n",
              "      <td>46.0</td>\n",
              "      <td>112.0</td>\n",
              "      <td>2.0</td>\n",
              "      <td>12.0</td>\n",
              "      <td>63.0</td>\n",
              "      <td>24.83</td>\n",
              "      <td>159.196.199.20</td>\n",
              "      <td>Belgium</td>\n",
              "      <td>10.0</td>\n",
              "      <td>6.0</td>\n",
              "      <td>2.0</td>\n",
              "      <td>False</td>\n",
              "    </tr>\n",
              "    <tr>\n",
              "      <th>...</th>\n",
              "      <td>...</td>\n",
              "      <td>...</td>\n",
              "      <td>...</td>\n",
              "      <td>...</td>\n",
              "      <td>...</td>\n",
              "      <td>...</td>\n",
              "      <td>...</td>\n",
              "      <td>...</td>\n",
              "      <td>...</td>\n",
              "      <td>...</td>\n",
              "      <td>...</td>\n",
              "      <td>...</td>\n",
              "      <td>...</td>\n",
              "      <td>...</td>\n",
              "      <td>...</td>\n",
              "      <td>...</td>\n",
              "      <td>...</td>\n",
              "    </tr>\n",
              "    <tr>\n",
              "      <th>1321183</th>\n",
              "      <td>1321183</td>\n",
              "      <td>Kristen MooreJoseph</td>\n",
              "      <td>Female</td>\n",
              "      <td>penningtondebra@example.net</td>\n",
              "      <td>False</td>\n",
              "      <td>1.0</td>\n",
              "      <td>3.0</td>\n",
              "      <td>0.0</td>\n",
              "      <td>1.0</td>\n",
              "      <td>9.0</td>\n",
              "      <td>0.26</td>\n",
              "      <td>46.209.124.151</td>\n",
              "      <td>United States Minor Outlying Islands</td>\n",
              "      <td>25.0</td>\n",
              "      <td>10.0</td>\n",
              "      <td>NaN</td>\n",
              "      <td>True</td>\n",
              "    </tr>\n",
              "    <tr>\n",
              "      <th>1321184</th>\n",
              "      <td>1321184</td>\n",
              "      <td>Kimberly ThomasGutierrez</td>\n",
              "      <td>Female</td>\n",
              "      <td>kerrycastro@example.com</td>\n",
              "      <td>True</td>\n",
              "      <td>20.0</td>\n",
              "      <td>60.0</td>\n",
              "      <td>6.0</td>\n",
              "      <td>14.0</td>\n",
              "      <td>44.0</td>\n",
              "      <td>23.39</td>\n",
              "      <td>220.247.154.162</td>\n",
              "      <td>Algeria</td>\n",
              "      <td>22.0</td>\n",
              "      <td>10.0</td>\n",
              "      <td>3.0</td>\n",
              "      <td>False</td>\n",
              "    </tr>\n",
              "    <tr>\n",
              "      <th>1321185</th>\n",
              "      <td>1321185</td>\n",
              "      <td>Hector TerryLogan</td>\n",
              "      <td>Male</td>\n",
              "      <td>jonesmisty@example.net</td>\n",
              "      <td>True</td>\n",
              "      <td>20.0</td>\n",
              "      <td>64.0</td>\n",
              "      <td>3.0</td>\n",
              "      <td>24.0</td>\n",
              "      <td>67.0</td>\n",
              "      <td>9.49</td>\n",
              "      <td>150.144.209.44</td>\n",
              "      <td>Croatia</td>\n",
              "      <td>24.0</td>\n",
              "      <td>7.0</td>\n",
              "      <td>0.0</td>\n",
              "      <td>False</td>\n",
              "    </tr>\n",
              "    <tr>\n",
              "      <th>1321186</th>\n",
              "      <td>1321186</td>\n",
              "      <td>William CollinsMartinez</td>\n",
              "      <td>NaN</td>\n",
              "      <td>erin58@example.net</td>\n",
              "      <td>False</td>\n",
              "      <td>0.0</td>\n",
              "      <td>1.0</td>\n",
              "      <td>0.0</td>\n",
              "      <td>0.0</td>\n",
              "      <td>3.0</td>\n",
              "      <td>1.70</td>\n",
              "      <td>146.121.179.46</td>\n",
              "      <td>NaN</td>\n",
              "      <td>14.0</td>\n",
              "      <td>8.0</td>\n",
              "      <td>NaN</td>\n",
              "      <td>True</td>\n",
              "    </tr>\n",
              "    <tr>\n",
              "      <th>1321187</th>\n",
              "      <td>1321187</td>\n",
              "      <td>Susan WilliamsJimenez</td>\n",
              "      <td>Female</td>\n",
              "      <td>NaN</td>\n",
              "      <td>False</td>\n",
              "      <td>0.0</td>\n",
              "      <td>3.0</td>\n",
              "      <td>0.0</td>\n",
              "      <td>NaN</td>\n",
              "      <td>0.0</td>\n",
              "      <td>0.53</td>\n",
              "      <td>118.38.253.89</td>\n",
              "      <td>Cook Islands</td>\n",
              "      <td>24.0</td>\n",
              "      <td>9.0</td>\n",
              "      <td>0.0</td>\n",
              "      <td>True</td>\n",
              "    </tr>\n",
              "  </tbody>\n",
              "</table>\n",
              "<p>1321188 rows × 17 columns</p>\n",
              "</div>"
            ],
            "text/plain": [
              "         Unnamed: 0                      NAME  GENDER  \\\n",
              "0                 0         Johnny KerrThomas    Male   \n",
              "1                 1         Dwayne LarsenLara    Male   \n",
              "2                 2                       NaN    Male   \n",
              "3                 3   Russell SimmonsPhillips    Male   \n",
              "4                 4      Jamie WilsonMartinez  Female   \n",
              "...             ...                       ...     ...   \n",
              "1321183     1321183       Kristen MooreJoseph  Female   \n",
              "1321184     1321184  Kimberly ThomasGutierrez  Female   \n",
              "1321185     1321185         Hector TerryLogan    Male   \n",
              "1321186     1321186   William CollinsMartinez     NaN   \n",
              "1321187     1321187     Susan WilliamsJimenez  Female   \n",
              "\n",
              "                            EMAIL_ID IS_GLOGIN  FOLLOWER_COUNT  \\\n",
              "0            jacksonalan@example.com     False            53.0   \n",
              "1               calvin80@example.com      True            16.0   \n",
              "2                 qbrown@example.net      True            44.0   \n",
              "3         kimberlywagner@example.com      True            23.0   \n",
              "4            shaunbrooks@example.com     False            46.0   \n",
              "...                              ...       ...             ...   \n",
              "1321183  penningtondebra@example.net     False             1.0   \n",
              "1321184      kerrycastro@example.com      True            20.0   \n",
              "1321185       jonesmisty@example.net      True            20.0   \n",
              "1321186           erin58@example.net     False             0.0   \n",
              "1321187                          NaN     False             0.0   \n",
              "\n",
              "         FOLLOWING_COUNT  DATASET_COUNT  CODE_COUNT  DISCUSSION_COUNT  \\\n",
              "0                   87.0            5.0         3.0             124.0   \n",
              "1                   67.0            5.0         NaN              26.0   \n",
              "2                   81.0            4.0        17.0             125.0   \n",
              "3                  114.0            5.0        24.0              67.0   \n",
              "4                  112.0            2.0        12.0              63.0   \n",
              "...                  ...            ...         ...               ...   \n",
              "1321183              3.0            0.0         1.0               9.0   \n",
              "1321184             60.0            6.0        14.0              44.0   \n",
              "1321185             64.0            3.0        24.0              67.0   \n",
              "1321186              1.0            0.0         0.0               3.0   \n",
              "1321187              3.0            0.0         NaN               0.0   \n",
              "\n",
              "         AVG_NB_READ_TIME_MIN REGISTRATION_IPV4  \\\n",
              "0                         NaN      81.88.75.170   \n",
              "1                       24.97               NaN   \n",
              "2                        7.75   159.202.103.178   \n",
              "3                       13.40     196.11.132.51   \n",
              "4                       24.83    159.196.199.20   \n",
              "...                       ...               ...   \n",
              "1321183                  0.26    46.209.124.151   \n",
              "1321184                 23.39   220.247.154.162   \n",
              "1321185                  9.49    150.144.209.44   \n",
              "1321186                  1.70    146.121.179.46   \n",
              "1321187                  0.53     118.38.253.89   \n",
              "\n",
              "                        REGISTRATION_LOCATION  TOTAL_VOTES_GAVE_NB  \\\n",
              "0                                   Argentina                 16.0   \n",
              "1                                 New Zealand                 14.0   \n",
              "2                                  Costa Rica                 16.0   \n",
              "3                                       Italy                 21.0   \n",
              "4                                     Belgium                 10.0   \n",
              "...                                       ...                  ...   \n",
              "1321183  United States Minor Outlying Islands                 25.0   \n",
              "1321184                               Algeria                 22.0   \n",
              "1321185                               Croatia                 24.0   \n",
              "1321186                                   NaN                 14.0   \n",
              "1321187                          Cook Islands                 24.0   \n",
              "\n",
              "         TOTAL_VOTES_GAVE_DS  TOTAL_VOTES_GAVE_DC  ISBOT  \n",
              "0                       10.0                  3.0    NaN  \n",
              "1                        5.0                  2.0    NaN  \n",
              "2                        4.0                  0.0  False  \n",
              "3                       10.0                  1.0  False  \n",
              "4                        6.0                  2.0  False  \n",
              "...                      ...                  ...    ...  \n",
              "1321183                 10.0                  NaN   True  \n",
              "1321184                 10.0                  3.0  False  \n",
              "1321185                  7.0                  0.0  False  \n",
              "1321186                  8.0                  NaN   True  \n",
              "1321187                  9.0                  0.0   True  \n",
              "\n",
              "[1321188 rows x 17 columns]"
            ]
          },
          "execution_count": 4,
          "metadata": {},
          "output_type": "execute_result"
        }
      ],
      "source": [
        "df"
      ]
    },
    {
      "cell_type": "markdown",
      "id": "753d9fac",
      "metadata": {
        "id": "753d9fac"
      },
      "source": [
        "## Review the data set structure and data types"
      ]
    },
    {
      "cell_type": "code",
      "execution_count": null,
      "id": "ff142b17",
      "metadata": {
        "id": "ff142b17",
        "outputId": "fac9ae38-fdd9-4c5f-a367-3ff08959257c"
      },
      "outputs": [
        {
          "name": "stdout",
          "output_type": "stream",
          "text": [
            "<class 'pandas.core.frame.DataFrame'>\n",
            "RangeIndex: 1321188 entries, 0 to 1321187\n",
            "Data columns (total 17 columns):\n",
            " #   Column                 Non-Null Count    Dtype  \n",
            "---  ------                 --------------    -----  \n",
            " 0   Unnamed: 0             1321188 non-null  int64  \n",
            " 1   NAME                   1243024 non-null  object \n",
            " 2   GENDER                 1243309 non-null  object \n",
            " 3   EMAIL_ID               1243374 non-null  object \n",
            " 4   IS_GLOGIN              1243272 non-null  object \n",
            " 5   FOLLOWER_COUNT         1243476 non-null  float64\n",
            " 6   FOLLOWING_COUNT        1242743 non-null  float64\n",
            " 7   DATASET_COUNT          1242621 non-null  float64\n",
            " 8   CODE_COUNT             1243262 non-null  float64\n",
            " 9   DISCUSSION_COUNT       1243466 non-null  float64\n",
            " 10  AVG_NB_READ_TIME_MIN   1242872 non-null  float64\n",
            " 11  REGISTRATION_IPV4      1242859 non-null  object \n",
            " 12  REGISTRATION_LOCATION  1242898 non-null  object \n",
            " 13  TOTAL_VOTES_GAVE_NB    1243483 non-null  float64\n",
            " 14  TOTAL_VOTES_GAVE_DS    1243254 non-null  float64\n",
            " 15  TOTAL_VOTES_GAVE_DC    1243158 non-null  float64\n",
            " 16  ISBOT                  1242688 non-null  object \n",
            "dtypes: float64(9), int64(1), object(7)\n",
            "memory usage: 171.4+ MB\n"
          ]
        }
      ],
      "source": [
        "df.info()"
      ]
    },
    {
      "cell_type": "code",
      "execution_count": null,
      "id": "ed14df3e",
      "metadata": {
        "id": "ed14df3e",
        "outputId": "3727678d-8299-4d12-ee4d-b5db5741aa65"
      },
      "outputs": [
        {
          "data": {
            "text/plain": [
              "(1321188, 17)"
            ]
          },
          "execution_count": 63,
          "metadata": {},
          "output_type": "execute_result"
        }
      ],
      "source": [
        "df.shape"
      ]
    },
    {
      "cell_type": "markdown",
      "id": "b1dda258",
      "metadata": {
        "id": "b1dda258"
      },
      "source": [
        "## Finding the features of data"
      ]
    },
    {
      "cell_type": "code",
      "execution_count": null,
      "id": "beefe19c",
      "metadata": {
        "id": "beefe19c",
        "outputId": "7a77608a-da7c-4e7b-bb24-77ee7bbba240"
      },
      "outputs": [
        {
          "data": {
            "text/plain": [
              "Unnamed: 0               1321188\n",
              "NAME                     1243024\n",
              "GENDER                   1243309\n",
              "EMAIL_ID                 1243374\n",
              "IS_GLOGIN                1243272\n",
              "FOLLOWER_COUNT           1243476\n",
              "FOLLOWING_COUNT          1242743\n",
              "DATASET_COUNT            1242621\n",
              "CODE_COUNT               1243262\n",
              "DISCUSSION_COUNT         1243466\n",
              "AVG_NB_READ_TIME_MIN     1242872\n",
              "REGISTRATION_IPV4        1242859\n",
              "REGISTRATION_LOCATION    1242898\n",
              "TOTAL_VOTES_GAVE_NB      1243483\n",
              "TOTAL_VOTES_GAVE_DS      1243254\n",
              "TOTAL_VOTES_GAVE_DC      1243158\n",
              "ISBOT                    1242688\n",
              "dtype: int64"
            ]
          },
          "execution_count": 6,
          "metadata": {},
          "output_type": "execute_result"
        }
      ],
      "source": [
        "df.count()"
      ]
    },
    {
      "cell_type": "markdown",
      "id": "846a4517",
      "metadata": {
        "id": "846a4517"
      },
      "source": [
        "## Finding the total number of records in data set"
      ]
    },
    {
      "cell_type": "code",
      "execution_count": null,
      "id": "9f81ffff",
      "metadata": {
        "id": "9f81ffff",
        "outputId": "bba16fb3-9a22-46bf-9fed-03b9e4e9246a"
      },
      "outputs": [
        {
          "data": {
            "text/plain": [
              "RangeIndex(start=0, stop=1321188, step=1)"
            ]
          },
          "execution_count": 7,
          "metadata": {},
          "output_type": "execute_result"
        }
      ],
      "source": [
        "df.index"
      ]
    },
    {
      "cell_type": "markdown",
      "id": "2a780d48",
      "metadata": {
        "id": "2a780d48"
      },
      "source": [
        "## Finding distribution of each feature"
      ]
    },
    {
      "cell_type": "code",
      "execution_count": null,
      "id": "12aa10c4",
      "metadata": {
        "colab": {
          "base_uri": "https://localhost:8080/",
          "height": 283
        },
        "id": "12aa10c4",
        "outputId": "07fbfef1-528b-4f7c-884d-c6b19e9c7727"
      },
      "outputs": [
        {
          "output_type": "execute_result",
          "data": {
            "text/plain": [
              "<AxesSubplot:ylabel='Frequency'>"
            ]
          },
          "metadata": {},
          "execution_count": 12
        },
        {
          "output_type": "display_data",
          "data": {
            "text/plain": [
              "<Figure size 432x288 with 1 Axes>"
            ],
            "image/png": "[encoded data removed]"
          },
          "metadata": {
            "needs_background": "light"
          }
        }
      ],
      "source": [
        "df['FOLLOWER_COUNT'].plot(kind='hist')"
      ]
    },
    {
      "cell_type": "code",
      "source": [
        "df['FOLLOWING_COUNT'].plot(kind='hist')"
      ],
      "metadata": {
        "colab": {
          "base_uri": "https://localhost:8080/",
          "height": 282
        },
        "id": "s6H8S78BYOyb",
        "outputId": "de0c7c63-0957-4a32-9a43-2d59e1ac1b7e"
      },
      "id": "s6H8S78BYOyb",
      "execution_count": null,
      "outputs": [
        {
          "output_type": "execute_result",
          "data": {
            "text/plain": [
              "<AxesSubplot:ylabel='Frequency'>"
            ]
          },
          "metadata": {},
          "execution_count": 13
        },
        {
          "output_type": "display_data",
          "data": {
            "text/plain": [
              "<Figure size 432x288 with 1 Axes>"
            ],
            "image/png": "[encoded data removed]"
          },
          "metadata": {
            "needs_background": "light"
          }
        }
      ]
    },
    {
      "cell_type": "markdown",
      "id": "149858d3",
      "metadata": {
        "id": "149858d3"
      },
      "source": [
        "## Checking the unique values different features"
      ]
    },
    {
      "cell_type": "code",
      "execution_count": null,
      "id": "100c4dcd",
      "metadata": {
        "id": "100c4dcd",
        "outputId": "2e984347-2a71-4d21-bd63-1f66ded63c38"
      },
      "outputs": [
        {
          "name": "stdout",
          "output_type": "stream",
          "text": [
            "['Johnny KerrThomas' 'Dwayne LarsenLara' nan ... 'Hector TerryLogan'\n",
            " 'William CollinsMartinez' 'Susan WilliamsJimenez']\n"
          ]
        }
      ],
      "source": [
        "print(df[\"NAME\"].unique())"
      ]
    },
    {
      "cell_type": "code",
      "execution_count": null,
      "id": "19022442",
      "metadata": {
        "id": "19022442",
        "outputId": "da2cef05-7f0d-44a1-fa87-fd5a287c886f"
      },
      "outputs": [
        {
          "name": "stdout",
          "output_type": "stream",
          "text": [
            "1199433\n"
          ]
        }
      ],
      "source": [
        "uniqueValues = df['NAME'].nunique()\n",
        "print(uniqueValues)"
      ]
    },
    {
      "cell_type": "code",
      "execution_count": null,
      "id": "49650628",
      "metadata": {
        "id": "49650628",
        "outputId": "cd2f8e29-bba9-4d9a-c96f-e8ea6fb8a195"
      },
      "outputs": [
        {
          "name": "stdout",
          "output_type": "stream",
          "text": [
            "2\n"
          ]
        }
      ],
      "source": [
        "uniqueValues = df['GENDER'].nunique()\n",
        "print(uniqueValues)"
      ]
    },
    {
      "cell_type": "code",
      "execution_count": null,
      "id": "281997a9",
      "metadata": {
        "id": "281997a9",
        "outputId": "8bfc1c09-dd84-4585-e72c-9d4a9594b98a"
      },
      "outputs": [
        {
          "name": "stdout",
          "output_type": "stream",
          "text": [
            "603013\n"
          ]
        }
      ],
      "source": [
        "uniqueValues = df['EMAIL_ID'].nunique()\n",
        "print(uniqueValues)"
      ]
    },
    {
      "cell_type": "markdown",
      "id": "bc7c583e",
      "metadata": {
        "id": "bc7c583e"
      },
      "source": [
        "## Finding distribution of categorical features"
      ]
    },
    {
      "cell_type": "code",
      "execution_count": null,
      "id": "6396d98a",
      "metadata": {
        "scrolled": true,
        "id": "6396d98a",
        "outputId": "814fc165-5257-4559-f1f8-2b1a71cff2ce"
      },
      "outputs": [
        {
          "name": "stdout",
          "output_type": "stream",
          "text": [
            "        Unnamed: 0    NAME  EMAIL_ID  IS_GLOGIN  FOLLOWER_COUNT  \\\n",
            "GENDER                                                            \n",
            "Female      311089  292518    292770     293017          292655   \n",
            "Male        932220  877231    877196     877019          877443   \n",
            "\n",
            "        FOLLOWING_COUNT  DATASET_COUNT  CODE_COUNT  DISCUSSION_COUNT  \\\n",
            "GENDER                                                                 \n",
            "Female           292716         292468      292578            292749   \n",
            "Male             876868         876851      877462            877392   \n",
            "\n",
            "        AVG_NB_READ_TIME_MIN  REGISTRATION_IPV4  REGISTRATION_LOCATION  \\\n",
            "GENDER                                                                   \n",
            "Female                292719             292705                 292656   \n",
            "Male                  876851             876924                 876884   \n",
            "\n",
            "        TOTAL_VOTES_GAVE_NB  TOTAL_VOTES_GAVE_DS  TOTAL_VOTES_GAVE_DC   ISBOT  \n",
            "GENDER                                                                         \n",
            "Female               292837               292742               292613  292503  \n",
            "Male                 877415               877399               877199  876783  \n"
          ]
        }
      ],
      "source": [
        "s=df.groupby('GENDER').count()\n",
        "print(s)"
      ]
    },
    {
      "cell_type": "code",
      "execution_count": null,
      "id": "1ae9ee88",
      "metadata": {
        "id": "1ae9ee88",
        "outputId": "53165bff-5b61-4c72-aaaa-eca4de646359"
      },
      "outputs": [
        {
          "data": {
            "text/plain": [
              "<AxesSubplot:>"
            ]
          },
          "execution_count": 59,
          "metadata": {},
          "output_type": "execute_result"
        },
        {
          "data": {
            "image/png": "[encoded data removed]",
            "text/plain": [
              "<Figure size 432x288 with 1 Axes>"
            ]
          },
          "metadata": {
            "needs_background": "light"
          },
          "output_type": "display_data"
        }
      ],
      "source": [
        "df['GENDER'].value_counts().plot.bar(rot=0)"
      ]
    },
    {
      "cell_type": "code",
      "execution_count": null,
      "id": "9727304b",
      "metadata": {
        "id": "9727304b",
        "outputId": "17fc50e3-e6c5-4d6b-fc14-c61784c8bdc6"
      },
      "outputs": [
        {
          "name": "stdout",
          "output_type": "stream",
          "text": [
            "           Unnamed: 0    NAME  GENDER  EMAIL_ID  FOLLOWER_COUNT  \\\n",
            "IS_GLOGIN                                                         \n",
            "False          788359  741612  742282    741948          741885   \n",
            "True           454913  428024  427754    428169          428228   \n",
            "\n",
            "           FOLLOWING_COUNT  DATASET_COUNT  CODE_COUNT  DISCUSSION_COUNT  \\\n",
            "IS_GLOGIN                                                                 \n",
            "False               741665         741466      741904            742134   \n",
            "True                427868         427926      427956            427988   \n",
            "\n",
            "           AVG_NB_READ_TIME_MIN  REGISTRATION_IPV4  REGISTRATION_LOCATION  \\\n",
            "IS_GLOGIN                                                                   \n",
            "False                    741530             741604                 741734   \n",
            "True                     427990             427940                 427924   \n",
            "\n",
            "           TOTAL_VOTES_GAVE_NB  TOTAL_VOTES_GAVE_DS  TOTAL_VOTES_GAVE_DC  \\\n",
            "IS_GLOGIN                                                                  \n",
            "False                   741806               741810               741692   \n",
            "True                    428358               428152               428126   \n",
            "\n",
            "            ISBOT  \n",
            "IS_GLOGIN          \n",
            "False      741455  \n",
            "True       427908  \n"
          ]
        }
      ],
      "source": [
        "s=df.groupby('IS_GLOGIN').count()\n",
        "print(s)"
      ]
    },
    {
      "cell_type": "code",
      "execution_count": null,
      "id": "231d3663",
      "metadata": {
        "id": "231d3663",
        "outputId": "58276180-01ad-49a1-8205-11554a4b5271"
      },
      "outputs": [
        {
          "data": {
            "text/plain": [
              "<AxesSubplot:>"
            ]
          },
          "execution_count": 60,
          "metadata": {},
          "output_type": "execute_result"
        },
        {
          "data": {
            "image/png": "[encoded data removed]",
            "text/plain": [
              "<Figure size 432x288 with 1 Axes>"
            ]
          },
          "metadata": {
            "needs_background": "light"
          },
          "output_type": "display_data"
        }
      ],
      "source": [
        "df['IS_GLOGIN'].value_counts().plot.bar(rot=0)"
      ]
    },
    {
      "cell_type": "code",
      "execution_count": null,
      "id": "c8ef3576",
      "metadata": {
        "id": "c8ef3576",
        "outputId": "aa4c244f-7e00-447c-b0b2-24dd08afeef1"
      },
      "outputs": [
        {
          "name": "stdout",
          "output_type": "stream",
          "text": [
            "       Unnamed: 0    NAME  GENDER  EMAIL_ID  IS_GLOGIN  FOLLOWER_COUNT  \\\n",
            "ISBOT                                                                    \n",
            "False      909794  855903  856031    856254     856074          856238   \n",
            "True       332894  313326  313255    313217     313289          313411   \n",
            "\n",
            "       FOLLOWING_COUNT  DATASET_COUNT  CODE_COUNT  DISCUSSION_COUNT  \\\n",
            "ISBOT                                                                 \n",
            "False           855669         855819      856128            856275   \n",
            "True            313244         312956      313172            313341   \n",
            "\n",
            "       AVG_NB_READ_TIME_MIN  REGISTRATION_IPV4  REGISTRATION_LOCATION  \\\n",
            "ISBOT                                                                   \n",
            "False                856042             855998                 855900   \n",
            "True                 312948             313039                 313166   \n",
            "\n",
            "       TOTAL_VOTES_GAVE_NB  TOTAL_VOTES_GAVE_DS  TOTAL_VOTES_GAVE_DC  \n",
            "ISBOT                                                                 \n",
            "False               856380               856184               856095  \n",
            "True                313177               313217               313260  \n"
          ]
        }
      ],
      "source": [
        "s=df.groupby('ISBOT').count()\n",
        "print(s)"
      ]
    },
    {
      "cell_type": "code",
      "execution_count": null,
      "id": "8a045104",
      "metadata": {
        "id": "8a045104",
        "outputId": "592a0f73-3c10-4acf-ce28-7b9380c7a4c9"
      },
      "outputs": [
        {
          "data": {
            "text/plain": [
              "<AxesSubplot:>"
            ]
          },
          "execution_count": 61,
          "metadata": {},
          "output_type": "execute_result"
        },
        {
          "data": {
            "image/png": "[encoded data removed]",
            "text/plain": [
              "<Figure size 432x288 with 1 Axes>"
            ]
          },
          "metadata": {
            "needs_background": "light"
          },
          "output_type": "display_data"
        }
      ],
      "source": [
        "df['ISBOT'].value_counts().plot.bar(rot=0)"
      ]
    },
    {
      "cell_type": "markdown",
      "id": "d6877e7a",
      "metadata": {
        "id": "d6877e7a"
      },
      "source": [
        "## Finding descriptive statistics to understand the central tendency and spread of the data"
      ]
    },
    {
      "cell_type": "code",
      "execution_count": null,
      "id": "d1fc039e",
      "metadata": {
        "id": "d1fc039e",
        "outputId": "260e84fa-2b0a-4ac6-e0c8-fffb38c9410b"
      },
      "outputs": [
        {
          "name": "stderr",
          "output_type": "stream",
          "text": [
            "/tmp/ipykernel_5328/1665899112.py:1: FutureWarning: Dropping of nuisance columns in DataFrame reductions (with 'numeric_only=None') is deprecated; in a future version this will raise TypeError.  Select only valid columns before calling the reduction.\n",
            "  df.skew()\n"
          ]
        },
        {
          "data": {
            "text/plain": [
              "Unnamed: 0             -5.400460e-15\n",
              "IS_GLOGIN               5.568008e-01\n",
              "FOLLOWER_COUNT          3.255440e-01\n",
              "FOLLOWING_COUNT         3.589322e-01\n",
              "DATASET_COUNT           4.433873e-01\n",
              "CODE_COUNT              2.207368e-01\n",
              "DISCUSSION_COUNT        1.282255e-01\n",
              "AVG_NB_READ_TIME_MIN    1.779018e-01\n",
              "TOTAL_VOTES_GAVE_NB    -1.747790e-03\n",
              "TOTAL_VOTES_GAVE_DS    -8.899839e-04\n",
              "TOTAL_VOTES_GAVE_DC    -7.655191e-04\n",
              "ISBOT                   1.048278e+00\n",
              "dtype: float64"
            ]
          },
          "execution_count": 70,
          "metadata": {},
          "output_type": "execute_result"
        }
      ],
      "source": [
        "df.skew()"
      ]
    },
    {
      "cell_type": "code",
      "execution_count": null,
      "id": "1bc908af",
      "metadata": {
        "id": "1bc908af",
        "outputId": "240e4476-ade4-446c-d2c9-e560fc058fbb"
      },
      "outputs": [
        {
          "data": {
            "text/html": [
              "<div>\n",
              "<style scoped>\n",
              "    .dataframe tbody tr th:only-of-type {\n",
              "        vertical-align: middle;\n",
              "    }\n",
              "\n",
              "    .dataframe tbody tr th {\n",
              "        vertical-align: top;\n",
              "    }\n",
              "\n",
              "    .dataframe thead th {\n",
              "        text-align: right;\n",
              "    }\n",
              "</style>\n",
              "<table border=\"1\" class=\"dataframe\">\n",
              "  <thead>\n",
              "    <tr style=\"text-align: right;\">\n",
              "      <th></th>\n",
              "      <th>Unnamed: 0</th>\n",
              "      <th>FOLLOWER_COUNT</th>\n",
              "      <th>FOLLOWING_COUNT</th>\n",
              "      <th>DATASET_COUNT</th>\n",
              "      <th>CODE_COUNT</th>\n",
              "      <th>DISCUSSION_COUNT</th>\n",
              "      <th>AVG_NB_READ_TIME_MIN</th>\n",
              "      <th>TOTAL_VOTES_GAVE_NB</th>\n",
              "      <th>TOTAL_VOTES_GAVE_DS</th>\n",
              "      <th>TOTAL_VOTES_GAVE_DC</th>\n",
              "    </tr>\n",
              "  </thead>\n",
              "  <tbody>\n",
              "    <tr>\n",
              "      <th>count</th>\n",
              "      <td>1.321188e+06</td>\n",
              "      <td>1.243476e+06</td>\n",
              "      <td>1.242743e+06</td>\n",
              "      <td>1.242621e+06</td>\n",
              "      <td>1.243262e+06</td>\n",
              "      <td>1.243466e+06</td>\n",
              "      <td>1.242872e+06</td>\n",
              "      <td>1.243483e+06</td>\n",
              "      <td>1.243254e+06</td>\n",
              "      <td>1.243158e+06</td>\n",
              "    </tr>\n",
              "    <tr>\n",
              "      <th>mean</th>\n",
              "      <td>6.605935e+05</td>\n",
              "      <td>2.698273e+01</td>\n",
              "      <td>4.505091e+01</td>\n",
              "      <td>2.562564e+00</td>\n",
              "      <td>1.038450e+01</td>\n",
              "      <td>6.584244e+01</td>\n",
              "      <td>1.274225e+01</td>\n",
              "      <td>1.750656e+01</td>\n",
              "      <td>6.501007e+00</td>\n",
              "      <td>1.500373e+00</td>\n",
              "    </tr>\n",
              "    <tr>\n",
              "      <th>std</th>\n",
              "      <td>3.813943e+05</td>\n",
              "      <td>2.300504e+01</td>\n",
              "      <td>3.947716e+01</td>\n",
              "      <td>2.499882e+00</td>\n",
              "      <td>8.248055e+00</td>\n",
              "      <td>4.754315e+01</td>\n",
              "      <td>9.564920e+00</td>\n",
              "      <td>4.611783e+00</td>\n",
              "      <td>2.290951e+00</td>\n",
              "      <td>1.118067e+00</td>\n",
              "    </tr>\n",
              "    <tr>\n",
              "      <th>min</th>\n",
              "      <td>0.000000e+00</td>\n",
              "      <td>0.000000e+00</td>\n",
              "      <td>0.000000e+00</td>\n",
              "      <td>0.000000e+00</td>\n",
              "      <td>0.000000e+00</td>\n",
              "      <td>0.000000e+00</td>\n",
              "      <td>0.000000e+00</td>\n",
              "      <td>1.000000e+01</td>\n",
              "      <td>3.000000e+00</td>\n",
              "      <td>0.000000e+00</td>\n",
              "    </tr>\n",
              "    <tr>\n",
              "      <th>25%</th>\n",
              "      <td>3.302968e+05</td>\n",
              "      <td>2.000000e+00</td>\n",
              "      <td>3.000000e+00</td>\n",
              "      <td>0.000000e+00</td>\n",
              "      <td>1.000000e+00</td>\n",
              "      <td>1.300000e+01</td>\n",
              "      <td>1.870000e+00</td>\n",
              "      <td>1.400000e+01</td>\n",
              "      <td>5.000000e+00</td>\n",
              "      <td>1.000000e+00</td>\n",
              "    </tr>\n",
              "    <tr>\n",
              "      <th>50%</th>\n",
              "      <td>6.605935e+05</td>\n",
              "      <td>2.400000e+01</td>\n",
              "      <td>3.900000e+01</td>\n",
              "      <td>2.000000e+00</td>\n",
              "      <td>1.000000e+01</td>\n",
              "      <td>6.500000e+01</td>\n",
              "      <td>1.229000e+01</td>\n",
              "      <td>1.800000e+01</td>\n",
              "      <td>7.000000e+00</td>\n",
              "      <td>2.000000e+00</td>\n",
              "    </tr>\n",
              "    <tr>\n",
              "      <th>75%</th>\n",
              "      <td>9.908902e+05</td>\n",
              "      <td>4.700000e+01</td>\n",
              "      <td>8.000000e+01</td>\n",
              "      <td>5.000000e+00</td>\n",
              "      <td>1.800000e+01</td>\n",
              "      <td>1.080000e+02</td>\n",
              "      <td>2.119000e+01</td>\n",
              "      <td>2.200000e+01</td>\n",
              "      <td>9.000000e+00</td>\n",
              "      <td>3.000000e+00</td>\n",
              "    </tr>\n",
              "    <tr>\n",
              "      <th>max</th>\n",
              "      <td>1.321187e+06</td>\n",
              "      <td>7.000000e+01</td>\n",
              "      <td>1.200000e+02</td>\n",
              "      <td>7.000000e+00</td>\n",
              "      <td>2.500000e+01</td>\n",
              "      <td>1.500000e+02</td>\n",
              "      <td>2.999000e+01</td>\n",
              "      <td>2.500000e+01</td>\n",
              "      <td>1.000000e+01</td>\n",
              "      <td>3.000000e+00</td>\n",
              "    </tr>\n",
              "  </tbody>\n",
              "</table>\n",
              "</div>"
            ],
            "text/plain": [
              "         Unnamed: 0  FOLLOWER_COUNT  FOLLOWING_COUNT  DATASET_COUNT  \\\n",
              "count  1.321188e+06    1.243476e+06     1.242743e+06   1.242621e+06   \n",
              "mean   6.605935e+05    2.698273e+01     4.505091e+01   2.562564e+00   \n",
              "std    3.813943e+05    2.300504e+01     3.947716e+01   2.499882e+00   \n",
              "min    0.000000e+00    0.000000e+00     0.000000e+00   0.000000e+00   \n",
              "25%    3.302968e+05    2.000000e+00     3.000000e+00   0.000000e+00   \n",
              "50%    6.605935e+05    2.400000e+01     3.900000e+01   2.000000e+00   \n",
              "75%    9.908902e+05    4.700000e+01     8.000000e+01   5.000000e+00   \n",
              "max    1.321187e+06    7.000000e+01     1.200000e+02   7.000000e+00   \n",
              "\n",
              "         CODE_COUNT  DISCUSSION_COUNT  AVG_NB_READ_TIME_MIN  \\\n",
              "count  1.243262e+06      1.243466e+06          1.242872e+06   \n",
              "mean   1.038450e+01      6.584244e+01          1.274225e+01   \n",
              "std    8.248055e+00      4.754315e+01          9.564920e+00   \n",
              "min    0.000000e+00      0.000000e+00          0.000000e+00   \n",
              "25%    1.000000e+00      1.300000e+01          1.870000e+00   \n",
              "50%    1.000000e+01      6.500000e+01          1.229000e+01   \n",
              "75%    1.800000e+01      1.080000e+02          2.119000e+01   \n",
              "max    2.500000e+01      1.500000e+02          2.999000e+01   \n",
              "\n",
              "       TOTAL_VOTES_GAVE_NB  TOTAL_VOTES_GAVE_DS  TOTAL_VOTES_GAVE_DC  \n",
              "count         1.243483e+06         1.243254e+06         1.243158e+06  \n",
              "mean          1.750656e+01         6.501007e+00         1.500373e+00  \n",
              "std           4.611783e+00         2.290951e+00         1.118067e+00  \n",
              "min           1.000000e+01         3.000000e+00         0.000000e+00  \n",
              "25%           1.400000e+01         5.000000e+00         1.000000e+00  \n",
              "50%           1.800000e+01         7.000000e+00         2.000000e+00  \n",
              "75%           2.200000e+01         9.000000e+00         3.000000e+00  \n",
              "max           2.500000e+01         1.000000e+01         3.000000e+00  "
            ]
          },
          "execution_count": 72,
          "metadata": {},
          "output_type": "execute_result"
        }
      ],
      "source": [
        "df.describe()"
      ]
    },
    {
      "cell_type": "markdown",
      "id": "48f61b76",
      "metadata": {
        "id": "48f61b76"
      },
      "source": [
        "## Finding missing values\n",
        "\n",
        "\n",
        "\n",
        "\n"
      ]
    },
    {
      "cell_type": "code",
      "execution_count": null,
      "id": "46471d88",
      "metadata": {
        "scrolled": true,
        "id": "46471d88",
        "outputId": "3770c82f-1c57-4c11-b2f7-0df6859499f6"
      },
      "outputs": [
        {
          "data": {
            "text/html": [
              "<div>\n",
              "<style scoped>\n",
              "    .dataframe tbody tr th:only-of-type {\n",
              "        vertical-align: middle;\n",
              "    }\n",
              "\n",
              "    .dataframe tbody tr th {\n",
              "        vertical-align: top;\n",
              "    }\n",
              "\n",
              "    .dataframe thead th {\n",
              "        text-align: right;\n",
              "    }\n",
              "</style>\n",
              "<table border=\"1\" class=\"dataframe\">\n",
              "  <thead>\n",
              "    <tr style=\"text-align: right;\">\n",
              "      <th></th>\n",
              "      <th>Unnamed: 0</th>\n",
              "      <th>NAME</th>\n",
              "      <th>GENDER</th>\n",
              "      <th>EMAIL_ID</th>\n",
              "      <th>IS_GLOGIN</th>\n",
              "      <th>FOLLOWER_COUNT</th>\n",
              "      <th>FOLLOWING_COUNT</th>\n",
              "      <th>DATASET_COUNT</th>\n",
              "      <th>CODE_COUNT</th>\n",
              "      <th>DISCUSSION_COUNT</th>\n",
              "      <th>AVG_NB_READ_TIME_MIN</th>\n",
              "      <th>REGISTRATION_IPV4</th>\n",
              "      <th>REGISTRATION_LOCATION</th>\n",
              "      <th>TOTAL_VOTES_GAVE_NB</th>\n",
              "      <th>TOTAL_VOTES_GAVE_DS</th>\n",
              "      <th>TOTAL_VOTES_GAVE_DC</th>\n",
              "      <th>ISBOT</th>\n",
              "    </tr>\n",
              "  </thead>\n",
              "  <tbody>\n",
              "    <tr>\n",
              "      <th>0</th>\n",
              "      <td>False</td>\n",
              "      <td>False</td>\n",
              "      <td>False</td>\n",
              "      <td>False</td>\n",
              "      <td>False</td>\n",
              "      <td>False</td>\n",
              "      <td>False</td>\n",
              "      <td>False</td>\n",
              "      <td>False</td>\n",
              "      <td>False</td>\n",
              "      <td>True</td>\n",
              "      <td>False</td>\n",
              "      <td>False</td>\n",
              "      <td>False</td>\n",
              "      <td>False</td>\n",
              "      <td>False</td>\n",
              "      <td>True</td>\n",
              "    </tr>\n",
              "    <tr>\n",
              "      <th>1</th>\n",
              "      <td>False</td>\n",
              "      <td>False</td>\n",
              "      <td>False</td>\n",
              "      <td>False</td>\n",
              "      <td>False</td>\n",
              "      <td>False</td>\n",
              "      <td>False</td>\n",
              "      <td>False</td>\n",
              "      <td>True</td>\n",
              "      <td>False</td>\n",
              "      <td>False</td>\n",
              "      <td>True</td>\n",
              "      <td>False</td>\n",
              "      <td>False</td>\n",
              "      <td>False</td>\n",
              "      <td>False</td>\n",
              "      <td>True</td>\n",
              "    </tr>\n",
              "    <tr>\n",
              "      <th>2</th>\n",
              "      <td>False</td>\n",
              "      <td>True</td>\n",
              "      <td>False</td>\n",
              "      <td>False</td>\n",
              "      <td>False</td>\n",
              "      <td>False</td>\n",
              "      <td>False</td>\n",
              "      <td>False</td>\n",
              "      <td>False</td>\n",
              "      <td>False</td>\n",
              "      <td>False</td>\n",
              "      <td>False</td>\n",
              "      <td>False</td>\n",
              "      <td>False</td>\n",
              "      <td>False</td>\n",
              "      <td>False</td>\n",
              "      <td>False</td>\n",
              "    </tr>\n",
              "    <tr>\n",
              "      <th>3</th>\n",
              "      <td>False</td>\n",
              "      <td>False</td>\n",
              "      <td>False</td>\n",
              "      <td>False</td>\n",
              "      <td>False</td>\n",
              "      <td>False</td>\n",
              "      <td>False</td>\n",
              "      <td>False</td>\n",
              "      <td>False</td>\n",
              "      <td>False</td>\n",
              "      <td>False</td>\n",
              "      <td>False</td>\n",
              "      <td>False</td>\n",
              "      <td>False</td>\n",
              "      <td>False</td>\n",
              "      <td>False</td>\n",
              "      <td>False</td>\n",
              "    </tr>\n",
              "    <tr>\n",
              "      <th>4</th>\n",
              "      <td>False</td>\n",
              "      <td>False</td>\n",
              "      <td>False</td>\n",
              "      <td>False</td>\n",
              "      <td>False</td>\n",
              "      <td>False</td>\n",
              "      <td>False</td>\n",
              "      <td>False</td>\n",
              "      <td>False</td>\n",
              "      <td>False</td>\n",
              "      <td>False</td>\n",
              "      <td>False</td>\n",
              "      <td>False</td>\n",
              "      <td>False</td>\n",
              "      <td>False</td>\n",
              "      <td>False</td>\n",
              "      <td>False</td>\n",
              "    </tr>\n",
              "    <tr>\n",
              "      <th>...</th>\n",
              "      <td>...</td>\n",
              "      <td>...</td>\n",
              "      <td>...</td>\n",
              "      <td>...</td>\n",
              "      <td>...</td>\n",
              "      <td>...</td>\n",
              "      <td>...</td>\n",
              "      <td>...</td>\n",
              "      <td>...</td>\n",
              "      <td>...</td>\n",
              "      <td>...</td>\n",
              "      <td>...</td>\n",
              "      <td>...</td>\n",
              "      <td>...</td>\n",
              "      <td>...</td>\n",
              "      <td>...</td>\n",
              "      <td>...</td>\n",
              "    </tr>\n",
              "    <tr>\n",
              "      <th>1321183</th>\n",
              "      <td>False</td>\n",
              "      <td>False</td>\n",
              "      <td>False</td>\n",
              "      <td>False</td>\n",
              "      <td>False</td>\n",
              "      <td>False</td>\n",
              "      <td>False</td>\n",
              "      <td>False</td>\n",
              "      <td>False</td>\n",
              "      <td>False</td>\n",
              "      <td>False</td>\n",
              "      <td>False</td>\n",
              "      <td>False</td>\n",
              "      <td>False</td>\n",
              "      <td>False</td>\n",
              "      <td>True</td>\n",
              "      <td>False</td>\n",
              "    </tr>\n",
              "    <tr>\n",
              "      <th>1321184</th>\n",
              "      <td>False</td>\n",
              "      <td>False</td>\n",
              "      <td>False</td>\n",
              "      <td>False</td>\n",
              "      <td>False</td>\n",
              "      <td>False</td>\n",
              "      <td>False</td>\n",
              "      <td>False</td>\n",
              "      <td>False</td>\n",
              "      <td>False</td>\n",
              "      <td>False</td>\n",
              "      <td>False</td>\n",
              "      <td>False</td>\n",
              "      <td>False</td>\n",
              "      <td>False</td>\n",
              "      <td>False</td>\n",
              "      <td>False</td>\n",
              "    </tr>\n",
              "    <tr>\n",
              "      <th>1321185</th>\n",
              "      <td>False</td>\n",
              "      <td>False</td>\n",
              "      <td>False</td>\n",
              "      <td>False</td>\n",
              "      <td>False</td>\n",
              "      <td>False</td>\n",
              "      <td>False</td>\n",
              "      <td>False</td>\n",
              "      <td>False</td>\n",
              "      <td>False</td>\n",
              "      <td>False</td>\n",
              "      <td>False</td>\n",
              "      <td>False</td>\n",
              "      <td>False</td>\n",
              "      <td>False</td>\n",
              "      <td>False</td>\n",
              "      <td>False</td>\n",
              "    </tr>\n",
              "    <tr>\n",
              "      <th>1321186</th>\n",
              "      <td>False</td>\n",
              "      <td>False</td>\n",
              "      <td>True</td>\n",
              "      <td>False</td>\n",
              "      <td>False</td>\n",
              "      <td>False</td>\n",
              "      <td>False</td>\n",
              "      <td>False</td>\n",
              "      <td>False</td>\n",
              "      <td>False</td>\n",
              "      <td>False</td>\n",
              "      <td>False</td>\n",
              "      <td>True</td>\n",
              "      <td>False</td>\n",
              "      <td>False</td>\n",
              "      <td>True</td>\n",
              "      <td>False</td>\n",
              "    </tr>\n",
              "    <tr>\n",
              "      <th>1321187</th>\n",
              "      <td>False</td>\n",
              "      <td>False</td>\n",
              "      <td>False</td>\n",
              "      <td>True</td>\n",
              "      <td>False</td>\n",
              "      <td>False</td>\n",
              "      <td>False</td>\n",
              "      <td>False</td>\n",
              "      <td>True</td>\n",
              "      <td>False</td>\n",
              "      <td>False</td>\n",
              "      <td>False</td>\n",
              "      <td>False</td>\n",
              "      <td>False</td>\n",
              "      <td>False</td>\n",
              "      <td>False</td>\n",
              "      <td>False</td>\n",
              "    </tr>\n",
              "  </tbody>\n",
              "</table>\n",
              "<p>1321188 rows × 17 columns</p>\n",
              "</div>"
            ],
            "text/plain": [
              "         Unnamed: 0   NAME  GENDER  EMAIL_ID  IS_GLOGIN  FOLLOWER_COUNT  \\\n",
              "0             False  False   False     False      False           False   \n",
              "1             False  False   False     False      False           False   \n",
              "2             False   True   False     False      False           False   \n",
              "3             False  False   False     False      False           False   \n",
              "4             False  False   False     False      False           False   \n",
              "...             ...    ...     ...       ...        ...             ...   \n",
              "1321183       False  False   False     False      False           False   \n",
              "1321184       False  False   False     False      False           False   \n",
              "1321185       False  False   False     False      False           False   \n",
              "1321186       False  False    True     False      False           False   \n",
              "1321187       False  False   False      True      False           False   \n",
              "\n",
              "         FOLLOWING_COUNT  DATASET_COUNT  CODE_COUNT  DISCUSSION_COUNT  \\\n",
              "0                  False          False       False             False   \n",
              "1                  False          False        True             False   \n",
              "2                  False          False       False             False   \n",
              "3                  False          False       False             False   \n",
              "4                  False          False       False             False   \n",
              "...                  ...            ...         ...               ...   \n",
              "1321183            False          False       False             False   \n",
              "1321184            False          False       False             False   \n",
              "1321185            False          False       False             False   \n",
              "1321186            False          False       False             False   \n",
              "1321187            False          False        True             False   \n",
              "\n",
              "         AVG_NB_READ_TIME_MIN  REGISTRATION_IPV4  REGISTRATION_LOCATION  \\\n",
              "0                        True              False                  False   \n",
              "1                       False               True                  False   \n",
              "2                       False              False                  False   \n",
              "3                       False              False                  False   \n",
              "4                       False              False                  False   \n",
              "...                       ...                ...                    ...   \n",
              "1321183                 False              False                  False   \n",
              "1321184                 False              False                  False   \n",
              "1321185                 False              False                  False   \n",
              "1321186                 False              False                   True   \n",
              "1321187                 False              False                  False   \n",
              "\n",
              "         TOTAL_VOTES_GAVE_NB  TOTAL_VOTES_GAVE_DS  TOTAL_VOTES_GAVE_DC  ISBOT  \n",
              "0                      False                False                False   True  \n",
              "1                      False                False                False   True  \n",
              "2                      False                False                False  False  \n",
              "3                      False                False                False  False  \n",
              "4                      False                False                False  False  \n",
              "...                      ...                  ...                  ...    ...  \n",
              "1321183                False                False                 True  False  \n",
              "1321184                False                False                False  False  \n",
              "1321185                False                False                False  False  \n",
              "1321186                False                False                 True  False  \n",
              "1321187                False                False                False  False  \n",
              "\n",
              "[1321188 rows x 17 columns]"
            ]
          },
          "execution_count": 11,
          "metadata": {},
          "output_type": "execute_result"
        }
      ],
      "source": [
        "df.isnull()"
      ]
    },
    {
      "cell_type": "markdown",
      "id": "541e12f4",
      "metadata": {
        "id": "541e12f4"
      },
      "source": [
        "#### Following line will tell us total number of null entries in entire dataset"
      ]
    },
    {
      "cell_type": "code",
      "execution_count": null,
      "id": "913f9693",
      "metadata": {
        "id": "913f9693",
        "outputId": "645f2721-241b-4191-da31-df4f6568fd06"
      },
      "outputs": [
        {
          "name": "stdout",
          "output_type": "stream",
          "text": [
            "1249249\n"
          ]
        }
      ],
      "source": [
        "SUM=df.isna().sum().sum()\n",
        "print(SUM)"
      ]
    },
    {
      "cell_type": "markdown",
      "id": "1b3fce0a",
      "metadata": {
        "id": "1b3fce0a"
      },
      "source": [
        "#### Next we will see total null enteries in every column. \n",
        "\n",
        "Note: Total number of records in every column is 1321186"
      ]
    },
    {
      "cell_type": "code",
      "execution_count": null,
      "id": "f495b9ab",
      "metadata": {
        "id": "f495b9ab",
        "outputId": "a4d00fb2-6468-4c41-e863-fd82d3259a7f"
      },
      "outputs": [
        {
          "name": "stdout",
          "output_type": "stream",
          "text": [
            "78164\n"
          ]
        }
      ],
      "source": [
        "sum=df['NAME'].isna().sum()\n",
        "print(sum)"
      ]
    },
    {
      "cell_type": "code",
      "execution_count": null,
      "id": "b103eff1",
      "metadata": {
        "id": "b103eff1",
        "outputId": "6d1afc01-3954-4167-ccc3-5de66f03839e"
      },
      "outputs": [
        {
          "name": "stdout",
          "output_type": "stream",
          "text": [
            "77879\n"
          ]
        }
      ],
      "source": [
        "sum=df['GENDER'].isna().sum()\n",
        "print(sum)"
      ]
    },
    {
      "cell_type": "code",
      "execution_count": null,
      "id": "44938439",
      "metadata": {
        "id": "44938439",
        "outputId": "6428732b-6125-4b04-be28-102e21890e00"
      },
      "outputs": [
        {
          "name": "stdout",
          "output_type": "stream",
          "text": [
            "77814\n"
          ]
        }
      ],
      "source": [
        "sum=df['EMAIL_ID'].isna().sum()\n",
        "print(sum)"
      ]
    },
    {
      "cell_type": "code",
      "execution_count": null,
      "id": "69ab3041",
      "metadata": {
        "id": "69ab3041",
        "outputId": "2beb3fce-c905-4588-b486-342dd85555e4"
      },
      "outputs": [
        {
          "name": "stdout",
          "output_type": "stream",
          "text": [
            "77916\n"
          ]
        }
      ],
      "source": [
        "sum=df['IS_GLOGIN'].isna().sum()\n",
        "print(sum)"
      ]
    },
    {
      "cell_type": "code",
      "execution_count": null,
      "id": "232d30b8",
      "metadata": {
        "id": "232d30b8",
        "outputId": "86256210-f5c1-4c6f-904d-babe994488c1"
      },
      "outputs": [
        {
          "name": "stdout",
          "output_type": "stream",
          "text": [
            "77712\n"
          ]
        }
      ],
      "source": [
        "sum=df['FOLLOWER_COUNT'].isna().sum()\n",
        "print(sum)"
      ]
    },
    {
      "cell_type": "code",
      "execution_count": null,
      "id": "eba7d524",
      "metadata": {
        "id": "eba7d524",
        "outputId": "72ef6708-da63-446c-91bf-a1d02f334323"
      },
      "outputs": [
        {
          "name": "stdout",
          "output_type": "stream",
          "text": [
            "78445\n"
          ]
        }
      ],
      "source": [
        "sum=df['FOLLOWING_COUNT'].isna().sum()\n",
        "print(sum)"
      ]
    },
    {
      "cell_type": "code",
      "execution_count": null,
      "id": "e7faf763",
      "metadata": {
        "id": "e7faf763",
        "outputId": "ba03a866-73a5-4d1b-de4d-073e09230a36"
      },
      "outputs": [
        {
          "name": "stdout",
          "output_type": "stream",
          "text": [
            "78567\n"
          ]
        }
      ],
      "source": [
        "sum=df['DATASET_COUNT'].isna().sum()\n",
        "print(sum)"
      ]
    },
    {
      "cell_type": "code",
      "execution_count": null,
      "id": "35265fb8",
      "metadata": {
        "id": "35265fb8",
        "outputId": "abfb5332-1b0b-4ef3-89bf-ec5858dd9f30"
      },
      "outputs": [
        {
          "name": "stdout",
          "output_type": "stream",
          "text": [
            "77926\n"
          ]
        }
      ],
      "source": [
        "sum=df['CODE_COUNT'].isna().sum()\n",
        "print(sum)"
      ]
    },
    {
      "cell_type": "code",
      "execution_count": null,
      "id": "646e9471",
      "metadata": {
        "id": "646e9471",
        "outputId": "5351fd66-f9a9-4245-bc3c-f282c72ed408"
      },
      "outputs": [
        {
          "name": "stdout",
          "output_type": "stream",
          "text": [
            "77722\n"
          ]
        }
      ],
      "source": [
        "sum=df['DISCUSSION_COUNT'].isna().sum()\n",
        "print(sum)"
      ]
    },
    {
      "cell_type": "code",
      "execution_count": null,
      "id": "1a1269d5",
      "metadata": {
        "id": "1a1269d5",
        "outputId": "6bb00df3-3601-4c08-8b15-171206cf429a"
      },
      "outputs": [
        {
          "name": "stdout",
          "output_type": "stream",
          "text": [
            "78316\n"
          ]
        }
      ],
      "source": [
        "sum=df['AVG_NB_READ_TIME_MIN'].isna().sum()\n",
        "print(sum)"
      ]
    },
    {
      "cell_type": "code",
      "execution_count": null,
      "id": "a3d91b23",
      "metadata": {
        "id": "a3d91b23",
        "outputId": "a12493ab-d0bb-437d-f307-ae6bf695b98f"
      },
      "outputs": [
        {
          "name": "stdout",
          "output_type": "stream",
          "text": [
            "78329\n"
          ]
        }
      ],
      "source": [
        "sum=df['REGISTRATION_IPV4'].isna().sum()\n",
        "print(sum)"
      ]
    },
    {
      "cell_type": "code",
      "execution_count": null,
      "id": "30048c73",
      "metadata": {
        "id": "30048c73",
        "outputId": "db367ff3-20e8-42bd-b8ad-9f045d19bbbd"
      },
      "outputs": [
        {
          "name": "stdout",
          "output_type": "stream",
          "text": [
            "78290\n"
          ]
        }
      ],
      "source": [
        "sum=df['REGISTRATION_LOCATION'].isna().sum()\n",
        "print(sum)"
      ]
    },
    {
      "cell_type": "code",
      "execution_count": null,
      "id": "029eeaf8",
      "metadata": {
        "id": "029eeaf8",
        "outputId": "b67ee408-5018-43dd-f564-41bd58484acb"
      },
      "outputs": [
        {
          "name": "stdout",
          "output_type": "stream",
          "text": [
            "77705\n"
          ]
        }
      ],
      "source": [
        "sum=df['TOTAL_VOTES_GAVE_NB'].isna().sum()\n",
        "print(sum)"
      ]
    },
    {
      "cell_type": "code",
      "execution_count": null,
      "id": "ba7c4e09",
      "metadata": {
        "id": "ba7c4e09",
        "outputId": "d2d5bb0a-fb58-4deb-e552-6cc5a492b950"
      },
      "outputs": [
        {
          "name": "stdout",
          "output_type": "stream",
          "text": [
            "77934\n"
          ]
        }
      ],
      "source": [
        "sum=df['TOTAL_VOTES_GAVE_DS'].isna().sum()\n",
        "print(sum)"
      ]
    },
    {
      "cell_type": "code",
      "execution_count": null,
      "id": "1b76fe53",
      "metadata": {
        "id": "1b76fe53",
        "outputId": "291a4fd1-0419-4c48-d793-d0a6bde9e69b"
      },
      "outputs": [
        {
          "name": "stdout",
          "output_type": "stream",
          "text": [
            "78030\n"
          ]
        }
      ],
      "source": [
        "sum=df['TOTAL_VOTES_GAVE_DC'].isna().sum()\n",
        "print(sum)"
      ]
    },
    {
      "cell_type": "code",
      "execution_count": null,
      "id": "0c34a64a",
      "metadata": {
        "id": "0c34a64a",
        "outputId": "fb2a4eed-abf6-4400-a39c-2233af42c19c"
      },
      "outputs": [
        {
          "name": "stdout",
          "output_type": "stream",
          "text": [
            "78500\n"
          ]
        }
      ],
      "source": [
        "sum=df['ISBOT'].isna().sum()\n",
        "print(sum)"
      ]
    },
    {
      "cell_type": "markdown",
      "id": "e7052eff",
      "metadata": {
        "id": "e7052eff"
      },
      "source": [
        "#### Next we will try to see total number of row with atleast one null value."
      ]
    },
    {
      "cell_type": "code",
      "execution_count": null,
      "id": "529afa43",
      "metadata": {
        "id": "529afa43",
        "outputId": "5bfc964f-67f7-4f59-815e-87ce4b0acfcd"
      },
      "outputs": [
        {
          "data": {
            "text/plain": [
              "822201"
            ]
          },
          "execution_count": 47,
          "metadata": {},
          "output_type": "execute_result"
        }
      ],
      "source": [
        "df.isna().any(axis=1).sum()"
      ]
    },
    {
      "cell_type": "markdown",
      "source": [
        "## **Finding outliers in data**"
      ],
      "metadata": {
        "id": "NAveeebeaH55"
      },
      "id": "NAveeebeaH55"
    },
    {
      "cell_type": "code",
      "execution_count": null,
      "id": "10f51656",
      "metadata": {
        "colab": {
          "base_uri": "https://localhost:8080/",
          "height": 352
        },
        "id": "10f51656",
        "outputId": "764f29ae-2caf-406b-e53a-2c2d391f125c"
      },
      "outputs": [
        {
          "output_type": "stream",
          "name": "stderr",
          "text": [
            "/usr/local/lib/python3.8/dist-packages/seaborn/_decorators.py:36: FutureWarning: Pass the following variable as a keyword arg: x. From version 0.12, the only valid positional argument will be `data`, and passing other arguments without an explicit keyword will result in an error or misinterpretation.\n",
            "  warnings.warn(\n"
          ]
        },
        {
          "output_type": "execute_result",
          "data": {
            "text/plain": [
              "<AxesSubplot:xlabel='FOLLOWER_COUNT'>"
            ]
          },
          "metadata": {},
          "execution_count": 14
        },
        {
          "output_type": "display_data",
          "data": {
            "text/plain": [
              "<Figure size 432x288 with 1 Axes>"
            ],
            "image/png": "[encoded data removed]"
          },
          "metadata": {
            "needs_background": "light"
          }
        }
      ],
      "source": [
        "sns.boxplot(df['FOLLOWER_COUNT'])"
      ]
    },
    {
      "cell_type": "code",
      "source": [
        "fig, ax = plt.subplots(figsize = (8,8))\n",
        "ax.scatter(df['FOLLOWER_COUNT'],df['FOLLOWING_COUNT'])"
      ],
      "metadata": {
        "colab": {
          "base_uri": "https://localhost:8080/",
          "height": 500
        },
        "id": "wH-QSiinauEf",
        "outputId": "a1ed0e05-acdd-463c-a0a8-3c92f2099ca0"
      },
      "id": "wH-QSiinauEf",
      "execution_count": null,
      "outputs": [
        {
          "output_type": "execute_result",
          "data": {
            "text/plain": [
              "<matplotlib.collections.PathCollection at 0x7f853d42fbe0>"
            ]
          },
          "metadata": {},
          "execution_count": 24
        },
        {
          "output_type": "display_data",
          "data": {
            "text/plain": [
              "<Figure size 576x576 with 1 Axes>"
            ],
            "image/png": "[encoded data removed]"
          },
          "metadata": {
            "needs_background": "light"
          }
        }
      ]
    },
    {
      "cell_type": "code",
      "source": [
        "sns.boxplot(df['FOLLOWING_COUNT'])"
      ],
      "metadata": {
        "colab": {
          "base_uri": "https://localhost:8080/",
          "height": 352
        },
        "id": "esevpLNJa8nE",
        "outputId": "97233a03-62bf-42d1-eb5e-e751b614be9b"
      },
      "id": "esevpLNJa8nE",
      "execution_count": null,
      "outputs": [
        {
          "output_type": "stream",
          "name": "stderr",
          "text": [
            "/usr/local/lib/python3.8/dist-packages/seaborn/_decorators.py:36: FutureWarning: Pass the following variable as a keyword arg: x. From version 0.12, the only valid positional argument will be `data`, and passing other arguments without an explicit keyword will result in an error or misinterpretation.\n",
            "  warnings.warn(\n"
          ]
        },
        {
          "output_type": "execute_result",
          "data": {
            "text/plain": [
              "<AxesSubplot:xlabel='FOLLOWING_COUNT'>"
            ]
          },
          "metadata": {},
          "execution_count": 19
        },
        {
          "output_type": "display_data",
          "data": {
            "text/plain": [
              "<Figure size 432x288 with 1 Axes>"
            ],
            "image/png": "[encoded data removed]"
          },
          "metadata": {
            "needs_background": "light"
          }
        }
      ]
    },
    {
      "cell_type": "code",
      "source": [
        "sns.boxplot(df['DATASET_COUNT'])"
      ],
      "metadata": {
        "colab": {
          "base_uri": "https://localhost:8080/",
          "height": 352
        },
        "id": "RRUyCFGGb4t5",
        "outputId": "2b866665-f4f8-44f5-a255-fe8c4d42d9ee"
      },
      "id": "RRUyCFGGb4t5",
      "execution_count": null,
      "outputs": [
        {
          "output_type": "stream",
          "name": "stderr",
          "text": [
            "/usr/local/lib/python3.8/dist-packages/seaborn/_decorators.py:36: FutureWarning: Pass the following variable as a keyword arg: x. From version 0.12, the only valid positional argument will be `data`, and passing other arguments without an explicit keyword will result in an error or misinterpretation.\n",
            "  warnings.warn(\n"
          ]
        },
        {
          "output_type": "execute_result",
          "data": {
            "text/plain": [
              "<AxesSubplot:xlabel='DATASET_COUNT'>"
            ]
          },
          "metadata": {},
          "execution_count": 20
        },
        {
          "output_type": "display_data",
          "data": {
            "text/plain": [
              "<Figure size 432x288 with 1 Axes>"
            ],
            "image/png": "[encoded data removed]"
          },
          "metadata": {
            "needs_background": "light"
          }
        }
      ]
    },
    {
      "cell_type": "code",
      "source": [
        "sns.boxplot(df['CODE_COUNT'])"
      ],
      "metadata": {
        "colab": {
          "base_uri": "https://localhost:8080/",
          "height": 352
        },
        "id": "D2D0lIs8cEE4",
        "outputId": "9f18ae18-ec2b-4e38-d80d-89b3d6f90e3c"
      },
      "id": "D2D0lIs8cEE4",
      "execution_count": null,
      "outputs": [
        {
          "output_type": "stream",
          "name": "stderr",
          "text": [
            "/usr/local/lib/python3.8/dist-packages/seaborn/_decorators.py:36: FutureWarning: Pass the following variable as a keyword arg: x. From version 0.12, the only valid positional argument will be `data`, and passing other arguments without an explicit keyword will result in an error or misinterpretation.\n",
            "  warnings.warn(\n"
          ]
        },
        {
          "output_type": "execute_result",
          "data": {
            "text/plain": [
              "<AxesSubplot:xlabel='CODE_COUNT'>"
            ]
          },
          "metadata": {},
          "execution_count": 21
        },
        {
          "output_type": "display_data",
          "data": {
            "text/plain": [
              "<Figure size 432x288 with 1 Axes>"
            ],
            "image/png": "[encoded data removed]"
          },
          "metadata": {
            "needs_background": "light"
          }
        }
      ]
    },
    {
      "cell_type": "code",
      "source": [
        "sns.boxplot(df['DISCUSSION_COUNT'])"
      ],
      "metadata": {
        "colab": {
          "base_uri": "https://localhost:8080/",
          "height": 352
        },
        "id": "IOhyblIOcK3M",
        "outputId": "2619c047-dfad-4eb1-afee-0b207e4b1c7e"
      },
      "id": "IOhyblIOcK3M",
      "execution_count": null,
      "outputs": [
        {
          "output_type": "stream",
          "name": "stderr",
          "text": [
            "/usr/local/lib/python3.8/dist-packages/seaborn/_decorators.py:36: FutureWarning: Pass the following variable as a keyword arg: x. From version 0.12, the only valid positional argument will be `data`, and passing other arguments without an explicit keyword will result in an error or misinterpretation.\n",
            "  warnings.warn(\n"
          ]
        },
        {
          "output_type": "execute_result",
          "data": {
            "text/plain": [
              "<AxesSubplot:xlabel='DISCUSSION_COUNT'>"
            ]
          },
          "metadata": {},
          "execution_count": 22
        },
        {
          "output_type": "display_data",
          "data": {
            "text/plain": [
              "<Figure size 432x288 with 1 Axes>"
            ],
            "image/png": "[encoded data removed]"
          },
          "metadata": {
            "needs_background": "light"
          }
        }
      ]
    },
    {
      "cell_type": "code",
      "source": [],
      "metadata": {
        "id": "GsdxWUVocStr"
      },
      "id": "GsdxWUVocStr",
      "execution_count": null,
      "outputs": []
    }
  ],
  "metadata": {
    "kernelspec": {
      "display_name": "Python 3 (ipykernel)",
      "language": "python",
      "name": "python3"
    },
    "language_info": {
      "codemirror_mode": {
        "name": "ipython",
        "version": 3
      },
      "file_extension": ".py",
      "mimetype": "text/x-python",
      "name": "python",
      "nbconvert_exporter": "python",
      "pygments_lexer": "ipython3",
      "version": "3.9.12"
    },
    "colab": {
      "provenance": [],
      "include_colab_link": true
    }
  },
  "nbformat": 4,
  "nbformat_minor": 5
}