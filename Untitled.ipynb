{
 "cells": [
  {
   "cell_type": "code",
   "execution_count": 1,
   "id": "e2462599",
   "metadata": {},
   "outputs": [],
   "source": [
    "import pandas as pd"
   ]
  },
  {
   "cell_type": "code",
   "execution_count": 56,
   "id": "c8b6843f",
   "metadata": {},
   "outputs": [],
   "source": [
    "import numpy as np\n",
    "import seaborn as sns\n",
    "import matplotlib.pyplot as plt"
   ]
  },
  {
   "cell_type": "markdown",
   "id": "c3b2b308",
   "metadata": {},
   "source": [
    "## Loading data"
   ]
  },
  {
   "cell_type": "code",
   "execution_count": 3,
   "id": "c8ad2dad",
   "metadata": {},
   "outputs": [],
   "source": [
    "df = pd.read_csv(\"kaggle_bot_accounts.csv\")"
   ]
  },
  {
   "cell_type": "markdown",
   "id": "49fd0a82",
   "metadata": {},
   "source": [
    "## Displaying data"
   ]
  },
  {
   "cell_type": "code",
   "execution_count": 4,
   "id": "e2de8fcd",
   "metadata": {},
   "outputs": [
    {
     "data": {
      "text/html": [
       "<div>\n",
       "<style scoped>\n",
       "    .dataframe tbody tr th:only-of-type {\n",
       "        vertical-align: middle;\n",
       "    }\n",
       "\n",
       "    .dataframe tbody tr th {\n",
       "        vertical-align: top;\n",
       "    }\n",
       "\n",
       "    .dataframe thead th {\n",
       "        text-align: right;\n",
       "    }\n",
       "</style>\n",
       "<table border=\"1\" class=\"dataframe\">\n",
       "  <thead>\n",
       "    <tr style=\"text-align: right;\">\n",
       "      <th></th>\n",
       "      <th>Unnamed: 0</th>\n",
       "      <th>NAME</th>\n",
       "      <th>GENDER</th>\n",
       "      <th>EMAIL_ID</th>\n",
       "      <th>IS_GLOGIN</th>\n",
       "      <th>FOLLOWER_COUNT</th>\n",
       "      <th>FOLLOWING_COUNT</th>\n",
       "      <th>DATASET_COUNT</th>\n",
       "      <th>CODE_COUNT</th>\n",
       "      <th>DISCUSSION_COUNT</th>\n",
       "      <th>AVG_NB_READ_TIME_MIN</th>\n",
       "      <th>REGISTRATION_IPV4</th>\n",
       "      <th>REGISTRATION_LOCATION</th>\n",
       "      <th>TOTAL_VOTES_GAVE_NB</th>\n",
       "      <th>TOTAL_VOTES_GAVE_DS</th>\n",
       "      <th>TOTAL_VOTES_GAVE_DC</th>\n",
       "      <th>ISBOT</th>\n",
       "    </tr>\n",
       "  </thead>\n",
       "  <tbody>\n",
       "    <tr>\n",
       "      <th>0</th>\n",
       "      <td>0</td>\n",
       "      <td>Johnny KerrThomas</td>\n",
       "      <td>Male</td>\n",
       "      <td>jacksonalan@example.com</td>\n",
       "      <td>False</td>\n",
       "      <td>53.0</td>\n",
       "      <td>87.0</td>\n",
       "      <td>5.0</td>\n",
       "      <td>3.0</td>\n",
       "      <td>124.0</td>\n",
       "      <td>NaN</td>\n",
       "      <td>81.88.75.170</td>\n",
       "      <td>Argentina</td>\n",
       "      <td>16.0</td>\n",
       "      <td>10.0</td>\n",
       "      <td>3.0</td>\n",
       "      <td>NaN</td>\n",
       "    </tr>\n",
       "    <tr>\n",
       "      <th>1</th>\n",
       "      <td>1</td>\n",
       "      <td>Dwayne LarsenLara</td>\n",
       "      <td>Male</td>\n",
       "      <td>calvin80@example.com</td>\n",
       "      <td>True</td>\n",
       "      <td>16.0</td>\n",
       "      <td>67.0</td>\n",
       "      <td>5.0</td>\n",
       "      <td>NaN</td>\n",
       "      <td>26.0</td>\n",
       "      <td>24.97</td>\n",
       "      <td>NaN</td>\n",
       "      <td>New Zealand</td>\n",
       "      <td>14.0</td>\n",
       "      <td>5.0</td>\n",
       "      <td>2.0</td>\n",
       "      <td>NaN</td>\n",
       "    </tr>\n",
       "    <tr>\n",
       "      <th>2</th>\n",
       "      <td>2</td>\n",
       "      <td>NaN</td>\n",
       "      <td>Male</td>\n",
       "      <td>qbrown@example.net</td>\n",
       "      <td>True</td>\n",
       "      <td>44.0</td>\n",
       "      <td>81.0</td>\n",
       "      <td>4.0</td>\n",
       "      <td>17.0</td>\n",
       "      <td>125.0</td>\n",
       "      <td>7.75</td>\n",
       "      <td>159.202.103.178</td>\n",
       "      <td>Costa Rica</td>\n",
       "      <td>16.0</td>\n",
       "      <td>4.0</td>\n",
       "      <td>0.0</td>\n",
       "      <td>False</td>\n",
       "    </tr>\n",
       "    <tr>\n",
       "      <th>3</th>\n",
       "      <td>3</td>\n",
       "      <td>Russell SimmonsPhillips</td>\n",
       "      <td>Male</td>\n",
       "      <td>kimberlywagner@example.com</td>\n",
       "      <td>True</td>\n",
       "      <td>23.0</td>\n",
       "      <td>114.0</td>\n",
       "      <td>5.0</td>\n",
       "      <td>24.0</td>\n",
       "      <td>67.0</td>\n",
       "      <td>13.40</td>\n",
       "      <td>196.11.132.51</td>\n",
       "      <td>Italy</td>\n",
       "      <td>21.0</td>\n",
       "      <td>10.0</td>\n",
       "      <td>1.0</td>\n",
       "      <td>False</td>\n",
       "    </tr>\n",
       "    <tr>\n",
       "      <th>4</th>\n",
       "      <td>4</td>\n",
       "      <td>Jamie WilsonMartinez</td>\n",
       "      <td>Female</td>\n",
       "      <td>shaunbrooks@example.com</td>\n",
       "      <td>False</td>\n",
       "      <td>46.0</td>\n",
       "      <td>112.0</td>\n",
       "      <td>2.0</td>\n",
       "      <td>12.0</td>\n",
       "      <td>63.0</td>\n",
       "      <td>24.83</td>\n",
       "      <td>159.196.199.20</td>\n",
       "      <td>Belgium</td>\n",
       "      <td>10.0</td>\n",
       "      <td>6.0</td>\n",
       "      <td>2.0</td>\n",
       "      <td>False</td>\n",
       "    </tr>\n",
       "    <tr>\n",
       "      <th>...</th>\n",
       "      <td>...</td>\n",
       "      <td>...</td>\n",
       "      <td>...</td>\n",
       "      <td>...</td>\n",
       "      <td>...</td>\n",
       "      <td>...</td>\n",
       "      <td>...</td>\n",
       "      <td>...</td>\n",
       "      <td>...</td>\n",
       "      <td>...</td>\n",
       "      <td>...</td>\n",
       "      <td>...</td>\n",
       "      <td>...</td>\n",
       "      <td>...</td>\n",
       "      <td>...</td>\n",
       "      <td>...</td>\n",
       "      <td>...</td>\n",
       "    </tr>\n",
       "    <tr>\n",
       "      <th>1321183</th>\n",
       "      <td>1321183</td>\n",
       "      <td>Kristen MooreJoseph</td>\n",
       "      <td>Female</td>\n",
       "      <td>penningtondebra@example.net</td>\n",
       "      <td>False</td>\n",
       "      <td>1.0</td>\n",
       "      <td>3.0</td>\n",
       "      <td>0.0</td>\n",
       "      <td>1.0</td>\n",
       "      <td>9.0</td>\n",
       "      <td>0.26</td>\n",
       "      <td>46.209.124.151</td>\n",
       "      <td>United States Minor Outlying Islands</td>\n",
       "      <td>25.0</td>\n",
       "      <td>10.0</td>\n",
       "      <td>NaN</td>\n",
       "      <td>True</td>\n",
       "    </tr>\n",
       "    <tr>\n",
       "      <th>1321184</th>\n",
       "      <td>1321184</td>\n",
       "      <td>Kimberly ThomasGutierrez</td>\n",
       "      <td>Female</td>\n",
       "      <td>kerrycastro@example.com</td>\n",
       "      <td>True</td>\n",
       "      <td>20.0</td>\n",
       "      <td>60.0</td>\n",
       "      <td>6.0</td>\n",
       "      <td>14.0</td>\n",
       "      <td>44.0</td>\n",
       "      <td>23.39</td>\n",
       "      <td>220.247.154.162</td>\n",
       "      <td>Algeria</td>\n",
       "      <td>22.0</td>\n",
       "      <td>10.0</td>\n",
       "      <td>3.0</td>\n",
       "      <td>False</td>\n",
       "    </tr>\n",
       "    <tr>\n",
       "      <th>1321185</th>\n",
       "      <td>1321185</td>\n",
       "      <td>Hector TerryLogan</td>\n",
       "      <td>Male</td>\n",
       "      <td>jonesmisty@example.net</td>\n",
       "      <td>True</td>\n",
       "      <td>20.0</td>\n",
       "      <td>64.0</td>\n",
       "      <td>3.0</td>\n",
       "      <td>24.0</td>\n",
       "      <td>67.0</td>\n",
       "      <td>9.49</td>\n",
       "      <td>150.144.209.44</td>\n",
       "      <td>Croatia</td>\n",
       "      <td>24.0</td>\n",
       "      <td>7.0</td>\n",
       "      <td>0.0</td>\n",
       "      <td>False</td>\n",
       "    </tr>\n",
       "    <tr>\n",
       "      <th>1321186</th>\n",
       "      <td>1321186</td>\n",
       "      <td>William CollinsMartinez</td>\n",
       "      <td>NaN</td>\n",
       "      <td>erin58@example.net</td>\n",
       "      <td>False</td>\n",
       "      <td>0.0</td>\n",
       "      <td>1.0</td>\n",
       "      <td>0.0</td>\n",
       "      <td>0.0</td>\n",
       "      <td>3.0</td>\n",
       "      <td>1.70</td>\n",
       "      <td>146.121.179.46</td>\n",
       "      <td>NaN</td>\n",
       "      <td>14.0</td>\n",
       "      <td>8.0</td>\n",
       "      <td>NaN</td>\n",
       "      <td>True</td>\n",
       "    </tr>\n",
       "    <tr>\n",
       "      <th>1321187</th>\n",
       "      <td>1321187</td>\n",
       "      <td>Susan WilliamsJimenez</td>\n",
       "      <td>Female</td>\n",
       "      <td>NaN</td>\n",
       "      <td>False</td>\n",
       "      <td>0.0</td>\n",
       "      <td>3.0</td>\n",
       "      <td>0.0</td>\n",
       "      <td>NaN</td>\n",
       "      <td>0.0</td>\n",
       "      <td>0.53</td>\n",
       "      <td>118.38.253.89</td>\n",
       "      <td>Cook Islands</td>\n",
       "      <td>24.0</td>\n",
       "      <td>9.0</td>\n",
       "      <td>0.0</td>\n",
       "      <td>True</td>\n",
       "    </tr>\n",
       "  </tbody>\n",
       "</table>\n",
       "<p>1321188 rows × 17 columns</p>\n",
       "</div>"
      ],
      "text/plain": [
       "         Unnamed: 0                      NAME  GENDER  \\\n",
       "0                 0         Johnny KerrThomas    Male   \n",
       "1                 1         Dwayne LarsenLara    Male   \n",
       "2                 2                       NaN    Male   \n",
       "3                 3   Russell SimmonsPhillips    Male   \n",
       "4                 4      Jamie WilsonMartinez  Female   \n",
       "...             ...                       ...     ...   \n",
       "1321183     1321183       Kristen MooreJoseph  Female   \n",
       "1321184     1321184  Kimberly ThomasGutierrez  Female   \n",
       "1321185     1321185         Hector TerryLogan    Male   \n",
       "1321186     1321186   William CollinsMartinez     NaN   \n",
       "1321187     1321187     Susan WilliamsJimenez  Female   \n",
       "\n",
       "                            EMAIL_ID IS_GLOGIN  FOLLOWER_COUNT  \\\n",
       "0            jacksonalan@example.com     False            53.0   \n",
       "1               calvin80@example.com      True            16.0   \n",
       "2                 qbrown@example.net      True            44.0   \n",
       "3         kimberlywagner@example.com      True            23.0   \n",
       "4            shaunbrooks@example.com     False            46.0   \n",
       "...                              ...       ...             ...   \n",
       "1321183  penningtondebra@example.net     False             1.0   \n",
       "1321184      kerrycastro@example.com      True            20.0   \n",
       "1321185       jonesmisty@example.net      True            20.0   \n",
       "1321186           erin58@example.net     False             0.0   \n",
       "1321187                          NaN     False             0.0   \n",
       "\n",
       "         FOLLOWING_COUNT  DATASET_COUNT  CODE_COUNT  DISCUSSION_COUNT  \\\n",
       "0                   87.0            5.0         3.0             124.0   \n",
       "1                   67.0            5.0         NaN              26.0   \n",
       "2                   81.0            4.0        17.0             125.0   \n",
       "3                  114.0            5.0        24.0              67.0   \n",
       "4                  112.0            2.0        12.0              63.0   \n",
       "...                  ...            ...         ...               ...   \n",
       "1321183              3.0            0.0         1.0               9.0   \n",
       "1321184             60.0            6.0        14.0              44.0   \n",
       "1321185             64.0            3.0        24.0              67.0   \n",
       "1321186              1.0            0.0         0.0               3.0   \n",
       "1321187              3.0            0.0         NaN               0.0   \n",
       "\n",
       "         AVG_NB_READ_TIME_MIN REGISTRATION_IPV4  \\\n",
       "0                         NaN      81.88.75.170   \n",
       "1                       24.97               NaN   \n",
       "2                        7.75   159.202.103.178   \n",
       "3                       13.40     196.11.132.51   \n",
       "4                       24.83    159.196.199.20   \n",
       "...                       ...               ...   \n",
       "1321183                  0.26    46.209.124.151   \n",
       "1321184                 23.39   220.247.154.162   \n",
       "1321185                  9.49    150.144.209.44   \n",
       "1321186                  1.70    146.121.179.46   \n",
       "1321187                  0.53     118.38.253.89   \n",
       "\n",
       "                        REGISTRATION_LOCATION  TOTAL_VOTES_GAVE_NB  \\\n",
       "0                                   Argentina                 16.0   \n",
       "1                                 New Zealand                 14.0   \n",
       "2                                  Costa Rica                 16.0   \n",
       "3                                       Italy                 21.0   \n",
       "4                                     Belgium                 10.0   \n",
       "...                                       ...                  ...   \n",
       "1321183  United States Minor Outlying Islands                 25.0   \n",
       "1321184                               Algeria                 22.0   \n",
       "1321185                               Croatia                 24.0   \n",
       "1321186                                   NaN                 14.0   \n",
       "1321187                          Cook Islands                 24.0   \n",
       "\n",
       "         TOTAL_VOTES_GAVE_DS  TOTAL_VOTES_GAVE_DC  ISBOT  \n",
       "0                       10.0                  3.0    NaN  \n",
       "1                        5.0                  2.0    NaN  \n",
       "2                        4.0                  0.0  False  \n",
       "3                       10.0                  1.0  False  \n",
       "4                        6.0                  2.0  False  \n",
       "...                      ...                  ...    ...  \n",
       "1321183                 10.0                  NaN   True  \n",
       "1321184                 10.0                  3.0  False  \n",
       "1321185                  7.0                  0.0  False  \n",
       "1321186                  8.0                  NaN   True  \n",
       "1321187                  9.0                  0.0   True  \n",
       "\n",
       "[1321188 rows x 17 columns]"
      ]
     },
     "execution_count": 4,
     "metadata": {},
     "output_type": "execute_result"
    }
   ],
   "source": [
    "df"
   ]
  },
  {
   "cell_type": "markdown",
   "id": "753d9fac",
   "metadata": {},
   "source": [
    "## Review the data set structure and data types"
   ]
  },
  {
   "cell_type": "code",
   "execution_count": 5,
   "id": "ff142b17",
   "metadata": {},
   "outputs": [
    {
     "name": "stdout",
     "output_type": "stream",
     "text": [
      "<class 'pandas.core.frame.DataFrame'>\n",
      "RangeIndex: 1321188 entries, 0 to 1321187\n",
      "Data columns (total 17 columns):\n",
      " #   Column                 Non-Null Count    Dtype  \n",
      "---  ------                 --------------    -----  \n",
      " 0   Unnamed: 0             1321188 non-null  int64  \n",
      " 1   NAME                   1243024 non-null  object \n",
      " 2   GENDER                 1243309 non-null  object \n",
      " 3   EMAIL_ID               1243374 non-null  object \n",
      " 4   IS_GLOGIN              1243272 non-null  object \n",
      " 5   FOLLOWER_COUNT         1243476 non-null  float64\n",
      " 6   FOLLOWING_COUNT        1242743 non-null  float64\n",
      " 7   DATASET_COUNT          1242621 non-null  float64\n",
      " 8   CODE_COUNT             1243262 non-null  float64\n",
      " 9   DISCUSSION_COUNT       1243466 non-null  float64\n",
      " 10  AVG_NB_READ_TIME_MIN   1242872 non-null  float64\n",
      " 11  REGISTRATION_IPV4      1242859 non-null  object \n",
      " 12  REGISTRATION_LOCATION  1242898 non-null  object \n",
      " 13  TOTAL_VOTES_GAVE_NB    1243483 non-null  float64\n",
      " 14  TOTAL_VOTES_GAVE_DS    1243254 non-null  float64\n",
      " 15  TOTAL_VOTES_GAVE_DC    1243158 non-null  float64\n",
      " 16  ISBOT                  1242688 non-null  object \n",
      "dtypes: float64(9), int64(1), object(7)\n",
      "memory usage: 171.4+ MB\n"
     ]
    }
   ],
   "source": [
    "df.info()"
   ]
  },
  {
   "cell_type": "code",
   "execution_count": 63,
   "id": "ed14df3e",
   "metadata": {},
   "outputs": [
    {
     "data": {
      "text/plain": [
       "(1321188, 17)"
      ]
     },
     "execution_count": 63,
     "metadata": {},
     "output_type": "execute_result"
    }
   ],
   "source": [
    "df.shape"
   ]
  },
  {
   "cell_type": "markdown",
   "id": "b1dda258",
   "metadata": {},
   "source": [
    "## Finding the features of data"
   ]
  },
  {
   "cell_type": "code",
   "execution_count": 6,
   "id": "beefe19c",
   "metadata": {},
   "outputs": [
    {
     "data": {
      "text/plain": [
       "Unnamed: 0               1321188\n",
       "NAME                     1243024\n",
       "GENDER                   1243309\n",
       "EMAIL_ID                 1243374\n",
       "IS_GLOGIN                1243272\n",
       "FOLLOWER_COUNT           1243476\n",
       "FOLLOWING_COUNT          1242743\n",
       "DATASET_COUNT            1242621\n",
       "CODE_COUNT               1243262\n",
       "DISCUSSION_COUNT         1243466\n",
       "AVG_NB_READ_TIME_MIN     1242872\n",
       "REGISTRATION_IPV4        1242859\n",
       "REGISTRATION_LOCATION    1242898\n",
       "TOTAL_VOTES_GAVE_NB      1243483\n",
       "TOTAL_VOTES_GAVE_DS      1243254\n",
       "TOTAL_VOTES_GAVE_DC      1243158\n",
       "ISBOT                    1242688\n",
       "dtype: int64"
      ]
     },
     "execution_count": 6,
     "metadata": {},
     "output_type": "execute_result"
    }
   ],
   "source": [
    "df.count()"
   ]
  },
  {
   "cell_type": "markdown",
   "id": "846a4517",
   "metadata": {},
   "source": [
    "## Finding the total number of records in data set"
   ]
  },
  {
   "cell_type": "code",
   "execution_count": 7,
   "id": "9f81ffff",
   "metadata": {},
   "outputs": [
    {
     "data": {
      "text/plain": [
       "RangeIndex(start=0, stop=1321188, step=1)"
      ]
     },
     "execution_count": 7,
     "metadata": {},
     "output_type": "execute_result"
    }
   ],
   "source": [
    "df.index"
   ]
  },
  {
   "cell_type": "markdown",
   "id": "2a780d48",
   "metadata": {},
   "source": [
    "## Finding distribution of each feature"
   ]
  },
  {
   "cell_type": "code",
   "execution_count": 8,
   "id": "c6baa048",
   "metadata": {},
   "outputs": [
    {
     "data": {
      "image/png": "[encoded data removed]",
      "text/plain": [
       "<Figure size 432x288 with 1 Axes>"
      ]
     },
     "metadata": {
      "needs_background": "light"
     },
     "output_type": "display_data"
    }
   ],
   "source": [
    "import matplotlib.pyplot as plt\n",
    "df['FOLLOWER_COUNT'].value_counts().hist(bins = 20)\n",
    "plt.title('Distribution')\n",
    "plt.xlabel('x lable')\n",
    "plt.ylabel('y lable')\n",
    "plt.show()"
   ]
  },
  {
   "cell_type": "markdown",
   "id": "149858d3",
   "metadata": {},
   "source": [
    "## Checking the unique values different features"
   ]
  },
  {
   "cell_type": "code",
   "execution_count": 9,
   "id": "100c4dcd",
   "metadata": {},
   "outputs": [
    {
     "name": "stdout",
     "output_type": "stream",
     "text": [
      "['Johnny KerrThomas' 'Dwayne LarsenLara' nan ... 'Hector TerryLogan'\n",
      " 'William CollinsMartinez' 'Susan WilliamsJimenez']\n"
     ]
    }
   ],
   "source": [
    "print(df[\"NAME\"].unique())"
   ]
  },
  {
   "cell_type": "code",
   "execution_count": 10,
   "id": "19022442",
   "metadata": {},
   "outputs": [
    {
     "name": "stdout",
     "output_type": "stream",
     "text": [
      "1199433\n"
     ]
    }
   ],
   "source": [
    "uniqueValues = df['NAME'].nunique()\n",
    "print(uniqueValues)"
   ]
  },
  {
   "cell_type": "code",
   "execution_count": 73,
   "id": "49650628",
   "metadata": {},
   "outputs": [
    {
     "name": "stdout",
     "output_type": "stream",
     "text": [
      "2\n"
     ]
    }
   ],
   "source": [
    "uniqueValues = df['GENDER'].nunique()\n",
    "print(uniqueValues)"
   ]
  },
  {
   "cell_type": "code",
   "execution_count": 74,
   "id": "281997a9",
   "metadata": {},
   "outputs": [
    {
     "name": "stdout",
     "output_type": "stream",
     "text": [
      "603013\n"
     ]
    }
   ],
   "source": [
    "uniqueValues = df['EMAIL_ID'].nunique()\n",
    "print(uniqueValues)"
   ]
  },
  {
   "cell_type": "markdown",
   "id": "bc7c583e",
   "metadata": {},
   "source": [
    "## Finding distribution of categorical features"
   ]
  },
  {
   "cell_type": "code",
   "execution_count": 49,
   "id": "6396d98a",
   "metadata": {
    "scrolled": true
   },
   "outputs": [
    {
     "name": "stdout",
     "output_type": "stream",
     "text": [
      "        Unnamed: 0    NAME  EMAIL_ID  IS_GLOGIN  FOLLOWER_COUNT  \\\n",
      "GENDER                                                            \n",
      "Female      311089  292518    292770     293017          292655   \n",
      "Male        932220  877231    877196     877019          877443   \n",
      "\n",
      "        FOLLOWING_COUNT  DATASET_COUNT  CODE_COUNT  DISCUSSION_COUNT  \\\n",
      "GENDER                                                                 \n",
      "Female           292716         292468      292578            292749   \n",
      "Male             876868         876851      877462            877392   \n",
      "\n",
      "        AVG_NB_READ_TIME_MIN  REGISTRATION_IPV4  REGISTRATION_LOCATION  \\\n",
      "GENDER                                                                   \n",
      "Female                292719             292705                 292656   \n",
      "Male                  876851             876924                 876884   \n",
      "\n",
      "        TOTAL_VOTES_GAVE_NB  TOTAL_VOTES_GAVE_DS  TOTAL_VOTES_GAVE_DC   ISBOT  \n",
      "GENDER                                                                         \n",
      "Female               292837               292742               292613  292503  \n",
      "Male                 877415               877399               877199  876783  \n"
     ]
    }
   ],
   "source": [
    "s=df.groupby('GENDER').count()\n",
    "print(s)"
   ]
  },
  {
   "cell_type": "code",
   "execution_count": 59,
   "id": "1ae9ee88",
   "metadata": {},
   "outputs": [
    {
     "data": {
      "text/plain": [
       "<AxesSubplot:>"
      ]
     },
     "execution_count": 59,
     "metadata": {},
     "output_type": "execute_result"
    },
    {
     "data": {
      "image/png": "[encoded data removed]",
      "text/plain": [
       "<Figure size 432x288 with 1 Axes>"
      ]
     },
     "metadata": {
      "needs_background": "light"
     },
     "output_type": "display_data"
    }
   ],
   "source": [
    "df['GENDER'].value_counts().plot.bar(rot=0)"
   ]
  },
  {
   "cell_type": "code",
   "execution_count": 50,
   "id": "9727304b",
   "metadata": {},
   "outputs": [
    {
     "name": "stdout",
     "output_type": "stream",
     "text": [
      "           Unnamed: 0    NAME  GENDER  EMAIL_ID  FOLLOWER_COUNT  \\\n",
      "IS_GLOGIN                                                         \n",
      "False          788359  741612  742282    741948          741885   \n",
      "True           454913  428024  427754    428169          428228   \n",
      "\n",
      "           FOLLOWING_COUNT  DATASET_COUNT  CODE_COUNT  DISCUSSION_COUNT  \\\n",
      "IS_GLOGIN                                                                 \n",
      "False               741665         741466      741904            742134   \n",
      "True                427868         427926      427956            427988   \n",
      "\n",
      "           AVG_NB_READ_TIME_MIN  REGISTRATION_IPV4  REGISTRATION_LOCATION  \\\n",
      "IS_GLOGIN                                                                   \n",
      "False                    741530             741604                 741734   \n",
      "True                     427990             427940                 427924   \n",
      "\n",
      "           TOTAL_VOTES_GAVE_NB  TOTAL_VOTES_GAVE_DS  TOTAL_VOTES_GAVE_DC  \\\n",
      "IS_GLOGIN                                                                  \n",
      "False                   741806               741810               741692   \n",
      "True                    428358               428152               428126   \n",
      "\n",
      "            ISBOT  \n",
      "IS_GLOGIN          \n",
      "False      741455  \n",
      "True       427908  \n"
     ]
    }
   ],
   "source": [
    "s=df.groupby('IS_GLOGIN').count()\n",
    "print(s)"
   ]
  },
  {
   "cell_type": "code",
   "execution_count": 60,
   "id": "231d3663",
   "metadata": {},
   "outputs": [
    {
     "data": {
      "text/plain": [
       "<AxesSubplot:>"
      ]
     },
     "execution_count": 60,
     "metadata": {},
     "output_type": "execute_result"
    },
    {
     "data": {
      "image/png": "[encoded data removed]",
      "text/plain": [
       "<Figure size 432x288 with 1 Axes>"
      ]
     },
     "metadata": {
      "needs_background": "light"
     },
     "output_type": "display_data"
    }
   ],
   "source": [
    "df['IS_GLOGIN'].value_counts().plot.bar(rot=0)"
   ]
  },
  {
   "cell_type": "code",
   "execution_count": 51,
   "id": "c8ef3576",
   "metadata": {},
   "outputs": [
    {
     "name": "stdout",
     "output_type": "stream",
     "text": [
      "       Unnamed: 0    NAME  GENDER  EMAIL_ID  IS_GLOGIN  FOLLOWER_COUNT  \\\n",
      "ISBOT                                                                    \n",
      "False      909794  855903  856031    856254     856074          856238   \n",
      "True       332894  313326  313255    313217     313289          313411   \n",
      "\n",
      "       FOLLOWING_COUNT  DATASET_COUNT  CODE_COUNT  DISCUSSION_COUNT  \\\n",
      "ISBOT                                                                 \n",
      "False           855669         855819      856128            856275   \n",
      "True            313244         312956      313172            313341   \n",
      "\n",
      "       AVG_NB_READ_TIME_MIN  REGISTRATION_IPV4  REGISTRATION_LOCATION  \\\n",
      "ISBOT                                                                   \n",
      "False                856042             855998                 855900   \n",
      "True                 312948             313039                 313166   \n",
      "\n",
      "       TOTAL_VOTES_GAVE_NB  TOTAL_VOTES_GAVE_DS  TOTAL_VOTES_GAVE_DC  \n",
      "ISBOT                                                                 \n",
      "False               856380               856184               856095  \n",
      "True                313177               313217               313260  \n"
     ]
    }
   ],
   "source": [
    "s=df.groupby('ISBOT').count()\n",
    "print(s)"
   ]
  },
  {
   "cell_type": "code",
   "execution_count": 61,
   "id": "8a045104",
   "metadata": {},
   "outputs": [
    {
     "data": {
      "text/plain": [
       "<AxesSubplot:>"
      ]
     },
     "execution_count": 61,
     "metadata": {},
     "output_type": "execute_result"
    },
    {
     "data": {
      "image/png": "[encoded data removed]",
      "text/plain": [
       "<Figure size 432x288 with 1 Axes>"
      ]
     },
     "metadata": {
      "needs_background": "light"
     },
     "output_type": "display_data"
    }
   ],
   "source": [
    "df['ISBOT'].value_counts().plot.bar(rot=0)"
   ]
  },
  {
   "cell_type": "markdown",
   "id": "d6877e7a",
   "metadata": {},
   "source": [
    "## Finding descriptive statistics to understand the central tendency and spread of the data"
   ]
  },
  {
   "cell_type": "code",
   "execution_count": 64,
   "id": "261cbfbd",
   "metadata": {},
   "outputs": [
    {
     "name": "stderr",
     "output_type": "stream",
     "text": [
      "/tmp/ipykernel_5328/3698961737.py:1: FutureWarning: Dropping of nuisance columns in DataFrame reductions (with 'numeric_only=None') is deprecated; in a future version this will raise TypeError.  Select only valid columns before calling the reduction.\n",
      "  df.mean()\n"
     ]
    },
    {
     "data": {
      "text/plain": [
       "Unnamed: 0              660593.500000\n",
       "IS_GLOGIN                    0.365900\n",
       "FOLLOWER_COUNT              26.982729\n",
       "FOLLOWING_COUNT             45.050914\n",
       "DATASET_COUNT                2.562564\n",
       "CODE_COUNT                  10.384503\n",
       "DISCUSSION_COUNT            65.842444\n",
       "AVG_NB_READ_TIME_MIN        12.742246\n",
       "TOTAL_VOTES_GAVE_NB         17.506563\n",
       "TOTAL_VOTES_GAVE_DS          6.501007\n",
       "TOTAL_VOTES_GAVE_DC          1.500373\n",
       "ISBOT                        0.267882\n",
       "dtype: float64"
      ]
     },
     "execution_count": 64,
     "metadata": {},
     "output_type": "execute_result"
    }
   ],
   "source": [
    "df.mean()"
   ]
  },
  {
   "cell_type": "code",
   "execution_count": 66,
   "id": "7eb0a3c4",
   "metadata": {},
   "outputs": [
    {
     "name": "stderr",
     "output_type": "stream",
     "text": [
      "/tmp/ipykernel_5328/530051474.py:1: FutureWarning: Dropping of nuisance columns in DataFrame reductions (with 'numeric_only=None') is deprecated; in a future version this will raise TypeError.  Select only valid columns before calling the reduction.\n",
      "  df.median()\n"
     ]
    },
    {
     "data": {
      "text/plain": [
       "Unnamed: 0              660593.50\n",
       "IS_GLOGIN                    0.00\n",
       "FOLLOWER_COUNT              24.00\n",
       "FOLLOWING_COUNT             39.00\n",
       "DATASET_COUNT                2.00\n",
       "CODE_COUNT                  10.00\n",
       "DISCUSSION_COUNT            65.00\n",
       "AVG_NB_READ_TIME_MIN        12.29\n",
       "TOTAL_VOTES_GAVE_NB         18.00\n",
       "TOTAL_VOTES_GAVE_DS          7.00\n",
       "TOTAL_VOTES_GAVE_DC          2.00\n",
       "ISBOT                        0.00\n",
       "dtype: float64"
      ]
     },
     "execution_count": 66,
     "metadata": {},
     "output_type": "execute_result"
    }
   ],
   "source": [
    "df.median()"
   ]
  },
  {
   "cell_type": "code",
   "execution_count": 67,
   "id": "34fb8a9c",
   "metadata": {},
   "outputs": [
    {
     "data": {
      "text/html": [
       "<div>\n",
       "<style scoped>\n",
       "    .dataframe tbody tr th:only-of-type {\n",
       "        vertical-align: middle;\n",
       "    }\n",
       "\n",
       "    .dataframe tbody tr th {\n",
       "        vertical-align: top;\n",
       "    }\n",
       "\n",
       "    .dataframe thead th {\n",
       "        text-align: right;\n",
       "    }\n",
       "</style>\n",
       "<table border=\"1\" class=\"dataframe\">\n",
       "  <thead>\n",
       "    <tr style=\"text-align: right;\">\n",
       "      <th></th>\n",
       "      <th>Unnamed: 0</th>\n",
       "      <th>NAME</th>\n",
       "      <th>GENDER</th>\n",
       "      <th>EMAIL_ID</th>\n",
       "      <th>IS_GLOGIN</th>\n",
       "      <th>FOLLOWER_COUNT</th>\n",
       "      <th>FOLLOWING_COUNT</th>\n",
       "      <th>DATASET_COUNT</th>\n",
       "      <th>CODE_COUNT</th>\n",
       "      <th>DISCUSSION_COUNT</th>\n",
       "      <th>AVG_NB_READ_TIME_MIN</th>\n",
       "      <th>REGISTRATION_IPV4</th>\n",
       "      <th>REGISTRATION_LOCATION</th>\n",
       "      <th>TOTAL_VOTES_GAVE_NB</th>\n",
       "      <th>TOTAL_VOTES_GAVE_DS</th>\n",
       "      <th>TOTAL_VOTES_GAVE_DC</th>\n",
       "      <th>ISBOT</th>\n",
       "    </tr>\n",
       "  </thead>\n",
       "  <tbody>\n",
       "    <tr>\n",
       "      <th>0</th>\n",
       "      <td>0</td>\n",
       "      <td>David SmithSmith</td>\n",
       "      <td>Male</td>\n",
       "      <td>csmith@example.org</td>\n",
       "      <td>False</td>\n",
       "      <td>1.0</td>\n",
       "      <td>3.0</td>\n",
       "      <td>0.0</td>\n",
       "      <td>1.0</td>\n",
       "      <td>11.0</td>\n",
       "      <td>0.5</td>\n",
       "      <td>101.53.134.126</td>\n",
       "      <td>Korea</td>\n",
       "      <td>24.0</td>\n",
       "      <td>9.0</td>\n",
       "      <td>2.0</td>\n",
       "      <td>False</td>\n",
       "    </tr>\n",
       "    <tr>\n",
       "      <th>1</th>\n",
       "      <td>1</td>\n",
       "      <td>NaN</td>\n",
       "      <td>NaN</td>\n",
       "      <td>NaN</td>\n",
       "      <td>NaN</td>\n",
       "      <td>NaN</td>\n",
       "      <td>NaN</td>\n",
       "      <td>NaN</td>\n",
       "      <td>NaN</td>\n",
       "      <td>NaN</td>\n",
       "      <td>NaN</td>\n",
       "      <td>105.57.55.152</td>\n",
       "      <td>NaN</td>\n",
       "      <td>NaN</td>\n",
       "      <td>NaN</td>\n",
       "      <td>NaN</td>\n",
       "      <td>NaN</td>\n",
       "    </tr>\n",
       "    <tr>\n",
       "      <th>2</th>\n",
       "      <td>2</td>\n",
       "      <td>NaN</td>\n",
       "      <td>NaN</td>\n",
       "      <td>NaN</td>\n",
       "      <td>NaN</td>\n",
       "      <td>NaN</td>\n",
       "      <td>NaN</td>\n",
       "      <td>NaN</td>\n",
       "      <td>NaN</td>\n",
       "      <td>NaN</td>\n",
       "      <td>NaN</td>\n",
       "      <td>106.197.191.163</td>\n",
       "      <td>NaN</td>\n",
       "      <td>NaN</td>\n",
       "      <td>NaN</td>\n",
       "      <td>NaN</td>\n",
       "      <td>NaN</td>\n",
       "    </tr>\n",
       "    <tr>\n",
       "      <th>3</th>\n",
       "      <td>3</td>\n",
       "      <td>NaN</td>\n",
       "      <td>NaN</td>\n",
       "      <td>NaN</td>\n",
       "      <td>NaN</td>\n",
       "      <td>NaN</td>\n",
       "      <td>NaN</td>\n",
       "      <td>NaN</td>\n",
       "      <td>NaN</td>\n",
       "      <td>NaN</td>\n",
       "      <td>NaN</td>\n",
       "      <td>106.214.11.236</td>\n",
       "      <td>NaN</td>\n",
       "      <td>NaN</td>\n",
       "      <td>NaN</td>\n",
       "      <td>NaN</td>\n",
       "      <td>NaN</td>\n",
       "    </tr>\n",
       "    <tr>\n",
       "      <th>4</th>\n",
       "      <td>4</td>\n",
       "      <td>NaN</td>\n",
       "      <td>NaN</td>\n",
       "      <td>NaN</td>\n",
       "      <td>NaN</td>\n",
       "      <td>NaN</td>\n",
       "      <td>NaN</td>\n",
       "      <td>NaN</td>\n",
       "      <td>NaN</td>\n",
       "      <td>NaN</td>\n",
       "      <td>NaN</td>\n",
       "      <td>106.75.8.203</td>\n",
       "      <td>NaN</td>\n",
       "      <td>NaN</td>\n",
       "      <td>NaN</td>\n",
       "      <td>NaN</td>\n",
       "      <td>NaN</td>\n",
       "    </tr>\n",
       "    <tr>\n",
       "      <th>...</th>\n",
       "      <td>...</td>\n",
       "      <td>...</td>\n",
       "      <td>...</td>\n",
       "      <td>...</td>\n",
       "      <td>...</td>\n",
       "      <td>...</td>\n",
       "      <td>...</td>\n",
       "      <td>...</td>\n",
       "      <td>...</td>\n",
       "      <td>...</td>\n",
       "      <td>...</td>\n",
       "      <td>...</td>\n",
       "      <td>...</td>\n",
       "      <td>...</td>\n",
       "      <td>...</td>\n",
       "      <td>...</td>\n",
       "      <td>...</td>\n",
       "    </tr>\n",
       "    <tr>\n",
       "      <th>1321183</th>\n",
       "      <td>1321183</td>\n",
       "      <td>NaN</td>\n",
       "      <td>NaN</td>\n",
       "      <td>NaN</td>\n",
       "      <td>NaN</td>\n",
       "      <td>NaN</td>\n",
       "      <td>NaN</td>\n",
       "      <td>NaN</td>\n",
       "      <td>NaN</td>\n",
       "      <td>NaN</td>\n",
       "      <td>NaN</td>\n",
       "      <td>NaN</td>\n",
       "      <td>NaN</td>\n",
       "      <td>NaN</td>\n",
       "      <td>NaN</td>\n",
       "      <td>NaN</td>\n",
       "      <td>NaN</td>\n",
       "    </tr>\n",
       "    <tr>\n",
       "      <th>1321184</th>\n",
       "      <td>1321184</td>\n",
       "      <td>NaN</td>\n",
       "      <td>NaN</td>\n",
       "      <td>NaN</td>\n",
       "      <td>NaN</td>\n",
       "      <td>NaN</td>\n",
       "      <td>NaN</td>\n",
       "      <td>NaN</td>\n",
       "      <td>NaN</td>\n",
       "      <td>NaN</td>\n",
       "      <td>NaN</td>\n",
       "      <td>NaN</td>\n",
       "      <td>NaN</td>\n",
       "      <td>NaN</td>\n",
       "      <td>NaN</td>\n",
       "      <td>NaN</td>\n",
       "      <td>NaN</td>\n",
       "    </tr>\n",
       "    <tr>\n",
       "      <th>1321185</th>\n",
       "      <td>1321185</td>\n",
       "      <td>NaN</td>\n",
       "      <td>NaN</td>\n",
       "      <td>NaN</td>\n",
       "      <td>NaN</td>\n",
       "      <td>NaN</td>\n",
       "      <td>NaN</td>\n",
       "      <td>NaN</td>\n",
       "      <td>NaN</td>\n",
       "      <td>NaN</td>\n",
       "      <td>NaN</td>\n",
       "      <td>NaN</td>\n",
       "      <td>NaN</td>\n",
       "      <td>NaN</td>\n",
       "      <td>NaN</td>\n",
       "      <td>NaN</td>\n",
       "      <td>NaN</td>\n",
       "    </tr>\n",
       "    <tr>\n",
       "      <th>1321186</th>\n",
       "      <td>1321186</td>\n",
       "      <td>NaN</td>\n",
       "      <td>NaN</td>\n",
       "      <td>NaN</td>\n",
       "      <td>NaN</td>\n",
       "      <td>NaN</td>\n",
       "      <td>NaN</td>\n",
       "      <td>NaN</td>\n",
       "      <td>NaN</td>\n",
       "      <td>NaN</td>\n",
       "      <td>NaN</td>\n",
       "      <td>NaN</td>\n",
       "      <td>NaN</td>\n",
       "      <td>NaN</td>\n",
       "      <td>NaN</td>\n",
       "      <td>NaN</td>\n",
       "      <td>NaN</td>\n",
       "    </tr>\n",
       "    <tr>\n",
       "      <th>1321187</th>\n",
       "      <td>1321187</td>\n",
       "      <td>NaN</td>\n",
       "      <td>NaN</td>\n",
       "      <td>NaN</td>\n",
       "      <td>NaN</td>\n",
       "      <td>NaN</td>\n",
       "      <td>NaN</td>\n",
       "      <td>NaN</td>\n",
       "      <td>NaN</td>\n",
       "      <td>NaN</td>\n",
       "      <td>NaN</td>\n",
       "      <td>NaN</td>\n",
       "      <td>NaN</td>\n",
       "      <td>NaN</td>\n",
       "      <td>NaN</td>\n",
       "      <td>NaN</td>\n",
       "      <td>NaN</td>\n",
       "    </tr>\n",
       "  </tbody>\n",
       "</table>\n",
       "<p>1321188 rows × 17 columns</p>\n",
       "</div>"
      ],
      "text/plain": [
       "         Unnamed: 0              NAME GENDER            EMAIL_ID IS_GLOGIN  \\\n",
       "0                 0  David SmithSmith   Male  csmith@example.org     False   \n",
       "1                 1               NaN    NaN                 NaN       NaN   \n",
       "2                 2               NaN    NaN                 NaN       NaN   \n",
       "3                 3               NaN    NaN                 NaN       NaN   \n",
       "4                 4               NaN    NaN                 NaN       NaN   \n",
       "...             ...               ...    ...                 ...       ...   \n",
       "1321183     1321183               NaN    NaN                 NaN       NaN   \n",
       "1321184     1321184               NaN    NaN                 NaN       NaN   \n",
       "1321185     1321185               NaN    NaN                 NaN       NaN   \n",
       "1321186     1321186               NaN    NaN                 NaN       NaN   \n",
       "1321187     1321187               NaN    NaN                 NaN       NaN   \n",
       "\n",
       "         FOLLOWER_COUNT  FOLLOWING_COUNT  DATASET_COUNT  CODE_COUNT  \\\n",
       "0                   1.0              3.0            0.0         1.0   \n",
       "1                   NaN              NaN            NaN         NaN   \n",
       "2                   NaN              NaN            NaN         NaN   \n",
       "3                   NaN              NaN            NaN         NaN   \n",
       "4                   NaN              NaN            NaN         NaN   \n",
       "...                 ...              ...            ...         ...   \n",
       "1321183             NaN              NaN            NaN         NaN   \n",
       "1321184             NaN              NaN            NaN         NaN   \n",
       "1321185             NaN              NaN            NaN         NaN   \n",
       "1321186             NaN              NaN            NaN         NaN   \n",
       "1321187             NaN              NaN            NaN         NaN   \n",
       "\n",
       "         DISCUSSION_COUNT  AVG_NB_READ_TIME_MIN REGISTRATION_IPV4  \\\n",
       "0                    11.0                   0.5    101.53.134.126   \n",
       "1                     NaN                   NaN     105.57.55.152   \n",
       "2                     NaN                   NaN   106.197.191.163   \n",
       "3                     NaN                   NaN    106.214.11.236   \n",
       "4                     NaN                   NaN      106.75.8.203   \n",
       "...                   ...                   ...               ...   \n",
       "1321183               NaN                   NaN               NaN   \n",
       "1321184               NaN                   NaN               NaN   \n",
       "1321185               NaN                   NaN               NaN   \n",
       "1321186               NaN                   NaN               NaN   \n",
       "1321187               NaN                   NaN               NaN   \n",
       "\n",
       "        REGISTRATION_LOCATION  TOTAL_VOTES_GAVE_NB  TOTAL_VOTES_GAVE_DS  \\\n",
       "0                       Korea                 24.0                  9.0   \n",
       "1                         NaN                  NaN                  NaN   \n",
       "2                         NaN                  NaN                  NaN   \n",
       "3                         NaN                  NaN                  NaN   \n",
       "4                         NaN                  NaN                  NaN   \n",
       "...                       ...                  ...                  ...   \n",
       "1321183                   NaN                  NaN                  NaN   \n",
       "1321184                   NaN                  NaN                  NaN   \n",
       "1321185                   NaN                  NaN                  NaN   \n",
       "1321186                   NaN                  NaN                  NaN   \n",
       "1321187                   NaN                  NaN                  NaN   \n",
       "\n",
       "         TOTAL_VOTES_GAVE_DC  ISBOT  \n",
       "0                        2.0  False  \n",
       "1                        NaN    NaN  \n",
       "2                        NaN    NaN  \n",
       "3                        NaN    NaN  \n",
       "4                        NaN    NaN  \n",
       "...                      ...    ...  \n",
       "1321183                  NaN    NaN  \n",
       "1321184                  NaN    NaN  \n",
       "1321185                  NaN    NaN  \n",
       "1321186                  NaN    NaN  \n",
       "1321187                  NaN    NaN  \n",
       "\n",
       "[1321188 rows x 17 columns]"
      ]
     },
     "execution_count": 67,
     "metadata": {},
     "output_type": "execute_result"
    }
   ],
   "source": [
    "df.mode()"
   ]
  },
  {
   "cell_type": "code",
   "execution_count": 68,
   "id": "d0138cea",
   "metadata": {},
   "outputs": [
    {
     "name": "stderr",
     "output_type": "stream",
     "text": [
      "/tmp/ipykernel_5328/3390915376.py:1: FutureWarning: Dropping of nuisance columns in DataFrame reductions (with 'numeric_only=None') is deprecated; in a future version this will raise TypeError.  Select only valid columns before calling the reduction.\n",
      "  df.std()\n"
     ]
    },
    {
     "data": {
      "text/plain": [
       "Unnamed: 0              381394.268064\n",
       "IS_GLOGIN                    0.481682\n",
       "FOLLOWER_COUNT              23.005042\n",
       "FOLLOWING_COUNT             39.477157\n",
       "DATASET_COUNT                2.499882\n",
       "CODE_COUNT                   8.248055\n",
       "DISCUSSION_COUNT            47.543149\n",
       "AVG_NB_READ_TIME_MIN         9.564920\n",
       "TOTAL_VOTES_GAVE_NB          4.611783\n",
       "TOTAL_VOTES_GAVE_DS          2.290951\n",
       "TOTAL_VOTES_GAVE_DC          1.118067\n",
       "ISBOT                        0.442856\n",
       "dtype: float64"
      ]
     },
     "execution_count": 68,
     "metadata": {},
     "output_type": "execute_result"
    }
   ],
   "source": [
    "df.std()"
   ]
  },
  {
   "cell_type": "code",
   "execution_count": 69,
   "id": "f2b646df",
   "metadata": {},
   "outputs": [
    {
     "name": "stderr",
     "output_type": "stream",
     "text": [
      "/tmp/ipykernel_5328/1568254755.py:1: FutureWarning: Dropping of nuisance columns in DataFrame reductions (with 'numeric_only=None') is deprecated; in a future version this will raise TypeError.  Select only valid columns before calling the reduction.\n",
      "  df.var()\n"
     ]
    },
    {
     "data": {
      "text/plain": [
       "Unnamed: 0              1.454616e+11\n",
       "IS_GLOGIN               2.320173e-01\n",
       "FOLLOWER_COUNT          5.292319e+02\n",
       "FOLLOWING_COUNT         1.558446e+03\n",
       "DATASET_COUNT           6.249408e+00\n",
       "CODE_COUNT              6.803041e+01\n",
       "DISCUSSION_COUNT        2.260351e+03\n",
       "AVG_NB_READ_TIME_MIN    9.148770e+01\n",
       "TOTAL_VOTES_GAVE_NB     2.126854e+01\n",
       "TOTAL_VOTES_GAVE_DS     5.248457e+00\n",
       "TOTAL_VOTES_GAVE_DC     1.250073e+00\n",
       "ISBOT                   1.961215e-01\n",
       "dtype: float64"
      ]
     },
     "execution_count": 69,
     "metadata": {},
     "output_type": "execute_result"
    }
   ],
   "source": [
    "df.var()"
   ]
  },
  {
   "cell_type": "code",
   "execution_count": 70,
   "id": "d1fc039e",
   "metadata": {},
   "outputs": [
    {
     "name": "stderr",
     "output_type": "stream",
     "text": [
      "/tmp/ipykernel_5328/1665899112.py:1: FutureWarning: Dropping of nuisance columns in DataFrame reductions (with 'numeric_only=None') is deprecated; in a future version this will raise TypeError.  Select only valid columns before calling the reduction.\n",
      "  df.skew()\n"
     ]
    },
    {
     "data": {
      "text/plain": [
       "Unnamed: 0             -5.400460e-15\n",
       "IS_GLOGIN               5.568008e-01\n",
       "FOLLOWER_COUNT          3.255440e-01\n",
       "FOLLOWING_COUNT         3.589322e-01\n",
       "DATASET_COUNT           4.433873e-01\n",
       "CODE_COUNT              2.207368e-01\n",
       "DISCUSSION_COUNT        1.282255e-01\n",
       "AVG_NB_READ_TIME_MIN    1.779018e-01\n",
       "TOTAL_VOTES_GAVE_NB    -1.747790e-03\n",
       "TOTAL_VOTES_GAVE_DS    -8.899839e-04\n",
       "TOTAL_VOTES_GAVE_DC    -7.655191e-04\n",
       "ISBOT                   1.048278e+00\n",
       "dtype: float64"
      ]
     },
     "execution_count": 70,
     "metadata": {},
     "output_type": "execute_result"
    }
   ],
   "source": [
    "df.skew()"
   ]
  },
  {
   "cell_type": "code",
   "execution_count": 72,
   "id": "1bc908af",
   "metadata": {},
   "outputs": [
    {
     "data": {
      "text/html": [
       "<div>\n",
       "<style scoped>\n",
       "    .dataframe tbody tr th:only-of-type {\n",
       "        vertical-align: middle;\n",
       "    }\n",
       "\n",
       "    .dataframe tbody tr th {\n",
       "        vertical-align: top;\n",
       "    }\n",
       "\n",
       "    .dataframe thead th {\n",
       "        text-align: right;\n",
       "    }\n",
       "</style>\n",
       "<table border=\"1\" class=\"dataframe\">\n",
       "  <thead>\n",
       "    <tr style=\"text-align: right;\">\n",
       "      <th></th>\n",
       "      <th>Unnamed: 0</th>\n",
       "      <th>FOLLOWER_COUNT</th>\n",
       "      <th>FOLLOWING_COUNT</th>\n",
       "      <th>DATASET_COUNT</th>\n",
       "      <th>CODE_COUNT</th>\n",
       "      <th>DISCUSSION_COUNT</th>\n",
       "      <th>AVG_NB_READ_TIME_MIN</th>\n",
       "      <th>TOTAL_VOTES_GAVE_NB</th>\n",
       "      <th>TOTAL_VOTES_GAVE_DS</th>\n",
       "      <th>TOTAL_VOTES_GAVE_DC</th>\n",
       "    </tr>\n",
       "  </thead>\n",
       "  <tbody>\n",
       "    <tr>\n",
       "      <th>count</th>\n",
       "      <td>1.321188e+06</td>\n",
       "      <td>1.243476e+06</td>\n",
       "      <td>1.242743e+06</td>\n",
       "      <td>1.242621e+06</td>\n",
       "      <td>1.243262e+06</td>\n",
       "      <td>1.243466e+06</td>\n",
       "      <td>1.242872e+06</td>\n",
       "      <td>1.243483e+06</td>\n",
       "      <td>1.243254e+06</td>\n",
       "      <td>1.243158e+06</td>\n",
       "    </tr>\n",
       "    <tr>\n",
       "      <th>mean</th>\n",
       "      <td>6.605935e+05</td>\n",
       "      <td>2.698273e+01</td>\n",
       "      <td>4.505091e+01</td>\n",
       "      <td>2.562564e+00</td>\n",
       "      <td>1.038450e+01</td>\n",
       "      <td>6.584244e+01</td>\n",
       "      <td>1.274225e+01</td>\n",
       "      <td>1.750656e+01</td>\n",
       "      <td>6.501007e+00</td>\n",
       "      <td>1.500373e+00</td>\n",
       "    </tr>\n",
       "    <tr>\n",
       "      <th>std</th>\n",
       "      <td>3.813943e+05</td>\n",
       "      <td>2.300504e+01</td>\n",
       "      <td>3.947716e+01</td>\n",
       "      <td>2.499882e+00</td>\n",
       "      <td>8.248055e+00</td>\n",
       "      <td>4.754315e+01</td>\n",
       "      <td>9.564920e+00</td>\n",
       "      <td>4.611783e+00</td>\n",
       "      <td>2.290951e+00</td>\n",
       "      <td>1.118067e+00</td>\n",
       "    </tr>\n",
       "    <tr>\n",
       "      <th>min</th>\n",
       "      <td>0.000000e+00</td>\n",
       "      <td>0.000000e+00</td>\n",
       "      <td>0.000000e+00</td>\n",
       "      <td>0.000000e+00</td>\n",
       "      <td>0.000000e+00</td>\n",
       "      <td>0.000000e+00</td>\n",
       "      <td>0.000000e+00</td>\n",
       "      <td>1.000000e+01</td>\n",
       "      <td>3.000000e+00</td>\n",
       "      <td>0.000000e+00</td>\n",
       "    </tr>\n",
       "    <tr>\n",
       "      <th>25%</th>\n",
       "      <td>3.302968e+05</td>\n",
       "      <td>2.000000e+00</td>\n",
       "      <td>3.000000e+00</td>\n",
       "      <td>0.000000e+00</td>\n",
       "      <td>1.000000e+00</td>\n",
       "      <td>1.300000e+01</td>\n",
       "      <td>1.870000e+00</td>\n",
       "      <td>1.400000e+01</td>\n",
       "      <td>5.000000e+00</td>\n",
       "      <td>1.000000e+00</td>\n",
       "    </tr>\n",
       "    <tr>\n",
       "      <th>50%</th>\n",
       "      <td>6.605935e+05</td>\n",
       "      <td>2.400000e+01</td>\n",
       "      <td>3.900000e+01</td>\n",
       "      <td>2.000000e+00</td>\n",
       "      <td>1.000000e+01</td>\n",
       "      <td>6.500000e+01</td>\n",
       "      <td>1.229000e+01</td>\n",
       "      <td>1.800000e+01</td>\n",
       "      <td>7.000000e+00</td>\n",
       "      <td>2.000000e+00</td>\n",
       "    </tr>\n",
       "    <tr>\n",
       "      <th>75%</th>\n",
       "      <td>9.908902e+05</td>\n",
       "      <td>4.700000e+01</td>\n",
       "      <td>8.000000e+01</td>\n",
       "      <td>5.000000e+00</td>\n",
       "      <td>1.800000e+01</td>\n",
       "      <td>1.080000e+02</td>\n",
       "      <td>2.119000e+01</td>\n",
       "      <td>2.200000e+01</td>\n",
       "      <td>9.000000e+00</td>\n",
       "      <td>3.000000e+00</td>\n",
       "    </tr>\n",
       "    <tr>\n",
       "      <th>max</th>\n",
       "      <td>1.321187e+06</td>\n",
       "      <td>7.000000e+01</td>\n",
       "      <td>1.200000e+02</td>\n",
       "      <td>7.000000e+00</td>\n",
       "      <td>2.500000e+01</td>\n",
       "      <td>1.500000e+02</td>\n",
       "      <td>2.999000e+01</td>\n",
       "      <td>2.500000e+01</td>\n",
       "      <td>1.000000e+01</td>\n",
       "      <td>3.000000e+00</td>\n",
       "    </tr>\n",
       "  </tbody>\n",
       "</table>\n",
       "</div>"
      ],
      "text/plain": [
       "         Unnamed: 0  FOLLOWER_COUNT  FOLLOWING_COUNT  DATASET_COUNT  \\\n",
       "count  1.321188e+06    1.243476e+06     1.242743e+06   1.242621e+06   \n",
       "mean   6.605935e+05    2.698273e+01     4.505091e+01   2.562564e+00   \n",
       "std    3.813943e+05    2.300504e+01     3.947716e+01   2.499882e+00   \n",
       "min    0.000000e+00    0.000000e+00     0.000000e+00   0.000000e+00   \n",
       "25%    3.302968e+05    2.000000e+00     3.000000e+00   0.000000e+00   \n",
       "50%    6.605935e+05    2.400000e+01     3.900000e+01   2.000000e+00   \n",
       "75%    9.908902e+05    4.700000e+01     8.000000e+01   5.000000e+00   \n",
       "max    1.321187e+06    7.000000e+01     1.200000e+02   7.000000e+00   \n",
       "\n",
       "         CODE_COUNT  DISCUSSION_COUNT  AVG_NB_READ_TIME_MIN  \\\n",
       "count  1.243262e+06      1.243466e+06          1.242872e+06   \n",
       "mean   1.038450e+01      6.584244e+01          1.274225e+01   \n",
       "std    8.248055e+00      4.754315e+01          9.564920e+00   \n",
       "min    0.000000e+00      0.000000e+00          0.000000e+00   \n",
       "25%    1.000000e+00      1.300000e+01          1.870000e+00   \n",
       "50%    1.000000e+01      6.500000e+01          1.229000e+01   \n",
       "75%    1.800000e+01      1.080000e+02          2.119000e+01   \n",
       "max    2.500000e+01      1.500000e+02          2.999000e+01   \n",
       "\n",
       "       TOTAL_VOTES_GAVE_NB  TOTAL_VOTES_GAVE_DS  TOTAL_VOTES_GAVE_DC  \n",
       "count         1.243483e+06         1.243254e+06         1.243158e+06  \n",
       "mean          1.750656e+01         6.501007e+00         1.500373e+00  \n",
       "std           4.611783e+00         2.290951e+00         1.118067e+00  \n",
       "min           1.000000e+01         3.000000e+00         0.000000e+00  \n",
       "25%           1.400000e+01         5.000000e+00         1.000000e+00  \n",
       "50%           1.800000e+01         7.000000e+00         2.000000e+00  \n",
       "75%           2.200000e+01         9.000000e+00         3.000000e+00  \n",
       "max           2.500000e+01         1.000000e+01         3.000000e+00  "
      ]
     },
     "execution_count": 72,
     "metadata": {},
     "output_type": "execute_result"
    }
   ],
   "source": [
    "df.describe()"
   ]
  },
  {
   "cell_type": "markdown",
   "id": "48f61b76",
   "metadata": {},
   "source": [
    "## Finding missing values"
   ]
  },
  {
   "cell_type": "code",
   "execution_count": 11,
   "id": "46471d88",
   "metadata": {
    "scrolled": true
   },
   "outputs": [
    {
     "data": {
      "text/html": [
       "<div>\n",
       "<style scoped>\n",
       "    .dataframe tbody tr th:only-of-type {\n",
       "        vertical-align: middle;\n",
       "    }\n",
       "\n",
       "    .dataframe tbody tr th {\n",
       "        vertical-align: top;\n",
       "    }\n",
       "\n",
       "    .dataframe thead th {\n",
       "        text-align: right;\n",
       "    }\n",
       "</style>\n",
       "<table border=\"1\" class=\"dataframe\">\n",
       "  <thead>\n",
       "    <tr style=\"text-align: right;\">\n",
       "      <th></th>\n",
       "      <th>Unnamed: 0</th>\n",
       "      <th>NAME</th>\n",
       "      <th>GENDER</th>\n",
       "      <th>EMAIL_ID</th>\n",
       "      <th>IS_GLOGIN</th>\n",
       "      <th>FOLLOWER_COUNT</th>\n",
       "      <th>FOLLOWING_COUNT</th>\n",
       "      <th>DATASET_COUNT</th>\n",
       "      <th>CODE_COUNT</th>\n",
       "      <th>DISCUSSION_COUNT</th>\n",
       "      <th>AVG_NB_READ_TIME_MIN</th>\n",
       "      <th>REGISTRATION_IPV4</th>\n",
       "      <th>REGISTRATION_LOCATION</th>\n",
       "      <th>TOTAL_VOTES_GAVE_NB</th>\n",
       "      <th>TOTAL_VOTES_GAVE_DS</th>\n",
       "      <th>TOTAL_VOTES_GAVE_DC</th>\n",
       "      <th>ISBOT</th>\n",
       "    </tr>\n",
       "  </thead>\n",
       "  <tbody>\n",
       "    <tr>\n",
       "      <th>0</th>\n",
       "      <td>False</td>\n",
       "      <td>False</td>\n",
       "      <td>False</td>\n",
       "      <td>False</td>\n",
       "      <td>False</td>\n",
       "      <td>False</td>\n",
       "      <td>False</td>\n",
       "      <td>False</td>\n",
       "      <td>False</td>\n",
       "      <td>False</td>\n",
       "      <td>True</td>\n",
       "      <td>False</td>\n",
       "      <td>False</td>\n",
       "      <td>False</td>\n",
       "      <td>False</td>\n",
       "      <td>False</td>\n",
       "      <td>True</td>\n",
       "    </tr>\n",
       "    <tr>\n",
       "      <th>1</th>\n",
       "      <td>False</td>\n",
       "      <td>False</td>\n",
       "      <td>False</td>\n",
       "      <td>False</td>\n",
       "      <td>False</td>\n",
       "      <td>False</td>\n",
       "      <td>False</td>\n",
       "      <td>False</td>\n",
       "      <td>True</td>\n",
       "      <td>False</td>\n",
       "      <td>False</td>\n",
       "      <td>True</td>\n",
       "      <td>False</td>\n",
       "      <td>False</td>\n",
       "      <td>False</td>\n",
       "      <td>False</td>\n",
       "      <td>True</td>\n",
       "    </tr>\n",
       "    <tr>\n",
       "      <th>2</th>\n",
       "      <td>False</td>\n",
       "      <td>True</td>\n",
       "      <td>False</td>\n",
       "      <td>False</td>\n",
       "      <td>False</td>\n",
       "      <td>False</td>\n",
       "      <td>False</td>\n",
       "      <td>False</td>\n",
       "      <td>False</td>\n",
       "      <td>False</td>\n",
       "      <td>False</td>\n",
       "      <td>False</td>\n",
       "      <td>False</td>\n",
       "      <td>False</td>\n",
       "      <td>False</td>\n",
       "      <td>False</td>\n",
       "      <td>False</td>\n",
       "    </tr>\n",
       "    <tr>\n",
       "      <th>3</th>\n",
       "      <td>False</td>\n",
       "      <td>False</td>\n",
       "      <td>False</td>\n",
       "      <td>False</td>\n",
       "      <td>False</td>\n",
       "      <td>False</td>\n",
       "      <td>False</td>\n",
       "      <td>False</td>\n",
       "      <td>False</td>\n",
       "      <td>False</td>\n",
       "      <td>False</td>\n",
       "      <td>False</td>\n",
       "      <td>False</td>\n",
       "      <td>False</td>\n",
       "      <td>False</td>\n",
       "      <td>False</td>\n",
       "      <td>False</td>\n",
       "    </tr>\n",
       "    <tr>\n",
       "      <th>4</th>\n",
       "      <td>False</td>\n",
       "      <td>False</td>\n",
       "      <td>False</td>\n",
       "      <td>False</td>\n",
       "      <td>False</td>\n",
       "      <td>False</td>\n",
       "      <td>False</td>\n",
       "      <td>False</td>\n",
       "      <td>False</td>\n",
       "      <td>False</td>\n",
       "      <td>False</td>\n",
       "      <td>False</td>\n",
       "      <td>False</td>\n",
       "      <td>False</td>\n",
       "      <td>False</td>\n",
       "      <td>False</td>\n",
       "      <td>False</td>\n",
       "    </tr>\n",
       "    <tr>\n",
       "      <th>...</th>\n",
       "      <td>...</td>\n",
       "      <td>...</td>\n",
       "      <td>...</td>\n",
       "      <td>...</td>\n",
       "      <td>...</td>\n",
       "      <td>...</td>\n",
       "      <td>...</td>\n",
       "      <td>...</td>\n",
       "      <td>...</td>\n",
       "      <td>...</td>\n",
       "      <td>...</td>\n",
       "      <td>...</td>\n",
       "      <td>...</td>\n",
       "      <td>...</td>\n",
       "      <td>...</td>\n",
       "      <td>...</td>\n",
       "      <td>...</td>\n",
       "    </tr>\n",
       "    <tr>\n",
       "      <th>1321183</th>\n",
       "      <td>False</td>\n",
       "      <td>False</td>\n",
       "      <td>False</td>\n",
       "      <td>False</td>\n",
       "      <td>False</td>\n",
       "      <td>False</td>\n",
       "      <td>False</td>\n",
       "      <td>False</td>\n",
       "      <td>False</td>\n",
       "      <td>False</td>\n",
       "      <td>False</td>\n",
       "      <td>False</td>\n",
       "      <td>False</td>\n",
       "      <td>False</td>\n",
       "      <td>False</td>\n",
       "      <td>True</td>\n",
       "      <td>False</td>\n",
       "    </tr>\n",
       "    <tr>\n",
       "      <th>1321184</th>\n",
       "      <td>False</td>\n",
       "      <td>False</td>\n",
       "      <td>False</td>\n",
       "      <td>False</td>\n",
       "      <td>False</td>\n",
       "      <td>False</td>\n",
       "      <td>False</td>\n",
       "      <td>False</td>\n",
       "      <td>False</td>\n",
       "      <td>False</td>\n",
       "      <td>False</td>\n",
       "      <td>False</td>\n",
       "      <td>False</td>\n",
       "      <td>False</td>\n",
       "      <td>False</td>\n",
       "      <td>False</td>\n",
       "      <td>False</td>\n",
       "    </tr>\n",
       "    <tr>\n",
       "      <th>1321185</th>\n",
       "      <td>False</td>\n",
       "      <td>False</td>\n",
       "      <td>False</td>\n",
       "      <td>False</td>\n",
       "      <td>False</td>\n",
       "      <td>False</td>\n",
       "      <td>False</td>\n",
       "      <td>False</td>\n",
       "      <td>False</td>\n",
       "      <td>False</td>\n",
       "      <td>False</td>\n",
       "      <td>False</td>\n",
       "      <td>False</td>\n",
       "      <td>False</td>\n",
       "      <td>False</td>\n",
       "      <td>False</td>\n",
       "      <td>False</td>\n",
       "    </tr>\n",
       "    <tr>\n",
       "      <th>1321186</th>\n",
       "      <td>False</td>\n",
       "      <td>False</td>\n",
       "      <td>True</td>\n",
       "      <td>False</td>\n",
       "      <td>False</td>\n",
       "      <td>False</td>\n",
       "      <td>False</td>\n",
       "      <td>False</td>\n",
       "      <td>False</td>\n",
       "      <td>False</td>\n",
       "      <td>False</td>\n",
       "      <td>False</td>\n",
       "      <td>True</td>\n",
       "      <td>False</td>\n",
       "      <td>False</td>\n",
       "      <td>True</td>\n",
       "      <td>False</td>\n",
       "    </tr>\n",
       "    <tr>\n",
       "      <th>1321187</th>\n",
       "      <td>False</td>\n",
       "      <td>False</td>\n",
       "      <td>False</td>\n",
       "      <td>True</td>\n",
       "      <td>False</td>\n",
       "      <td>False</td>\n",
       "      <td>False</td>\n",
       "      <td>False</td>\n",
       "      <td>True</td>\n",
       "      <td>False</td>\n",
       "      <td>False</td>\n",
       "      <td>False</td>\n",
       "      <td>False</td>\n",
       "      <td>False</td>\n",
       "      <td>False</td>\n",
       "      <td>False</td>\n",
       "      <td>False</td>\n",
       "    </tr>\n",
       "  </tbody>\n",
       "</table>\n",
       "<p>1321188 rows × 17 columns</p>\n",
       "</div>"
      ],
      "text/plain": [
       "         Unnamed: 0   NAME  GENDER  EMAIL_ID  IS_GLOGIN  FOLLOWER_COUNT  \\\n",
       "0             False  False   False     False      False           False   \n",
       "1             False  False   False     False      False           False   \n",
       "2             False   True   False     False      False           False   \n",
       "3             False  False   False     False      False           False   \n",
       "4             False  False   False     False      False           False   \n",
       "...             ...    ...     ...       ...        ...             ...   \n",
       "1321183       False  False   False     False      False           False   \n",
       "1321184       False  False   False     False      False           False   \n",
       "1321185       False  False   False     False      False           False   \n",
       "1321186       False  False    True     False      False           False   \n",
       "1321187       False  False   False      True      False           False   \n",
       "\n",
       "         FOLLOWING_COUNT  DATASET_COUNT  CODE_COUNT  DISCUSSION_COUNT  \\\n",
       "0                  False          False       False             False   \n",
       "1                  False          False        True             False   \n",
       "2                  False          False       False             False   \n",
       "3                  False          False       False             False   \n",
       "4                  False          False       False             False   \n",
       "...                  ...            ...         ...               ...   \n",
       "1321183            False          False       False             False   \n",
       "1321184            False          False       False             False   \n",
       "1321185            False          False       False             False   \n",
       "1321186            False          False       False             False   \n",
       "1321187            False          False        True             False   \n",
       "\n",
       "         AVG_NB_READ_TIME_MIN  REGISTRATION_IPV4  REGISTRATION_LOCATION  \\\n",
       "0                        True              False                  False   \n",
       "1                       False               True                  False   \n",
       "2                       False              False                  False   \n",
       "3                       False              False                  False   \n",
       "4                       False              False                  False   \n",
       "...                       ...                ...                    ...   \n",
       "1321183                 False              False                  False   \n",
       "1321184                 False              False                  False   \n",
       "1321185                 False              False                  False   \n",
       "1321186                 False              False                   True   \n",
       "1321187                 False              False                  False   \n",
       "\n",
       "         TOTAL_VOTES_GAVE_NB  TOTAL_VOTES_GAVE_DS  TOTAL_VOTES_GAVE_DC  ISBOT  \n",
       "0                      False                False                False   True  \n",
       "1                      False                False                False   True  \n",
       "2                      False                False                False  False  \n",
       "3                      False                False                False  False  \n",
       "4                      False                False                False  False  \n",
       "...                      ...                  ...                  ...    ...  \n",
       "1321183                False                False                 True  False  \n",
       "1321184                False                False                False  False  \n",
       "1321185                False                False                False  False  \n",
       "1321186                False                False                 True  False  \n",
       "1321187                False                False                False  False  \n",
       "\n",
       "[1321188 rows x 17 columns]"
      ]
     },
     "execution_count": 11,
     "metadata": {},
     "output_type": "execute_result"
    }
   ],
   "source": [
    "df.isnull()"
   ]
  },
  {
   "cell_type": "markdown",
   "id": "541e12f4",
   "metadata": {},
   "source": [
    "#### Following line will tell us total number of null entries in entire dataset"
   ]
  },
  {
   "cell_type": "code",
   "execution_count": 18,
   "id": "913f9693",
   "metadata": {},
   "outputs": [
    {
     "name": "stdout",
     "output_type": "stream",
     "text": [
      "1249249\n"
     ]
    }
   ],
   "source": [
    "SUM=df.isna().sum().sum()\n",
    "print(SUM)"
   ]
  },
  {
   "cell_type": "markdown",
   "id": "1b3fce0a",
   "metadata": {},
   "source": [
    "#### Next we will see total null enteries in every column. \n",
    "\n",
    "Note: Total number of records in every column is 1321186"
   ]
  },
  {
   "cell_type": "code",
   "execution_count": 14,
   "id": "f495b9ab",
   "metadata": {},
   "outputs": [
    {
     "name": "stdout",
     "output_type": "stream",
     "text": [
      "78164\n"
     ]
    }
   ],
   "source": [
    "sum=df['NAME'].isna().sum()\n",
    "print(sum)"
   ]
  },
  {
   "cell_type": "code",
   "execution_count": 15,
   "id": "b103eff1",
   "metadata": {},
   "outputs": [
    {
     "name": "stdout",
     "output_type": "stream",
     "text": [
      "77879\n"
     ]
    }
   ],
   "source": [
    "sum=df['GENDER'].isna().sum()\n",
    "print(sum)"
   ]
  },
  {
   "cell_type": "code",
   "execution_count": 16,
   "id": "44938439",
   "metadata": {},
   "outputs": [
    {
     "name": "stdout",
     "output_type": "stream",
     "text": [
      "77814\n"
     ]
    }
   ],
   "source": [
    "sum=df['EMAIL_ID'].isna().sum()\n",
    "print(sum)"
   ]
  },
  {
   "cell_type": "code",
   "execution_count": 19,
   "id": "69ab3041",
   "metadata": {},
   "outputs": [
    {
     "name": "stdout",
     "output_type": "stream",
     "text": [
      "77916\n"
     ]
    }
   ],
   "source": [
    "sum=df['IS_GLOGIN'].isna().sum()\n",
    "print(sum)"
   ]
  },
  {
   "cell_type": "code",
   "execution_count": 20,
   "id": "232d30b8",
   "metadata": {},
   "outputs": [
    {
     "name": "stdout",
     "output_type": "stream",
     "text": [
      "77712\n"
     ]
    }
   ],
   "source": [
    "sum=df['FOLLOWER_COUNT'].isna().sum()\n",
    "print(sum)"
   ]
  },
  {
   "cell_type": "code",
   "execution_count": 22,
   "id": "eba7d524",
   "metadata": {},
   "outputs": [
    {
     "name": "stdout",
     "output_type": "stream",
     "text": [
      "78445\n"
     ]
    }
   ],
   "source": [
    "sum=df['FOLLOWING_COUNT'].isna().sum()\n",
    "print(sum)"
   ]
  },
  {
   "cell_type": "code",
   "execution_count": 33,
   "id": "e7faf763",
   "metadata": {},
   "outputs": [
    {
     "name": "stdout",
     "output_type": "stream",
     "text": [
      "78567\n"
     ]
    }
   ],
   "source": [
    "sum=df['DATASET_COUNT'].isna().sum()\n",
    "print(sum)"
   ]
  },
  {
   "cell_type": "code",
   "execution_count": 34,
   "id": "35265fb8",
   "metadata": {},
   "outputs": [
    {
     "name": "stdout",
     "output_type": "stream",
     "text": [
      "77926\n"
     ]
    }
   ],
   "source": [
    "sum=df['CODE_COUNT'].isna().sum()\n",
    "print(sum)"
   ]
  },
  {
   "cell_type": "code",
   "execution_count": 35,
   "id": "646e9471",
   "metadata": {},
   "outputs": [
    {
     "name": "stdout",
     "output_type": "stream",
     "text": [
      "77722\n"
     ]
    }
   ],
   "source": [
    "sum=df['DISCUSSION_COUNT'].isna().sum()\n",
    "print(sum)"
   ]
  },
  {
   "cell_type": "code",
   "execution_count": 36,
   "id": "1a1269d5",
   "metadata": {},
   "outputs": [
    {
     "name": "stdout",
     "output_type": "stream",
     "text": [
      "78316\n"
     ]
    }
   ],
   "source": [
    "sum=df['AVG_NB_READ_TIME_MIN'].isna().sum()\n",
    "print(sum)"
   ]
  },
  {
   "cell_type": "code",
   "execution_count": 37,
   "id": "a3d91b23",
   "metadata": {},
   "outputs": [
    {
     "name": "stdout",
     "output_type": "stream",
     "text": [
      "78329\n"
     ]
    }
   ],
   "source": [
    "sum=df['REGISTRATION_IPV4'].isna().sum()\n",
    "print(sum)"
   ]
  },
  {
   "cell_type": "code",
   "execution_count": 38,
   "id": "30048c73",
   "metadata": {},
   "outputs": [
    {
     "name": "stdout",
     "output_type": "stream",
     "text": [
      "78290\n"
     ]
    }
   ],
   "source": [
    "sum=df['REGISTRATION_LOCATION'].isna().sum()\n",
    "print(sum)"
   ]
  },
  {
   "cell_type": "code",
   "execution_count": 39,
   "id": "029eeaf8",
   "metadata": {},
   "outputs": [
    {
     "name": "stdout",
     "output_type": "stream",
     "text": [
      "77705\n"
     ]
    }
   ],
   "source": [
    "sum=df['TOTAL_VOTES_GAVE_NB'].isna().sum()\n",
    "print(sum)"
   ]
  },
  {
   "cell_type": "code",
   "execution_count": 40,
   "id": "ba7c4e09",
   "metadata": {},
   "outputs": [
    {
     "name": "stdout",
     "output_type": "stream",
     "text": [
      "77934\n"
     ]
    }
   ],
   "source": [
    "sum=df['TOTAL_VOTES_GAVE_DS'].isna().sum()\n",
    "print(sum)"
   ]
  },
  {
   "cell_type": "code",
   "execution_count": 41,
   "id": "1b76fe53",
   "metadata": {},
   "outputs": [
    {
     "name": "stdout",
     "output_type": "stream",
     "text": [
      "78030\n"
     ]
    }
   ],
   "source": [
    "sum=df['TOTAL_VOTES_GAVE_DC'].isna().sum()\n",
    "print(sum)"
   ]
  },
  {
   "cell_type": "code",
   "execution_count": 43,
   "id": "0c34a64a",
   "metadata": {},
   "outputs": [
    {
     "name": "stdout",
     "output_type": "stream",
     "text": [
      "78500\n"
     ]
    }
   ],
   "source": [
    "sum=df['ISBOT'].isna().sum()\n",
    "print(sum)"
   ]
  },
  {
   "cell_type": "markdown",
   "id": "e7052eff",
   "metadata": {},
   "source": [
    "#### Next we will try to see total number of row with atleast one null value."
   ]
  },
  {
   "cell_type": "code",
   "execution_count": 47,
   "id": "529afa43",
   "metadata": {},
   "outputs": [
    {
     "data": {
      "text/plain": [
       "822201"
      ]
     },
     "execution_count": 47,
     "metadata": {},
     "output_type": "execute_result"
    }
   ],
   "source": [
    "df.isna().any(axis=1).sum()"
   ]
  },
  {
   "cell_type": "code",
   "execution_count": null,
   "id": "e1b59a8d",
   "metadata": {},
   "outputs": [],
   "source": []
  },
  {
   "cell_type": "code",
   "execution_count": null,
   "id": "10f51656",
   "metadata": {},
   "outputs": [],
   "source": []
  }
 ],
 "metadata": {
  "kernelspec": {
   "display_name": "Python 3 (ipykernel)",
   "language": "python",
   "name": "python3"
  },
  "language_info": {
   "codemirror_mode": {
    "name": "ipython",
    "version": 3
   },
   "file_extension": ".py",
   "mimetype": "text/x-python",
   "name": "python",
   "nbconvert_exporter": "python",
   "pygments_lexer": "ipython3",
   "version": "3.9.12"
  }
 },
 "nbformat": 4,
 "nbformat_minor": 5
}
