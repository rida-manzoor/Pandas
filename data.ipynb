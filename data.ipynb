{
  "nbformat": 4,
  "nbformat_minor": 0,
  "metadata": {
    "colab": {
      "provenance": [],
      "mount_file_id": "12FTe7c8yonF8dpu6T-goIKFdNzjJG7XP",
      "authorship_tag": "ABX9TyP0lZ05yOknHoQbpZMON84H",
      "include_colab_link": true
    },
    "kernelspec": {
      "name": "python3",
      "display_name": "Python 3"
    },
    "language_info": {
      "name": "python"
    }
  },
  "cells": [
    {
      "cell_type": "markdown",
      "metadata": {
        "id": "view-in-github",
        "colab_type": "text"
      },
      "source": [
        "<a href=\"https://colab.research.google.com/github/rida-manzoor/Pandas/blob/main/data.ipynb\" target=\"_parent\"><img src=\"https://colab.research.google.com/assets/colab-badge.svg\" alt=\"Open In Colab\"/></a>"
      ]
    },
    {
      "cell_type": "code",
      "source": [
        "import csv\n",
        "import pandas as pd"
      ],
      "metadata": {
        "id": "MjvXOfMPlYny"
      },
      "execution_count": null,
      "outputs": []
    },
    {
      "cell_type": "code",
      "execution_count": null,
      "metadata": {
        "id": "M---igBidbza"
      },
      "outputs": [],
      "source": [
        "data=pd.read_csv('/content/drive/MyDrive/Headache_Data_Collection_form2023-04-01_10_46_19.csv')"
      ]
    },
    {
      "cell_type": "code",
      "source": [
        "data"
      ],
      "metadata": {
        "colab": {
          "base_uri": "https://localhost:8080/",
          "height": 1000
        },
        "id": "x5Rg6JOclcGH",
        "outputId": "9e3b1e95-d3c6-44dd-8011-b52695c7a652"
      },
      "execution_count": null,
      "outputs": [
        {
          "output_type": "execute_result",
          "data": {
            "text/plain": [
              "    Submission Date    First Name Last Name                      Email  \\\n",
              "0      Mar 31, 2023          Aima     Arfaq    bcsf22m534@pucit.edu.pk   \n",
              "1      Mar 31, 2023         Aliza     Akram     alizaakram77@gmail.com   \n",
              "2      Mar 31, 2023        Eishal  Siddiqui   eishalsiddique@gmail.com   \n",
              "3      Mar 31, 2023  Mehr un Nisa       NaN                        NaN   \n",
              "4      Mar 31, 2023          Uswa   Farheen    bcsf22m523@pucit.edu.pk   \n",
              "..              ...           ...       ...                        ...   \n",
              "146    Jan 25, 2023         Sadaf    Afreen       mirsab8989@gmail.com   \n",
              "147    Jan 25, 2023      Shahmeer     Kazmi      kazmi152000@gmail.com   \n",
              "148    Jan 25, 2023     Muhammad    Hanzala  hanzalamanzoor5@gmail.com   \n",
              "149    Jan 25, 2023        Faisal   Bukhari  faisal.bukhari@itu.edu.pk   \n",
              "150    Jan 23, 2023     Muhammad   Husnain     m.husnain8721@gmail.com   \n",
              "\n",
              "     Gender                            Where do you live? Do you smoke?  \\\n",
              "0    Female                                           NaN           NaN   \n",
              "1    Female                                           NaN           NaN   \n",
              "2    Female                                           NaN           NaN   \n",
              "3    Female                                           NaN           NaN   \n",
              "4    Female                                           NaN           NaN   \n",
              "..      ...                                           ...           ...   \n",
              "146  Female                         Less noisy urban area            NO   \n",
              "147    Male                              Noisy urban area            NO   \n",
              "148    Male                              Noisy urban area            NO   \n",
              "149    Male  In rural area (More peaceful and less noisy)            NO   \n",
              "150    Male  In rural area (More peaceful and less noisy)            NO   \n",
              "\n",
              "    How frequently do you smoke? Do you eat properly? Age Range  ...  \\\n",
              "0                          Never                  NaN   [10-19]  ...   \n",
              "1                          Never                  NaN   [20-29]  ...   \n",
              "2                          Never                  NaN   [10-19]  ...   \n",
              "3                          Never                  NaN   [10-19]  ...   \n",
              "4                          Never                  NaN   [10-19]  ...   \n",
              "..                           ...                  ...       ...  ...   \n",
              "146                        Never                  YES   [30-39]  ...   \n",
              "147                        Never                  YES   [20-29]  ...   \n",
              "148                        Never                  YES   [20-29]  ...   \n",
              "149                        Never                  YES       NaN  ...   \n",
              "150                        Never                  YES       NaN  ...   \n",
              "\n",
              "    Do you feel plusating?  \\\n",
              "0                      NaN   \n",
              "1                      NaN   \n",
              "2                      NaN   \n",
              "3                      NaN   \n",
              "4                      NaN   \n",
              "..                     ...   \n",
              "146                    YES   \n",
              "147                    YES   \n",
              "148                    YES   \n",
              "149                    YES   \n",
              "150                    YES   \n",
              "\n",
              "    Do you feel sensitivity to light and sound during headache?  \\\n",
              "0                                                  NaN            \n",
              "1                                                  NaN            \n",
              "2                                                  NaN            \n",
              "3                                                  NaN            \n",
              "4                                                  NaN            \n",
              "..                                                 ...            \n",
              "146                                                YES            \n",
              "147                                                YES            \n",
              "148                                                YES            \n",
              "149                                                YES            \n",
              "150                                                YES            \n",
              "\n",
              "    Do you face eyelid edema? Do you face forehead or facial sweating?  \\\n",
              "0                         NaN                                      NaN   \n",
              "1                         NaN                                      NaN   \n",
              "2                         NaN                                      NaN   \n",
              "3                         NaN                                      NaN   \n",
              "4                         NaN                                      NaN   \n",
              "..                        ...                                      ...   \n",
              "146                        NO                                       NO   \n",
              "147                       YES                                       NO   \n",
              "148                        NO                                      YES   \n",
              "149                        NO                                      YES   \n",
              "150                        NO                                      YES   \n",
              "\n",
              "    Did your headache begin or worsen after any physical activity?  \\\n",
              "0                                                  NaN               \n",
              "1                                                  NaN               \n",
              "2                                                  NaN               \n",
              "3                                                  NaN               \n",
              "4                                                  NaN               \n",
              "..                                                 ...               \n",
              "146                                                YES               \n",
              "147                                                 NO               \n",
              "148                                                YES               \n",
              "149                                                 NO               \n",
              "150                                                YES               \n",
              "\n",
              "    Do you feel restlessness or agitation? Do you feel miosis?  \\\n",
              "0                                      NaN                 NaN   \n",
              "1                                      NaN                 NaN   \n",
              "2                                      NaN                 NaN   \n",
              "3                                      NaN                 NaN   \n",
              "4                                      NaN                 NaN   \n",
              "..                                     ...                 ...   \n",
              "146                                     NO                  NO   \n",
              "147                                    YES                  NO   \n",
              "148                                     NO                  NO   \n",
              "149                                     NO                  NO   \n",
              "150                                    YES                 YES   \n",
              "\n",
              "    Do you feel nausea or vomiting? Do you feel sensation of fullness in ear?  \\\n",
              "0                               NaN                                       NaN   \n",
              "1                               NaN                                       NaN   \n",
              "2                               NaN                                       NaN   \n",
              "3                               NaN                                       NaN   \n",
              "4                               NaN                                       NaN   \n",
              "..                              ...                                       ...   \n",
              "146                              NO                                        NO   \n",
              "147                              NO                                       YES   \n",
              "148                              NO                                       YES   \n",
              "149                              NO                                       YES   \n",
              "150                              NO                                        NO   \n",
              "\n",
              "           Do you self-medicate to cure your headache?  \n",
              "0    Yes, I take medicine without consulting physic...  \n",
              "1    Someimes, I often visit physician to get consu...  \n",
              "2                No, I don't take any medicine at all.  \n",
              "3    Yes, I take medicine without consulting physic...  \n",
              "4    Someimes, I often visit physician to get consu...  \n",
              "..                                                 ...  \n",
              "146  Someimes, I often visit physician to get consu...  \n",
              "147              No, I don't take any medicine at all.  \n",
              "148              No, I don't take any medicine at all.  \n",
              "149  Yes, I take medicine without consulting physic...  \n",
              "150                                                NaN  \n",
              "\n",
              "[151 rows x 45 columns]"
            ],
            "text/html": [
              "\n",
              "  <div id=\"df-1f675db4-9f72-48ea-be34-aa63001a1e7e\">\n",
              "    <div class=\"colab-df-container\">\n",
              "      <div>\n",
              "<style scoped>\n",
              "    .dataframe tbody tr th:only-of-type {\n",
              "        vertical-align: middle;\n",
              "    }\n",
              "\n",
              "    .dataframe tbody tr th {\n",
              "        vertical-align: top;\n",
              "    }\n",
              "\n",
              "    .dataframe thead th {\n",
              "        text-align: right;\n",
              "    }\n",
              "</style>\n",
              "<table border=\"1\" class=\"dataframe\">\n",
              "  <thead>\n",
              "    <tr style=\"text-align: right;\">\n",
              "      <th></th>\n",
              "      <th>Submission Date</th>\n",
              "      <th>First Name</th>\n",
              "      <th>Last Name</th>\n",
              "      <th>Email</th>\n",
              "      <th>Gender</th>\n",
              "      <th>Where do you live?</th>\n",
              "      <th>Do you smoke?</th>\n",
              "      <th>How frequently do you smoke?</th>\n",
              "      <th>Do you eat properly?</th>\n",
              "      <th>Age Range</th>\n",
              "      <th>...</th>\n",
              "      <th>Do you feel plusating?</th>\n",
              "      <th>Do you feel sensitivity to light and sound during headache?</th>\n",
              "      <th>Do you face eyelid edema?</th>\n",
              "      <th>Do you face forehead or facial sweating?</th>\n",
              "      <th>Did your headache begin or worsen after any physical activity?</th>\n",
              "      <th>Do you feel restlessness or agitation?</th>\n",
              "      <th>Do you feel miosis?</th>\n",
              "      <th>Do you feel nausea or vomiting?</th>\n",
              "      <th>Do you feel sensation of fullness in ear?</th>\n",
              "      <th>Do you self-medicate to cure your headache?</th>\n",
              "    </tr>\n",
              "  </thead>\n",
              "  <tbody>\n",
              "    <tr>\n",
              "      <th>0</th>\n",
              "      <td>Mar 31, 2023</td>\n",
              "      <td>Aima</td>\n",
              "      <td>Arfaq</td>\n",
              "      <td>bcsf22m534@pucit.edu.pk</td>\n",
              "      <td>Female</td>\n",
              "      <td>NaN</td>\n",
              "      <td>NaN</td>\n",
              "      <td>Never</td>\n",
              "      <td>NaN</td>\n",
              "      <td>[10-19]</td>\n",
              "      <td>...</td>\n",
              "      <td>NaN</td>\n",
              "      <td>NaN</td>\n",
              "      <td>NaN</td>\n",
              "      <td>NaN</td>\n",
              "      <td>NaN</td>\n",
              "      <td>NaN</td>\n",
              "      <td>NaN</td>\n",
              "      <td>NaN</td>\n",
              "      <td>NaN</td>\n",
              "      <td>Yes, I take medicine without consulting physic...</td>\n",
              "    </tr>\n",
              "    <tr>\n",
              "      <th>1</th>\n",
              "      <td>Mar 31, 2023</td>\n",
              "      <td>Aliza</td>\n",
              "      <td>Akram</td>\n",
              "      <td>alizaakram77@gmail.com</td>\n",
              "      <td>Female</td>\n",
              "      <td>NaN</td>\n",
              "      <td>NaN</td>\n",
              "      <td>Never</td>\n",
              "      <td>NaN</td>\n",
              "      <td>[20-29]</td>\n",
              "      <td>...</td>\n",
              "      <td>NaN</td>\n",
              "      <td>NaN</td>\n",
              "      <td>NaN</td>\n",
              "      <td>NaN</td>\n",
              "      <td>NaN</td>\n",
              "      <td>NaN</td>\n",
              "      <td>NaN</td>\n",
              "      <td>NaN</td>\n",
              "      <td>NaN</td>\n",
              "      <td>Someimes, I often visit physician to get consu...</td>\n",
              "    </tr>\n",
              "    <tr>\n",
              "      <th>2</th>\n",
              "      <td>Mar 31, 2023</td>\n",
              "      <td>Eishal</td>\n",
              "      <td>Siddiqui</td>\n",
              "      <td>eishalsiddique@gmail.com</td>\n",
              "      <td>Female</td>\n",
              "      <td>NaN</td>\n",
              "      <td>NaN</td>\n",
              "      <td>Never</td>\n",
              "      <td>NaN</td>\n",
              "      <td>[10-19]</td>\n",
              "      <td>...</td>\n",
              "      <td>NaN</td>\n",
              "      <td>NaN</td>\n",
              "      <td>NaN</td>\n",
              "      <td>NaN</td>\n",
              "      <td>NaN</td>\n",
              "      <td>NaN</td>\n",
              "      <td>NaN</td>\n",
              "      <td>NaN</td>\n",
              "      <td>NaN</td>\n",
              "      <td>No, I don't take any medicine at all.</td>\n",
              "    </tr>\n",
              "    <tr>\n",
              "      <th>3</th>\n",
              "      <td>Mar 31, 2023</td>\n",
              "      <td>Mehr un Nisa</td>\n",
              "      <td>NaN</td>\n",
              "      <td>NaN</td>\n",
              "      <td>Female</td>\n",
              "      <td>NaN</td>\n",
              "      <td>NaN</td>\n",
              "      <td>Never</td>\n",
              "      <td>NaN</td>\n",
              "      <td>[10-19]</td>\n",
              "      <td>...</td>\n",
              "      <td>NaN</td>\n",
              "      <td>NaN</td>\n",
              "      <td>NaN</td>\n",
              "      <td>NaN</td>\n",
              "      <td>NaN</td>\n",
              "      <td>NaN</td>\n",
              "      <td>NaN</td>\n",
              "      <td>NaN</td>\n",
              "      <td>NaN</td>\n",
              "      <td>Yes, I take medicine without consulting physic...</td>\n",
              "    </tr>\n",
              "    <tr>\n",
              "      <th>4</th>\n",
              "      <td>Mar 31, 2023</td>\n",
              "      <td>Uswa</td>\n",
              "      <td>Farheen</td>\n",
              "      <td>bcsf22m523@pucit.edu.pk</td>\n",
              "      <td>Female</td>\n",
              "      <td>NaN</td>\n",
              "      <td>NaN</td>\n",
              "      <td>Never</td>\n",
              "      <td>NaN</td>\n",
              "      <td>[10-19]</td>\n",
              "      <td>...</td>\n",
              "      <td>NaN</td>\n",
              "      <td>NaN</td>\n",
              "      <td>NaN</td>\n",
              "      <td>NaN</td>\n",
              "      <td>NaN</td>\n",
              "      <td>NaN</td>\n",
              "      <td>NaN</td>\n",
              "      <td>NaN</td>\n",
              "      <td>NaN</td>\n",
              "      <td>Someimes, I often visit physician to get consu...</td>\n",
              "    </tr>\n",
              "    <tr>\n",
              "      <th>...</th>\n",
              "      <td>...</td>\n",
              "      <td>...</td>\n",
              "      <td>...</td>\n",
              "      <td>...</td>\n",
              "      <td>...</td>\n",
              "      <td>...</td>\n",
              "      <td>...</td>\n",
              "      <td>...</td>\n",
              "      <td>...</td>\n",
              "      <td>...</td>\n",
              "      <td>...</td>\n",
              "      <td>...</td>\n",
              "      <td>...</td>\n",
              "      <td>...</td>\n",
              "      <td>...</td>\n",
              "      <td>...</td>\n",
              "      <td>...</td>\n",
              "      <td>...</td>\n",
              "      <td>...</td>\n",
              "      <td>...</td>\n",
              "      <td>...</td>\n",
              "    </tr>\n",
              "    <tr>\n",
              "      <th>146</th>\n",
              "      <td>Jan 25, 2023</td>\n",
              "      <td>Sadaf</td>\n",
              "      <td>Afreen</td>\n",
              "      <td>mirsab8989@gmail.com</td>\n",
              "      <td>Female</td>\n",
              "      <td>Less noisy urban area</td>\n",
              "      <td>NO</td>\n",
              "      <td>Never</td>\n",
              "      <td>YES</td>\n",
              "      <td>[30-39]</td>\n",
              "      <td>...</td>\n",
              "      <td>YES</td>\n",
              "      <td>YES</td>\n",
              "      <td>NO</td>\n",
              "      <td>NO</td>\n",
              "      <td>YES</td>\n",
              "      <td>NO</td>\n",
              "      <td>NO</td>\n",
              "      <td>NO</td>\n",
              "      <td>NO</td>\n",
              "      <td>Someimes, I often visit physician to get consu...</td>\n",
              "    </tr>\n",
              "    <tr>\n",
              "      <th>147</th>\n",
              "      <td>Jan 25, 2023</td>\n",
              "      <td>Shahmeer</td>\n",
              "      <td>Kazmi</td>\n",
              "      <td>kazmi152000@gmail.com</td>\n",
              "      <td>Male</td>\n",
              "      <td>Noisy urban area</td>\n",
              "      <td>NO</td>\n",
              "      <td>Never</td>\n",
              "      <td>YES</td>\n",
              "      <td>[20-29]</td>\n",
              "      <td>...</td>\n",
              "      <td>YES</td>\n",
              "      <td>YES</td>\n",
              "      <td>YES</td>\n",
              "      <td>NO</td>\n",
              "      <td>NO</td>\n",
              "      <td>YES</td>\n",
              "      <td>NO</td>\n",
              "      <td>NO</td>\n",
              "      <td>YES</td>\n",
              "      <td>No, I don't take any medicine at all.</td>\n",
              "    </tr>\n",
              "    <tr>\n",
              "      <th>148</th>\n",
              "      <td>Jan 25, 2023</td>\n",
              "      <td>Muhammad</td>\n",
              "      <td>Hanzala</td>\n",
              "      <td>hanzalamanzoor5@gmail.com</td>\n",
              "      <td>Male</td>\n",
              "      <td>Noisy urban area</td>\n",
              "      <td>NO</td>\n",
              "      <td>Never</td>\n",
              "      <td>YES</td>\n",
              "      <td>[20-29]</td>\n",
              "      <td>...</td>\n",
              "      <td>YES</td>\n",
              "      <td>YES</td>\n",
              "      <td>NO</td>\n",
              "      <td>YES</td>\n",
              "      <td>YES</td>\n",
              "      <td>NO</td>\n",
              "      <td>NO</td>\n",
              "      <td>NO</td>\n",
              "      <td>YES</td>\n",
              "      <td>No, I don't take any medicine at all.</td>\n",
              "    </tr>\n",
              "    <tr>\n",
              "      <th>149</th>\n",
              "      <td>Jan 25, 2023</td>\n",
              "      <td>Faisal</td>\n",
              "      <td>Bukhari</td>\n",
              "      <td>faisal.bukhari@itu.edu.pk</td>\n",
              "      <td>Male</td>\n",
              "      <td>In rural area (More peaceful and less noisy)</td>\n",
              "      <td>NO</td>\n",
              "      <td>Never</td>\n",
              "      <td>YES</td>\n",
              "      <td>NaN</td>\n",
              "      <td>...</td>\n",
              "      <td>YES</td>\n",
              "      <td>YES</td>\n",
              "      <td>NO</td>\n",
              "      <td>YES</td>\n",
              "      <td>NO</td>\n",
              "      <td>NO</td>\n",
              "      <td>NO</td>\n",
              "      <td>NO</td>\n",
              "      <td>YES</td>\n",
              "      <td>Yes, I take medicine without consulting physic...</td>\n",
              "    </tr>\n",
              "    <tr>\n",
              "      <th>150</th>\n",
              "      <td>Jan 23, 2023</td>\n",
              "      <td>Muhammad</td>\n",
              "      <td>Husnain</td>\n",
              "      <td>m.husnain8721@gmail.com</td>\n",
              "      <td>Male</td>\n",
              "      <td>In rural area (More peaceful and less noisy)</td>\n",
              "      <td>NO</td>\n",
              "      <td>Never</td>\n",
              "      <td>YES</td>\n",
              "      <td>NaN</td>\n",
              "      <td>...</td>\n",
              "      <td>YES</td>\n",
              "      <td>YES</td>\n",
              "      <td>NO</td>\n",
              "      <td>YES</td>\n",
              "      <td>YES</td>\n",
              "      <td>YES</td>\n",
              "      <td>YES</td>\n",
              "      <td>NO</td>\n",
              "      <td>NO</td>\n",
              "      <td>NaN</td>\n",
              "    </tr>\n",
              "  </tbody>\n",
              "</table>\n",
              "<p>151 rows × 45 columns</p>\n",
              "</div>\n",
              "      <button class=\"colab-df-convert\" onclick=\"convertToInteractive('df-1f675db4-9f72-48ea-be34-aa63001a1e7e')\"\n",
              "              title=\"Convert this dataframe to an interactive table.\"\n",
              "              style=\"display:none;\">\n",
              "        \n",
              "  <svg xmlns=\"http://www.w3.org/2000/svg\" height=\"24px\"viewBox=\"0 0 24 24\"\n",
              "       width=\"24px\">\n",
              "    <path d=\"M0 0h24v24H0V0z\" fill=\"none\"/>\n",
              "    <path d=\"M18.56 5.44l.94 2.06.94-2.06 2.06-.94-2.06-.94-.94-2.06-.94 2.06-2.06.94zm-11 1L8.5 8.5l.94-2.06 2.06-.94-2.06-.94L8.5 2.5l-.94 2.06-2.06.94zm10 10l.94 2.06.94-2.06 2.06-.94-2.06-.94-.94-2.06-.94 2.06-2.06.94z\"/><path d=\"M17.41 7.96l-1.37-1.37c-.4-.4-.92-.59-1.43-.59-.52 0-1.04.2-1.43.59L10.3 9.45l-7.72 7.72c-.78.78-.78 2.05 0 2.83L4 21.41c.39.39.9.59 1.41.59.51 0 1.02-.2 1.41-.59l7.78-7.78 2.81-2.81c.8-.78.8-2.07 0-2.86zM5.41 20L4 18.59l7.72-7.72 1.47 1.35L5.41 20z\"/>\n",
              "  </svg>\n",
              "      </button>\n",
              "      \n",
              "  <style>\n",
              "    .colab-df-container {\n",
              "      display:flex;\n",
              "      flex-wrap:wrap;\n",
              "      gap: 12px;\n",
              "    }\n",
              "\n",
              "    .colab-df-convert {\n",
              "      background-color: #E8F0FE;\n",
              "      border: none;\n",
              "      border-radius: 50%;\n",
              "      cursor: pointer;\n",
              "      display: none;\n",
              "      fill: #1967D2;\n",
              "      height: 32px;\n",
              "      padding: 0 0 0 0;\n",
              "      width: 32px;\n",
              "    }\n",
              "\n",
              "    .colab-df-convert:hover {\n",
              "      background-color: #E2EBFA;\n",
              "      box-shadow: 0px 1px 2px rgba(60, 64, 67, 0.3), 0px 1px 3px 1px rgba(60, 64, 67, 0.15);\n",
              "      fill: #174EA6;\n",
              "    }\n",
              "\n",
              "    [theme=dark] .colab-df-convert {\n",
              "      background-color: #3B4455;\n",
              "      fill: #D2E3FC;\n",
              "    }\n",
              "\n",
              "    [theme=dark] .colab-df-convert:hover {\n",
              "      background-color: #434B5C;\n",
              "      box-shadow: 0px 1px 3px 1px rgba(0, 0, 0, 0.15);\n",
              "      filter: drop-shadow(0px 1px 2px rgba(0, 0, 0, 0.3));\n",
              "      fill: #FFFFFF;\n",
              "    }\n",
              "  </style>\n",
              "\n",
              "      <script>\n",
              "        const buttonEl =\n",
              "          document.querySelector('#df-1f675db4-9f72-48ea-be34-aa63001a1e7e button.colab-df-convert');\n",
              "        buttonEl.style.display =\n",
              "          google.colab.kernel.accessAllowed ? 'block' : 'none';\n",
              "\n",
              "        async function convertToInteractive(key) {\n",
              "          const element = document.querySelector('#df-1f675db4-9f72-48ea-be34-aa63001a1e7e');\n",
              "          const dataTable =\n",
              "            await google.colab.kernel.invokeFunction('convertToInteractive',\n",
              "                                                     [key], {});\n",
              "          if (!dataTable) return;\n",
              "\n",
              "          const docLinkHtml = 'Like what you see? Visit the ' +\n",
              "            '<a target=\"_blank\" href=https://colab.research.google.com/notebooks/data_table.ipynb>data table notebook</a>'\n",
              "            + ' to learn more about interactive tables.';\n",
              "          element.innerHTML = '';\n",
              "          dataTable['output_type'] = 'display_data';\n",
              "          await google.colab.output.renderOutput(dataTable, element);\n",
              "          const docLink = document.createElement('div');\n",
              "          docLink.innerHTML = docLinkHtml;\n",
              "          element.appendChild(docLink);\n",
              "        }\n",
              "      </script>\n",
              "    </div>\n",
              "  </div>\n",
              "  "
            ]
          },
          "metadata": {},
          "execution_count": 3
        }
      ]
    },
    {
      "cell_type": "code",
      "source": [
        "data.info()"
      ],
      "metadata": {
        "colab": {
          "base_uri": "https://localhost:8080/"
        },
        "id": "nZ5-h7-lpNXJ",
        "outputId": "3f485025-e088-47f4-b1ae-039d3016c6fd"
      },
      "execution_count": null,
      "outputs": [
        {
          "output_type": "stream",
          "name": "stdout",
          "text": [
            "<class 'pandas.core.frame.DataFrame'>\n",
            "RangeIndex: 151 entries, 0 to 150\n",
            "Data columns (total 45 columns):\n",
            " #   Column                                                                                                                                         Non-Null Count  Dtype \n",
            "---  ------                                                                                                                                         --------------  ----- \n",
            " 0   Submission Date                                                                                                                                151 non-null    object\n",
            " 1   First Name                                                                                                                                     137 non-null    object\n",
            " 2   Last Name                                                                                                                                      130 non-null    object\n",
            " 3   Email                                                                                                                                          112 non-null    object\n",
            " 4   Gender                                                                                                                                         146 non-null    object\n",
            " 5   Where do you live?                                                                                                                             91 non-null     object\n",
            " 6   Do you smoke?                                                                                                                                  93 non-null     object\n",
            " 7   How frequently do you smoke?                                                                                                                   143 non-null    object\n",
            " 8   Do you eat properly?                                                                                                                           96 non-null     object\n",
            " 9   Age Range                                                                                                                                      138 non-null    object\n",
            " 10  DO you eat cold food?                                                                                                                          147 non-null    object\n",
            " 11  Do you have any history of headache?                                                                                                           124 non-null    object\n",
            " 12  What is your general screen time?                                                                                                              126 non-null    object\n",
            " 13  Do you have acidity problem?                                                                                                                   36 non-null     object\n",
            " 14  Do you face stress often?                                                                                                                      62 non-null     object\n",
            " 15  How often do you skip meals?                                                                                                                   148 non-null    object\n",
            " 16  Does change in weather affects your headache severity?                                                                                         61 non-null     object\n",
            " 17  Do you feel sensation of fullness in ear?  (It means sensation of blockage in the ear. A person can feel cracking and popping sounds in ear.)  57 non-null     object\n",
            " 18  How often do you consume fast food?                                                                                                            147 non-null    object\n",
            " 19  Do you suffer lack of sleep?                                                                                                                   150 non-null    object\n",
            " 20  Do you face sleep disturbance?                                                                                                                 150 non-null    object\n",
            " 21  How often do you feel fatigue?                                                                                                                 150 non-null    object\n",
            " 22  How frequently do you face intense emotional?                                                                                                  151 non-null    object\n",
            " 23  Do you face stress often?.1                                                                                                                    92 non-null     object\n",
            " 24  Does change in weather affects your headache severity?.1                                                                                       91 non-null     object\n",
            " 25  How often do you face harmone fluctuation?                                                                                                     147 non-null    object\n",
            " 26  What are main triggers of headache for you?                                                                                                    145 non-null    object\n",
            " 27  What is duration of your headache in general?                                                                                                  94 non-null     object\n",
            " 28  Is there any specific time of headache?                                                                                                        96 non-null     object\n",
            " 29  In which time of the day you have headache?                                                                                                    134 non-null    object\n",
            " 30  Generally in which area do you feel headache?                                                                                                  144 non-null    object\n",
            " 31  Normally what is the intensity of headache?                                                                                                    145 non-null    object\n",
            " 32  Do you face conjunctival injection?                                                                                                            90 non-null     object\n",
            " 33  Do you have Lacrimation?                                                                                                                       93 non-null     object\n",
            " 34  Do you face nasal congestion or rhinorrhea(runny nose)?                                                                                        94 non-null     object\n",
            " 35  Do you feel plusating?                                                                                                                         93 non-null     object\n",
            " 36  Do you feel sensitivity to light and sound during headache?                                                                                    91 non-null     object\n",
            " 37  Do you face eyelid edema?                                                                                                                      92 non-null     object\n",
            " 38  Do you face forehead or facial sweating?                                                                                                       93 non-null     object\n",
            " 39  Did your headache begin or worsen after any physical activity?                                                                                 92 non-null     object\n",
            " 40  Do you feel restlessness or agitation?                                                                                                         92 non-null     object\n",
            " 41  Do you feel miosis?                                                                                                                            93 non-null     object\n",
            " 42  Do you feel nausea or vomiting?                                                                                                                92 non-null     object\n",
            " 43  Do you feel sensation of fullness in ear?                                                                                                      90 non-null     object\n",
            " 44  Do you self-medicate to cure your headache?                                                                                                    143 non-null    object\n",
            "dtypes: object(45)\n",
            "memory usage: 53.2+ KB\n"
          ]
        }
      ]
    },
    {
      "cell_type": "code",
      "source": [
        "data.shape"
      ],
      "metadata": {
        "colab": {
          "base_uri": "https://localhost:8080/"
        },
        "id": "dGA2M8KBpZTu",
        "outputId": "41bdeccf-f45e-422c-dc0a-5bea940929ea"
      },
      "execution_count": null,
      "outputs": [
        {
          "output_type": "execute_result",
          "data": {
            "text/plain": [
              "(151, 45)"
            ]
          },
          "metadata": {},
          "execution_count": 5
        }
      ]
    },
    {
      "cell_type": "code",
      "source": [
        "data.index"
      ],
      "metadata": {
        "colab": {
          "base_uri": "https://localhost:8080/"
        },
        "id": "oc4VOiW0q8cm",
        "outputId": "7a943b9d-6e2e-4cef-9419-ccdcac9404e0"
      },
      "execution_count": null,
      "outputs": [
        {
          "output_type": "execute_result",
          "data": {
            "text/plain": [
              "RangeIndex(start=0, stop=151, step=1)"
            ]
          },
          "metadata": {},
          "execution_count": 6
        }
      ]
    },
    {
      "cell_type": "code",
      "source": [
        "data.columns"
      ],
      "metadata": {
        "colab": {
          "base_uri": "https://localhost:8080/"
        },
        "id": "qm2NOQIVrwVf",
        "outputId": "e9ba3bc7-7054-473d-8d16-f10f93c48b87"
      },
      "execution_count": null,
      "outputs": [
        {
          "output_type": "execute_result",
          "data": {
            "text/plain": [
              "Index(['Submission Date', 'First Name', 'Last Name', 'Email', 'Gender',\n",
              "       'Where do you live?', 'Do you smoke?', 'How frequently do you smoke?',\n",
              "       'Do you eat properly?', 'Age Range', 'DO you eat cold food?',\n",
              "       'Do you have any history of headache?',\n",
              "       'What is your general screen time?', 'Do you have acidity problem?',\n",
              "       'Do you face stress often?', 'How often do you skip meals?',\n",
              "       'Does change in weather affects your headache severity?',\n",
              "       'Do you feel sensation of fullness in ear?  (It means sensation of blockage in the ear. A person can feel cracking and popping sounds in ear.)',\n",
              "       'How often do you consume fast food?', 'Do you suffer lack of sleep?',\n",
              "       'Do you face sleep disturbance?', 'How often do you feel fatigue?',\n",
              "       'How frequently do you face intense emotional?',\n",
              "       'Do you face stress often?.1',\n",
              "       'Does change in weather affects your headache severity?.1',\n",
              "       'How often do you face harmone fluctuation?',\n",
              "       'What are main triggers of headache for you?',\n",
              "       'What is duration of your headache in general?',\n",
              "       'Is there any specific time of headache?',\n",
              "       'In which time of the day you have headache?',\n",
              "       'Generally in which area do you feel headache?',\n",
              "       'Normally what is the intensity of headache?',\n",
              "       'Do you face conjunctival injection?', 'Do you have Lacrimation?',\n",
              "       'Do you face nasal congestion or rhinorrhea(runny nose)?',\n",
              "       'Do you feel plusating?',\n",
              "       'Do you feel sensitivity to light and sound during headache?',\n",
              "       'Do you face eyelid edema?', 'Do you face forehead or facial sweating?',\n",
              "       'Did your headache begin or worsen after any physical activity?',\n",
              "       'Do you feel restlessness or agitation?', 'Do you feel miosis?',\n",
              "       'Do you feel nausea or vomiting?',\n",
              "       'Do you feel sensation of fullness in ear?',\n",
              "       'Do you self-medicate to cure your headache?'],\n",
              "      dtype='object')"
            ]
          },
          "metadata": {},
          "execution_count": 7
        }
      ]
    },
    {
      "cell_type": "code",
      "source": [
        "data.info"
      ],
      "metadata": {
        "colab": {
          "base_uri": "https://localhost:8080/"
        },
        "id": "XMleE95sr4cQ",
        "outputId": "d643366d-efc9-4af1-c093-873b8a54dcd5"
      },
      "execution_count": null,
      "outputs": [
        {
          "output_type": "execute_result",
          "data": {
            "text/plain": [
              "<bound method DataFrame.info of     Submission Date    First Name Last Name                      Email  \\\n",
              "0      Mar 31, 2023          Aima     Arfaq    bcsf22m534@pucit.edu.pk   \n",
              "1      Mar 31, 2023         Aliza     Akram     alizaakram77@gmail.com   \n",
              "2      Mar 31, 2023        Eishal  Siddiqui   eishalsiddique@gmail.com   \n",
              "3      Mar 31, 2023  Mehr un Nisa       NaN                        NaN   \n",
              "4      Mar 31, 2023          Uswa   Farheen    bcsf22m523@pucit.edu.pk   \n",
              "..              ...           ...       ...                        ...   \n",
              "146    Jan 25, 2023         Sadaf    Afreen       mirsab8989@gmail.com   \n",
              "147    Jan 25, 2023      Shahmeer     Kazmi      kazmi152000@gmail.com   \n",
              "148    Jan 25, 2023     Muhammad    Hanzala  hanzalamanzoor5@gmail.com   \n",
              "149    Jan 25, 2023        Faisal   Bukhari  faisal.bukhari@itu.edu.pk   \n",
              "150    Jan 23, 2023     Muhammad   Husnain     m.husnain8721@gmail.com   \n",
              "\n",
              "     Gender                            Where do you live? Do you smoke?  \\\n",
              "0    Female                                           NaN           NaN   \n",
              "1    Female                                           NaN           NaN   \n",
              "2    Female                                           NaN           NaN   \n",
              "3    Female                                           NaN           NaN   \n",
              "4    Female                                           NaN           NaN   \n",
              "..      ...                                           ...           ...   \n",
              "146  Female                         Less noisy urban area            NO   \n",
              "147    Male                              Noisy urban area            NO   \n",
              "148    Male                              Noisy urban area            NO   \n",
              "149    Male  In rural area (More peaceful and less noisy)            NO   \n",
              "150    Male  In rural area (More peaceful and less noisy)            NO   \n",
              "\n",
              "    How frequently do you smoke? Do you eat properly? Age Range  ...  \\\n",
              "0                          Never                  NaN   [10-19]  ...   \n",
              "1                          Never                  NaN   [20-29]  ...   \n",
              "2                          Never                  NaN   [10-19]  ...   \n",
              "3                          Never                  NaN   [10-19]  ...   \n",
              "4                          Never                  NaN   [10-19]  ...   \n",
              "..                           ...                  ...       ...  ...   \n",
              "146                        Never                  YES   [30-39]  ...   \n",
              "147                        Never                  YES   [20-29]  ...   \n",
              "148                        Never                  YES   [20-29]  ...   \n",
              "149                        Never                  YES       NaN  ...   \n",
              "150                        Never                  YES       NaN  ...   \n",
              "\n",
              "    Do you feel plusating?  \\\n",
              "0                      NaN   \n",
              "1                      NaN   \n",
              "2                      NaN   \n",
              "3                      NaN   \n",
              "4                      NaN   \n",
              "..                     ...   \n",
              "146                    YES   \n",
              "147                    YES   \n",
              "148                    YES   \n",
              "149                    YES   \n",
              "150                    YES   \n",
              "\n",
              "    Do you feel sensitivity to light and sound during headache?  \\\n",
              "0                                                  NaN            \n",
              "1                                                  NaN            \n",
              "2                                                  NaN            \n",
              "3                                                  NaN            \n",
              "4                                                  NaN            \n",
              "..                                                 ...            \n",
              "146                                                YES            \n",
              "147                                                YES            \n",
              "148                                                YES            \n",
              "149                                                YES            \n",
              "150                                                YES            \n",
              "\n",
              "    Do you face eyelid edema? Do you face forehead or facial sweating?  \\\n",
              "0                         NaN                                      NaN   \n",
              "1                         NaN                                      NaN   \n",
              "2                         NaN                                      NaN   \n",
              "3                         NaN                                      NaN   \n",
              "4                         NaN                                      NaN   \n",
              "..                        ...                                      ...   \n",
              "146                        NO                                       NO   \n",
              "147                       YES                                       NO   \n",
              "148                        NO                                      YES   \n",
              "149                        NO                                      YES   \n",
              "150                        NO                                      YES   \n",
              "\n",
              "    Did your headache begin or worsen after any physical activity?  \\\n",
              "0                                                  NaN               \n",
              "1                                                  NaN               \n",
              "2                                                  NaN               \n",
              "3                                                  NaN               \n",
              "4                                                  NaN               \n",
              "..                                                 ...               \n",
              "146                                                YES               \n",
              "147                                                 NO               \n",
              "148                                                YES               \n",
              "149                                                 NO               \n",
              "150                                                YES               \n",
              "\n",
              "    Do you feel restlessness or agitation? Do you feel miosis?  \\\n",
              "0                                      NaN                 NaN   \n",
              "1                                      NaN                 NaN   \n",
              "2                                      NaN                 NaN   \n",
              "3                                      NaN                 NaN   \n",
              "4                                      NaN                 NaN   \n",
              "..                                     ...                 ...   \n",
              "146                                     NO                  NO   \n",
              "147                                    YES                  NO   \n",
              "148                                     NO                  NO   \n",
              "149                                     NO                  NO   \n",
              "150                                    YES                 YES   \n",
              "\n",
              "    Do you feel nausea or vomiting? Do you feel sensation of fullness in ear?  \\\n",
              "0                               NaN                                       NaN   \n",
              "1                               NaN                                       NaN   \n",
              "2                               NaN                                       NaN   \n",
              "3                               NaN                                       NaN   \n",
              "4                               NaN                                       NaN   \n",
              "..                              ...                                       ...   \n",
              "146                              NO                                        NO   \n",
              "147                              NO                                       YES   \n",
              "148                              NO                                       YES   \n",
              "149                              NO                                       YES   \n",
              "150                              NO                                        NO   \n",
              "\n",
              "           Do you self-medicate to cure your headache?  \n",
              "0    Yes, I take medicine without consulting physic...  \n",
              "1    Someimes, I often visit physician to get consu...  \n",
              "2                No, I don't take any medicine at all.  \n",
              "3    Yes, I take medicine without consulting physic...  \n",
              "4    Someimes, I often visit physician to get consu...  \n",
              "..                                                 ...  \n",
              "146  Someimes, I often visit physician to get consu...  \n",
              "147              No, I don't take any medicine at all.  \n",
              "148              No, I don't take any medicine at all.  \n",
              "149  Yes, I take medicine without consulting physic...  \n",
              "150                                                NaN  \n",
              "\n",
              "[151 rows x 45 columns]>"
            ]
          },
          "metadata": {},
          "execution_count": 14
        }
      ]
    },
    {
      "cell_type": "code",
      "source": [
        "data.rename(columns={'Where do you live?': 'area'}, inplace=True)"
      ],
      "metadata": {
        "id": "bhtw5h4Hr9OZ"
      },
      "execution_count": null,
      "outputs": []
    },
    {
      "cell_type": "code",
      "source": [
        "data.rename(columns={'How frequently do you smoke?': 'smoke'},inplace=True)"
      ],
      "metadata": {
        "id": "Bt9SBKtlscPw"
      },
      "execution_count": null,
      "outputs": []
    },
    {
      "cell_type": "code",
      "source": [
        "data.rename(columns={'Do you eat properly?': 'eat'},inplace=True)"
      ],
      "metadata": {
        "id": "SRoJ1rAPEXRF"
      },
      "execution_count": null,
      "outputs": []
    },
    {
      "cell_type": "code",
      "source": [
        "data.rename(columns={'Age Range': 'age'},inplace=True)"
      ],
      "metadata": {
        "id": "Tzif05HiGMBF"
      },
      "execution_count": null,
      "outputs": []
    },
    {
      "cell_type": "code",
      "source": [
        "data.rename(columns={'DO you eat cold food?': 'cold_food'},inplace=True)"
      ],
      "metadata": {
        "id": "4UFOodewGYaj"
      },
      "execution_count": null,
      "outputs": []
    },
    {
      "cell_type": "code",
      "source": [
        "data.rename(columns={'Do you have any history of headache?': 'headache_history'},inplace=True)"
      ],
      "metadata": {
        "id": "tu5Rta4jGmL1"
      },
      "execution_count": null,
      "outputs": []
    },
    {
      "cell_type": "code",
      "source": [
        "data.rename(columns={'What is your general screen time?': 'screen_time'},inplace=True)"
      ],
      "metadata": {
        "id": "66toVOBEGv3T"
      },
      "execution_count": null,
      "outputs": []
    },
    {
      "cell_type": "code",
      "source": [
        "data.rename(columns={'Do you have acidity problem?': 'acidity'},inplace=True)"
      ],
      "metadata": {
        "id": "iPdJs47KG8So"
      },
      "execution_count": null,
      "outputs": []
    },
    {
      "cell_type": "code",
      "source": [
        "data.rename(columns={'Do you face stress often?': 'stress'},inplace=True)"
      ],
      "metadata": {
        "id": "r1ReS-9SHItS"
      },
      "execution_count": null,
      "outputs": []
    },
    {
      "cell_type": "code",
      "source": [
        "data.rename(columns={'How often do you skip meals?': 'skip_meal'},inplace=True)"
      ],
      "metadata": {
        "id": "gobEJSe9HT3g"
      },
      "execution_count": null,
      "outputs": []
    },
    {
      "cell_type": "code",
      "source": [
        "data.rename(columns={'Does change in weather affects your headache severity?': 'weather_affect'},inplace=True)"
      ],
      "metadata": {
        "id": "CcdC1yw4Hf4q"
      },
      "execution_count": null,
      "outputs": []
    },
    {
      "cell_type": "code",
      "source": [
        "data.rename(columns={'Do you feel sensation of fullness in ear?  (It means sensation of blockage in the ear. A person can feel cracking and popping sounds in ear.)': 'ear_fullness'},inplace=True)"
      ],
      "metadata": {
        "id": "FIXiFJUwH6g-"
      },
      "execution_count": null,
      "outputs": []
    },
    {
      "cell_type": "code",
      "source": [
        "data.rename(columns={'How often do you consume fast food?': 'fast_food'},inplace=True)"
      ],
      "metadata": {
        "id": "rTldbzsWIDys"
      },
      "execution_count": null,
      "outputs": []
    },
    {
      "cell_type": "code",
      "source": [
        "data.rename(columns={'Do you suffer lack of sleep?': 'sleep_lack'},inplace=True)"
      ],
      "metadata": {
        "id": "Lsatyb25IDeQ"
      },
      "execution_count": null,
      "outputs": []
    },
    {
      "cell_type": "code",
      "source": [
        "data.rename(columns={'Do you face sleep disturbance?': 'sleep_disturbance'},inplace=True)"
      ],
      "metadata": {
        "id": "wx8vaYrqIDJG"
      },
      "execution_count": null,
      "outputs": []
    },
    {
      "cell_type": "code",
      "source": [
        "data.rename(columns={'How often do you feel fatigue?': 'fatigue'},inplace=True)"
      ],
      "metadata": {
        "id": "5679LOfMICwi"
      },
      "execution_count": null,
      "outputs": []
    },
    {
      "cell_type": "code",
      "source": [
        "data.rename(columns={'How frequently do you face intense emotional?': 'intense_emotion'},inplace=True)"
      ],
      "metadata": {
        "id": "02r4yZv2ICaL"
      },
      "execution_count": null,
      "outputs": []
    },
    {
      "cell_type": "code",
      "source": [
        "data.rename(columns={'Do you face stress often?.1': 'stress1'},inplace=True)"
      ],
      "metadata": {
        "id": "GaJZtyfCICBu"
      },
      "execution_count": null,
      "outputs": []
    },
    {
      "cell_type": "code",
      "source": [
        "data.rename(columns={'Does change in weather affects your headache severity?.1': 'weather_affect1'},inplace=True)"
      ],
      "metadata": {
        "id": "1OvRQcV4IBkN"
      },
      "execution_count": null,
      "outputs": []
    },
    {
      "cell_type": "code",
      "source": [
        "data.rename(columns={'How often do you face harmone fluctuation?': 'harmone_fluctuation'},inplace=True)"
      ],
      "metadata": {
        "id": "ujWxL9QOIA9q"
      },
      "execution_count": null,
      "outputs": []
    },
    {
      "cell_type": "code",
      "source": [
        "data.rename(columns={'What are main triggers of headache for you?': 'headache_trigger'},inplace=True)"
      ],
      "metadata": {
        "id": "CFKkXsR9Jw71"
      },
      "execution_count": null,
      "outputs": []
    },
    {
      "cell_type": "code",
      "source": [
        "data.rename(columns={'What is duration of your headache in general?': 'headache_duration'},inplace=True)"
      ],
      "metadata": {
        "id": "x3h3nefVJ6R9"
      },
      "execution_count": null,
      "outputs": []
    },
    {
      "cell_type": "code",
      "source": [
        "data.rename(columns={'In which time of the day you have headache?': 'headache_time'},inplace=True)"
      ],
      "metadata": {
        "id": "_CQ0FAGlJ5JG"
      },
      "execution_count": null,
      "outputs": []
    },
    {
      "cell_type": "code",
      "source": [
        "data.rename(columns={'Generally in which area do you feel headache?': 'headache_area'},inplace=True)"
      ],
      "metadata": {
        "id": "VKK8b9a7J4Zs"
      },
      "execution_count": null,
      "outputs": []
    },
    {
      "cell_type": "code",
      "source": [
        "data.rename(columns={'Normally what is the intensity of headache?': 'intensity'},inplace=True)"
      ],
      "metadata": {
        "id": "ABfJC5zdJ4Io"
      },
      "execution_count": null,
      "outputs": []
    },
    {
      "cell_type": "code",
      "source": [
        "data.rename(columns={'Do you face conjunctival injection?': 'conjunctival_injection'},inplace=True)"
      ],
      "metadata": {
        "id": "5IVgH7eVJ3y6"
      },
      "execution_count": null,
      "outputs": []
    },
    {
      "cell_type": "code",
      "source": [
        "data.rename(columns={'Do you have Lacrimation?': 'lacrimation'},inplace=True)"
      ],
      "metadata": {
        "id": "EnnT8hFqJ3c1"
      },
      "execution_count": null,
      "outputs": []
    },
    {
      "cell_type": "code",
      "source": [
        "data.rename(columns={'Do you face nasal congestion or rhinorrhea(runny nose)?': 'rhinorrhea'},inplace=True)"
      ],
      "metadata": {
        "id": "ZA4-rdiFLSu2"
      },
      "execution_count": null,
      "outputs": []
    },
    {
      "cell_type": "code",
      "source": [
        "data.rename(columns={'Do you feel plusating?': 'pulsating'},inplace=True)"
      ],
      "metadata": {
        "id": "guex24s4LZuL"
      },
      "execution_count": null,
      "outputs": []
    },
    {
      "cell_type": "code",
      "source": [
        "data.rename(columns={'Do you feel sensitivity to light and sound during headache?': 'light_sensitivity'},inplace=True)"
      ],
      "metadata": {
        "id": "FIwrAoqJLZaL"
      },
      "execution_count": null,
      "outputs": []
    },
    {
      "cell_type": "code",
      "source": [
        "data.rename(columns={'Do you face eyelid edema?': 'eyelid_edema'},inplace=True)"
      ],
      "metadata": {
        "id": "bDF7M_1fLZC-"
      },
      "execution_count": null,
      "outputs": []
    },
    {
      "cell_type": "code",
      "source": [
        "data.rename(columns={'Do you face forehead or facial sweating?': 'sweating'},inplace=True)"
      ],
      "metadata": {
        "id": "izTA6oiXLYwt"
      },
      "execution_count": null,
      "outputs": []
    },
    {
      "cell_type": "code",
      "source": [
        "data.rename(columns={'Did your headache begin or worsen after any physical activity?': 'physical_activity'},inplace=True)"
      ],
      "metadata": {
        "id": "quDDnPb2LYan"
      },
      "execution_count": null,
      "outputs": []
    },
    {
      "cell_type": "code",
      "source": [
        "data.rename(columns={'Do you feel restlessness or agitation?': 'restlessness'},inplace=True)"
      ],
      "metadata": {
        "id": "nfimoTn0M9z8"
      },
      "execution_count": null,
      "outputs": []
    },
    {
      "cell_type": "code",
      "source": [
        "data.rename(columns={'Do you feel miosis?': 'miosis'},inplace=True)"
      ],
      "metadata": {
        "id": "TxVHuzOsNFk8"
      },
      "execution_count": null,
      "outputs": []
    },
    {
      "cell_type": "code",
      "source": [
        "data.rename(columns={'Do you feel nausea or vomiting?': 'nausea'},inplace=True)"
      ],
      "metadata": {
        "id": "XDBwbGHoNFAW"
      },
      "execution_count": null,
      "outputs": []
    },
    {
      "cell_type": "code",
      "source": [
        "data.rename(columns={'Do you feel sensation of fullness in ear?': 'ear_fullness1'},inplace=True)"
      ],
      "metadata": {
        "id": "VSDji35cNEW2"
      },
      "execution_count": null,
      "outputs": []
    },
    {
      "cell_type": "code",
      "source": [
        "data.rename(columns={'Do you self-medicate to cure your headache?': 'self_medication'},inplace=True)"
      ],
      "metadata": {
        "id": "WF99EzJANDue"
      },
      "execution_count": null,
      "outputs": []
    },
    {
      "cell_type": "code",
      "source": [
        "data"
      ],
      "metadata": {
        "colab": {
          "base_uri": "https://localhost:8080/",
          "height": 956
        },
        "id": "UhTJ_YWJNwgg",
        "outputId": "73b9edfb-afc9-498d-9ca6-9b1ef4e7cb4c"
      },
      "execution_count": null,
      "outputs": [
        {
          "output_type": "execute_result",
          "data": {
            "text/plain": [
              "    Submission Date    First Name Last Name                      Email  \\\n",
              "0      Mar 31, 2023          Aima     Arfaq    bcsf22m534@pucit.edu.pk   \n",
              "1      Mar 31, 2023         Aliza     Akram     alizaakram77@gmail.com   \n",
              "2      Mar 31, 2023        Eishal  Siddiqui   eishalsiddique@gmail.com   \n",
              "3      Mar 31, 2023  Mehr un Nisa       NaN                        NaN   \n",
              "4      Mar 31, 2023          Uswa   Farheen    bcsf22m523@pucit.edu.pk   \n",
              "..              ...           ...       ...                        ...   \n",
              "146    Jan 25, 2023         Sadaf    Afreen       mirsab8989@gmail.com   \n",
              "147    Jan 25, 2023      Shahmeer     Kazmi      kazmi152000@gmail.com   \n",
              "148    Jan 25, 2023     Muhammad    Hanzala  hanzalamanzoor5@gmail.com   \n",
              "149    Jan 25, 2023        Faisal   Bukhari  faisal.bukhari@itu.edu.pk   \n",
              "150    Jan 23, 2023     Muhammad   Husnain     m.husnain8721@gmail.com   \n",
              "\n",
              "     Gender                                          area Do you smoke?  \\\n",
              "0    Female                                           NaN           NaN   \n",
              "1    Female                                           NaN           NaN   \n",
              "2    Female                                           NaN           NaN   \n",
              "3    Female                                           NaN           NaN   \n",
              "4    Female                                           NaN           NaN   \n",
              "..      ...                                           ...           ...   \n",
              "146  Female                         Less noisy urban area            NO   \n",
              "147    Male                              Noisy urban area            NO   \n",
              "148    Male                              Noisy urban area            NO   \n",
              "149    Male  In rural area (More peaceful and less noisy)            NO   \n",
              "150    Male  In rural area (More peaceful and less noisy)            NO   \n",
              "\n",
              "     smoke  eat      age  ... plusating light_sensitivity eyelid_edema  \\\n",
              "0    Never  NaN  [10-19]  ...       NaN               NaN          NaN   \n",
              "1    Never  NaN  [20-29]  ...       NaN               NaN          NaN   \n",
              "2    Never  NaN  [10-19]  ...       NaN               NaN          NaN   \n",
              "3    Never  NaN  [10-19]  ...       NaN               NaN          NaN   \n",
              "4    Never  NaN  [10-19]  ...       NaN               NaN          NaN   \n",
              "..     ...  ...      ...  ...       ...               ...          ...   \n",
              "146  Never  YES  [30-39]  ...       YES               YES           NO   \n",
              "147  Never  YES  [20-29]  ...       YES               YES          YES   \n",
              "148  Never  YES  [20-29]  ...       YES               YES           NO   \n",
              "149  Never  YES      NaN  ...       YES               YES           NO   \n",
              "150  Never  YES      NaN  ...       YES               YES           NO   \n",
              "\n",
              "    sweating physical_activity restlessness miosis nausea ear_fullness1  \\\n",
              "0        NaN               NaN          NaN    NaN    NaN           NaN   \n",
              "1        NaN               NaN          NaN    NaN    NaN           NaN   \n",
              "2        NaN               NaN          NaN    NaN    NaN           NaN   \n",
              "3        NaN               NaN          NaN    NaN    NaN           NaN   \n",
              "4        NaN               NaN          NaN    NaN    NaN           NaN   \n",
              "..       ...               ...          ...    ...    ...           ...   \n",
              "146       NO               YES           NO     NO     NO            NO   \n",
              "147       NO                NO          YES     NO     NO           YES   \n",
              "148      YES               YES           NO     NO     NO           YES   \n",
              "149      YES                NO           NO     NO     NO           YES   \n",
              "150      YES               YES          YES    YES     NO            NO   \n",
              "\n",
              "                                       self_medication  \n",
              "0    Yes, I take medicine without consulting physic...  \n",
              "1    Someimes, I often visit physician to get consu...  \n",
              "2                No, I don't take any medicine at all.  \n",
              "3    Yes, I take medicine without consulting physic...  \n",
              "4    Someimes, I often visit physician to get consu...  \n",
              "..                                                 ...  \n",
              "146  Someimes, I often visit physician to get consu...  \n",
              "147              No, I don't take any medicine at all.  \n",
              "148              No, I don't take any medicine at all.  \n",
              "149  Yes, I take medicine without consulting physic...  \n",
              "150                                                NaN  \n",
              "\n",
              "[151 rows x 45 columns]"
            ],
            "text/html": [
              "\n",
              "  <div id=\"df-4028c275-b7eb-4581-89e8-c776bb0dc430\">\n",
              "    <div class=\"colab-df-container\">\n",
              "      <div>\n",
              "<style scoped>\n",
              "    .dataframe tbody tr th:only-of-type {\n",
              "        vertical-align: middle;\n",
              "    }\n",
              "\n",
              "    .dataframe tbody tr th {\n",
              "        vertical-align: top;\n",
              "    }\n",
              "\n",
              "    .dataframe thead th {\n",
              "        text-align: right;\n",
              "    }\n",
              "</style>\n",
              "<table border=\"1\" class=\"dataframe\">\n",
              "  <thead>\n",
              "    <tr style=\"text-align: right;\">\n",
              "      <th></th>\n",
              "      <th>Submission Date</th>\n",
              "      <th>First Name</th>\n",
              "      <th>Last Name</th>\n",
              "      <th>Email</th>\n",
              "      <th>Gender</th>\n",
              "      <th>area</th>\n",
              "      <th>Do you smoke?</th>\n",
              "      <th>smoke</th>\n",
              "      <th>eat</th>\n",
              "      <th>age</th>\n",
              "      <th>...</th>\n",
              "      <th>plusating</th>\n",
              "      <th>light_sensitivity</th>\n",
              "      <th>eyelid_edema</th>\n",
              "      <th>sweating</th>\n",
              "      <th>physical_activity</th>\n",
              "      <th>restlessness</th>\n",
              "      <th>miosis</th>\n",
              "      <th>nausea</th>\n",
              "      <th>ear_fullness1</th>\n",
              "      <th>self_medication</th>\n",
              "    </tr>\n",
              "  </thead>\n",
              "  <tbody>\n",
              "    <tr>\n",
              "      <th>0</th>\n",
              "      <td>Mar 31, 2023</td>\n",
              "      <td>Aima</td>\n",
              "      <td>Arfaq</td>\n",
              "      <td>bcsf22m534@pucit.edu.pk</td>\n",
              "      <td>Female</td>\n",
              "      <td>NaN</td>\n",
              "      <td>NaN</td>\n",
              "      <td>Never</td>\n",
              "      <td>NaN</td>\n",
              "      <td>[10-19]</td>\n",
              "      <td>...</td>\n",
              "      <td>NaN</td>\n",
              "      <td>NaN</td>\n",
              "      <td>NaN</td>\n",
              "      <td>NaN</td>\n",
              "      <td>NaN</td>\n",
              "      <td>NaN</td>\n",
              "      <td>NaN</td>\n",
              "      <td>NaN</td>\n",
              "      <td>NaN</td>\n",
              "      <td>Yes, I take medicine without consulting physic...</td>\n",
              "    </tr>\n",
              "    <tr>\n",
              "      <th>1</th>\n",
              "      <td>Mar 31, 2023</td>\n",
              "      <td>Aliza</td>\n",
              "      <td>Akram</td>\n",
              "      <td>alizaakram77@gmail.com</td>\n",
              "      <td>Female</td>\n",
              "      <td>NaN</td>\n",
              "      <td>NaN</td>\n",
              "      <td>Never</td>\n",
              "      <td>NaN</td>\n",
              "      <td>[20-29]</td>\n",
              "      <td>...</td>\n",
              "      <td>NaN</td>\n",
              "      <td>NaN</td>\n",
              "      <td>NaN</td>\n",
              "      <td>NaN</td>\n",
              "      <td>NaN</td>\n",
              "      <td>NaN</td>\n",
              "      <td>NaN</td>\n",
              "      <td>NaN</td>\n",
              "      <td>NaN</td>\n",
              "      <td>Someimes, I often visit physician to get consu...</td>\n",
              "    </tr>\n",
              "    <tr>\n",
              "      <th>2</th>\n",
              "      <td>Mar 31, 2023</td>\n",
              "      <td>Eishal</td>\n",
              "      <td>Siddiqui</td>\n",
              "      <td>eishalsiddique@gmail.com</td>\n",
              "      <td>Female</td>\n",
              "      <td>NaN</td>\n",
              "      <td>NaN</td>\n",
              "      <td>Never</td>\n",
              "      <td>NaN</td>\n",
              "      <td>[10-19]</td>\n",
              "      <td>...</td>\n",
              "      <td>NaN</td>\n",
              "      <td>NaN</td>\n",
              "      <td>NaN</td>\n",
              "      <td>NaN</td>\n",
              "      <td>NaN</td>\n",
              "      <td>NaN</td>\n",
              "      <td>NaN</td>\n",
              "      <td>NaN</td>\n",
              "      <td>NaN</td>\n",
              "      <td>No, I don't take any medicine at all.</td>\n",
              "    </tr>\n",
              "    <tr>\n",
              "      <th>3</th>\n",
              "      <td>Mar 31, 2023</td>\n",
              "      <td>Mehr un Nisa</td>\n",
              "      <td>NaN</td>\n",
              "      <td>NaN</td>\n",
              "      <td>Female</td>\n",
              "      <td>NaN</td>\n",
              "      <td>NaN</td>\n",
              "      <td>Never</td>\n",
              "      <td>NaN</td>\n",
              "      <td>[10-19]</td>\n",
              "      <td>...</td>\n",
              "      <td>NaN</td>\n",
              "      <td>NaN</td>\n",
              "      <td>NaN</td>\n",
              "      <td>NaN</td>\n",
              "      <td>NaN</td>\n",
              "      <td>NaN</td>\n",
              "      <td>NaN</td>\n",
              "      <td>NaN</td>\n",
              "      <td>NaN</td>\n",
              "      <td>Yes, I take medicine without consulting physic...</td>\n",
              "    </tr>\n",
              "    <tr>\n",
              "      <th>4</th>\n",
              "      <td>Mar 31, 2023</td>\n",
              "      <td>Uswa</td>\n",
              "      <td>Farheen</td>\n",
              "      <td>bcsf22m523@pucit.edu.pk</td>\n",
              "      <td>Female</td>\n",
              "      <td>NaN</td>\n",
              "      <td>NaN</td>\n",
              "      <td>Never</td>\n",
              "      <td>NaN</td>\n",
              "      <td>[10-19]</td>\n",
              "      <td>...</td>\n",
              "      <td>NaN</td>\n",
              "      <td>NaN</td>\n",
              "      <td>NaN</td>\n",
              "      <td>NaN</td>\n",
              "      <td>NaN</td>\n",
              "      <td>NaN</td>\n",
              "      <td>NaN</td>\n",
              "      <td>NaN</td>\n",
              "      <td>NaN</td>\n",
              "      <td>Someimes, I often visit physician to get consu...</td>\n",
              "    </tr>\n",
              "    <tr>\n",
              "      <th>...</th>\n",
              "      <td>...</td>\n",
              "      <td>...</td>\n",
              "      <td>...</td>\n",
              "      <td>...</td>\n",
              "      <td>...</td>\n",
              "      <td>...</td>\n",
              "      <td>...</td>\n",
              "      <td>...</td>\n",
              "      <td>...</td>\n",
              "      <td>...</td>\n",
              "      <td>...</td>\n",
              "      <td>...</td>\n",
              "      <td>...</td>\n",
              "      <td>...</td>\n",
              "      <td>...</td>\n",
              "      <td>...</td>\n",
              "      <td>...</td>\n",
              "      <td>...</td>\n",
              "      <td>...</td>\n",
              "      <td>...</td>\n",
              "      <td>...</td>\n",
              "    </tr>\n",
              "    <tr>\n",
              "      <th>146</th>\n",
              "      <td>Jan 25, 2023</td>\n",
              "      <td>Sadaf</td>\n",
              "      <td>Afreen</td>\n",
              "      <td>mirsab8989@gmail.com</td>\n",
              "      <td>Female</td>\n",
              "      <td>Less noisy urban area</td>\n",
              "      <td>NO</td>\n",
              "      <td>Never</td>\n",
              "      <td>YES</td>\n",
              "      <td>[30-39]</td>\n",
              "      <td>...</td>\n",
              "      <td>YES</td>\n",
              "      <td>YES</td>\n",
              "      <td>NO</td>\n",
              "      <td>NO</td>\n",
              "      <td>YES</td>\n",
              "      <td>NO</td>\n",
              "      <td>NO</td>\n",
              "      <td>NO</td>\n",
              "      <td>NO</td>\n",
              "      <td>Someimes, I often visit physician to get consu...</td>\n",
              "    </tr>\n",
              "    <tr>\n",
              "      <th>147</th>\n",
              "      <td>Jan 25, 2023</td>\n",
              "      <td>Shahmeer</td>\n",
              "      <td>Kazmi</td>\n",
              "      <td>kazmi152000@gmail.com</td>\n",
              "      <td>Male</td>\n",
              "      <td>Noisy urban area</td>\n",
              "      <td>NO</td>\n",
              "      <td>Never</td>\n",
              "      <td>YES</td>\n",
              "      <td>[20-29]</td>\n",
              "      <td>...</td>\n",
              "      <td>YES</td>\n",
              "      <td>YES</td>\n",
              "      <td>YES</td>\n",
              "      <td>NO</td>\n",
              "      <td>NO</td>\n",
              "      <td>YES</td>\n",
              "      <td>NO</td>\n",
              "      <td>NO</td>\n",
              "      <td>YES</td>\n",
              "      <td>No, I don't take any medicine at all.</td>\n",
              "    </tr>\n",
              "    <tr>\n",
              "      <th>148</th>\n",
              "      <td>Jan 25, 2023</td>\n",
              "      <td>Muhammad</td>\n",
              "      <td>Hanzala</td>\n",
              "      <td>hanzalamanzoor5@gmail.com</td>\n",
              "      <td>Male</td>\n",
              "      <td>Noisy urban area</td>\n",
              "      <td>NO</td>\n",
              "      <td>Never</td>\n",
              "      <td>YES</td>\n",
              "      <td>[20-29]</td>\n",
              "      <td>...</td>\n",
              "      <td>YES</td>\n",
              "      <td>YES</td>\n",
              "      <td>NO</td>\n",
              "      <td>YES</td>\n",
              "      <td>YES</td>\n",
              "      <td>NO</td>\n",
              "      <td>NO</td>\n",
              "      <td>NO</td>\n",
              "      <td>YES</td>\n",
              "      <td>No, I don't take any medicine at all.</td>\n",
              "    </tr>\n",
              "    <tr>\n",
              "      <th>149</th>\n",
              "      <td>Jan 25, 2023</td>\n",
              "      <td>Faisal</td>\n",
              "      <td>Bukhari</td>\n",
              "      <td>faisal.bukhari@itu.edu.pk</td>\n",
              "      <td>Male</td>\n",
              "      <td>In rural area (More peaceful and less noisy)</td>\n",
              "      <td>NO</td>\n",
              "      <td>Never</td>\n",
              "      <td>YES</td>\n",
              "      <td>NaN</td>\n",
              "      <td>...</td>\n",
              "      <td>YES</td>\n",
              "      <td>YES</td>\n",
              "      <td>NO</td>\n",
              "      <td>YES</td>\n",
              "      <td>NO</td>\n",
              "      <td>NO</td>\n",
              "      <td>NO</td>\n",
              "      <td>NO</td>\n",
              "      <td>YES</td>\n",
              "      <td>Yes, I take medicine without consulting physic...</td>\n",
              "    </tr>\n",
              "    <tr>\n",
              "      <th>150</th>\n",
              "      <td>Jan 23, 2023</td>\n",
              "      <td>Muhammad</td>\n",
              "      <td>Husnain</td>\n",
              "      <td>m.husnain8721@gmail.com</td>\n",
              "      <td>Male</td>\n",
              "      <td>In rural area (More peaceful and less noisy)</td>\n",
              "      <td>NO</td>\n",
              "      <td>Never</td>\n",
              "      <td>YES</td>\n",
              "      <td>NaN</td>\n",
              "      <td>...</td>\n",
              "      <td>YES</td>\n",
              "      <td>YES</td>\n",
              "      <td>NO</td>\n",
              "      <td>YES</td>\n",
              "      <td>YES</td>\n",
              "      <td>YES</td>\n",
              "      <td>YES</td>\n",
              "      <td>NO</td>\n",
              "      <td>NO</td>\n",
              "      <td>NaN</td>\n",
              "    </tr>\n",
              "  </tbody>\n",
              "</table>\n",
              "<p>151 rows × 45 columns</p>\n",
              "</div>\n",
              "      <button class=\"colab-df-convert\" onclick=\"convertToInteractive('df-4028c275-b7eb-4581-89e8-c776bb0dc430')\"\n",
              "              title=\"Convert this dataframe to an interactive table.\"\n",
              "              style=\"display:none;\">\n",
              "        \n",
              "  <svg xmlns=\"http://www.w3.org/2000/svg\" height=\"24px\"viewBox=\"0 0 24 24\"\n",
              "       width=\"24px\">\n",
              "    <path d=\"M0 0h24v24H0V0z\" fill=\"none\"/>\n",
              "    <path d=\"M18.56 5.44l.94 2.06.94-2.06 2.06-.94-2.06-.94-.94-2.06-.94 2.06-2.06.94zm-11 1L8.5 8.5l.94-2.06 2.06-.94-2.06-.94L8.5 2.5l-.94 2.06-2.06.94zm10 10l.94 2.06.94-2.06 2.06-.94-2.06-.94-.94-2.06-.94 2.06-2.06.94z\"/><path d=\"M17.41 7.96l-1.37-1.37c-.4-.4-.92-.59-1.43-.59-.52 0-1.04.2-1.43.59L10.3 9.45l-7.72 7.72c-.78.78-.78 2.05 0 2.83L4 21.41c.39.39.9.59 1.41.59.51 0 1.02-.2 1.41-.59l7.78-7.78 2.81-2.81c.8-.78.8-2.07 0-2.86zM5.41 20L4 18.59l7.72-7.72 1.47 1.35L5.41 20z\"/>\n",
              "  </svg>\n",
              "      </button>\n",
              "      \n",
              "  <style>\n",
              "    .colab-df-container {\n",
              "      display:flex;\n",
              "      flex-wrap:wrap;\n",
              "      gap: 12px;\n",
              "    }\n",
              "\n",
              "    .colab-df-convert {\n",
              "      background-color: #E8F0FE;\n",
              "      border: none;\n",
              "      border-radius: 50%;\n",
              "      cursor: pointer;\n",
              "      display: none;\n",
              "      fill: #1967D2;\n",
              "      height: 32px;\n",
              "      padding: 0 0 0 0;\n",
              "      width: 32px;\n",
              "    }\n",
              "\n",
              "    .colab-df-convert:hover {\n",
              "      background-color: #E2EBFA;\n",
              "      box-shadow: 0px 1px 2px rgba(60, 64, 67, 0.3), 0px 1px 3px 1px rgba(60, 64, 67, 0.15);\n",
              "      fill: #174EA6;\n",
              "    }\n",
              "\n",
              "    [theme=dark] .colab-df-convert {\n",
              "      background-color: #3B4455;\n",
              "      fill: #D2E3FC;\n",
              "    }\n",
              "\n",
              "    [theme=dark] .colab-df-convert:hover {\n",
              "      background-color: #434B5C;\n",
              "      box-shadow: 0px 1px 3px 1px rgba(0, 0, 0, 0.15);\n",
              "      filter: drop-shadow(0px 1px 2px rgba(0, 0, 0, 0.3));\n",
              "      fill: #FFFFFF;\n",
              "    }\n",
              "  </style>\n",
              "\n",
              "      <script>\n",
              "        const buttonEl =\n",
              "          document.querySelector('#df-4028c275-b7eb-4581-89e8-c776bb0dc430 button.colab-df-convert');\n",
              "        buttonEl.style.display =\n",
              "          google.colab.kernel.accessAllowed ? 'block' : 'none';\n",
              "\n",
              "        async function convertToInteractive(key) {\n",
              "          const element = document.querySelector('#df-4028c275-b7eb-4581-89e8-c776bb0dc430');\n",
              "          const dataTable =\n",
              "            await google.colab.kernel.invokeFunction('convertToInteractive',\n",
              "                                                     [key], {});\n",
              "          if (!dataTable) return;\n",
              "\n",
              "          const docLinkHtml = 'Like what you see? Visit the ' +\n",
              "            '<a target=\"_blank\" href=https://colab.research.google.com/notebooks/data_table.ipynb>data table notebook</a>'\n",
              "            + ' to learn more about interactive tables.';\n",
              "          element.innerHTML = '';\n",
              "          dataTable['output_type'] = 'display_data';\n",
              "          await google.colab.output.renderOutput(dataTable, element);\n",
              "          const docLink = document.createElement('div');\n",
              "          docLink.innerHTML = docLinkHtml;\n",
              "          element.appendChild(docLink);\n",
              "        }\n",
              "      </script>\n",
              "    </div>\n",
              "  </div>\n",
              "  "
            ]
          },
          "metadata": {},
          "execution_count": 50
        }
      ]
    },
    {
      "cell_type": "code",
      "source": [
        "df =data.drop(labels=[\"First Name\",\"Last Name\",\"Submission Date\", \"Email\",\"Do you smoke?\"],\n",
        "          axis = 1,\n",
        "          inplace = True)"
      ],
      "metadata": {
        "id": "n3ZrlrxoN1OU"
      },
      "execution_count": null,
      "outputs": []
    },
    {
      "cell_type": "code",
      "source": [
        "data"
      ],
      "metadata": {
        "colab": {
          "base_uri": "https://localhost:8080/",
          "height": 939
        },
        "id": "gqoxuv9NOqkX",
        "outputId": "e4003140-e625-4d84-ec6f-2dd0960e44e9"
      },
      "execution_count": null,
      "outputs": [
        {
          "output_type": "execute_result",
          "data": {
            "text/plain": [
              "     Gender                                          area  smoke  eat  \\\n",
              "0    Female                                           NaN  Never  NaN   \n",
              "1    Female                                           NaN  Never  NaN   \n",
              "2    Female                                           NaN  Never  NaN   \n",
              "3    Female                                           NaN  Never  NaN   \n",
              "4    Female                                           NaN  Never  NaN   \n",
              "..      ...                                           ...    ...  ...   \n",
              "146  Female                         Less noisy urban area  Never  YES   \n",
              "147    Male                              Noisy urban area  Never  YES   \n",
              "148    Male                              Noisy urban area  Never  YES   \n",
              "149    Male  In rural area (More peaceful and less noisy)  Never  YES   \n",
              "150    Male  In rural area (More peaceful and less noisy)  Never  YES   \n",
              "\n",
              "         age     cold_food            headache_history        screen_time  \\\n",
              "0    [10-19]         Never                          No          3-5 hours   \n",
              "1    [20-29]  Ocassionally            Tension headache          3-5 hours   \n",
              "2    [10-19]   Once a week                          No  More then 2 hours   \n",
              "3    [10-19]  Ocassionally                          No          3-5 hours   \n",
              "4    [10-19]         Never  Migraine\\nTension headache  More then 2 hours   \n",
              "..       ...           ...                         ...                ...   \n",
              "146  [30-39]         Daily                         NaN                NaN   \n",
              "147  [20-29]  Ocassionally                         NaN                NaN   \n",
              "148  [20-29]   Once a week                         NaN                NaN   \n",
              "149      NaN           NaN                         NaN                NaN   \n",
              "150      NaN           NaN                         NaN                NaN   \n",
              "\n",
              "    acidity stress  ... plusating light_sensitivity eyelid_edema sweating  \\\n",
              "0       NaN    Yes  ...       NaN               NaN          NaN      NaN   \n",
              "1       NaN    Yes  ...       NaN               NaN          NaN      NaN   \n",
              "2       NaN    Yes  ...       NaN               NaN          NaN      NaN   \n",
              "3       NaN    Yes  ...       NaN               NaN          NaN      NaN   \n",
              "4       NaN    Yes  ...       NaN               NaN          NaN      NaN   \n",
              "..      ...    ...  ...       ...               ...          ...      ...   \n",
              "146     NaN    NaN  ...       YES               YES           NO       NO   \n",
              "147     NaN    NaN  ...       YES               YES          YES       NO   \n",
              "148     NaN    NaN  ...       YES               YES           NO      YES   \n",
              "149     NaN    NaN  ...       YES               YES           NO      YES   \n",
              "150     NaN    NaN  ...       YES               YES           NO      YES   \n",
              "\n",
              "    physical_activity restlessness miosis nausea ear_fullness1  \\\n",
              "0                 NaN          NaN    NaN    NaN           NaN   \n",
              "1                 NaN          NaN    NaN    NaN           NaN   \n",
              "2                 NaN          NaN    NaN    NaN           NaN   \n",
              "3                 NaN          NaN    NaN    NaN           NaN   \n",
              "4                 NaN          NaN    NaN    NaN           NaN   \n",
              "..                ...          ...    ...    ...           ...   \n",
              "146               YES           NO     NO     NO            NO   \n",
              "147                NO          YES     NO     NO           YES   \n",
              "148               YES           NO     NO     NO           YES   \n",
              "149                NO           NO     NO     NO           YES   \n",
              "150               YES          YES    YES     NO            NO   \n",
              "\n",
              "                                       self_medication  \n",
              "0    Yes, I take medicine without consulting physic...  \n",
              "1    Someimes, I often visit physician to get consu...  \n",
              "2                No, I don't take any medicine at all.  \n",
              "3    Yes, I take medicine without consulting physic...  \n",
              "4    Someimes, I often visit physician to get consu...  \n",
              "..                                                 ...  \n",
              "146  Someimes, I often visit physician to get consu...  \n",
              "147              No, I don't take any medicine at all.  \n",
              "148              No, I don't take any medicine at all.  \n",
              "149  Yes, I take medicine without consulting physic...  \n",
              "150                                                NaN  \n",
              "\n",
              "[151 rows x 40 columns]"
            ],
            "text/html": [
              "\n",
              "  <div id=\"df-a0092a00-aa48-40ef-9b80-a135fa78f5f1\">\n",
              "    <div class=\"colab-df-container\">\n",
              "      <div>\n",
              "<style scoped>\n",
              "    .dataframe tbody tr th:only-of-type {\n",
              "        vertical-align: middle;\n",
              "    }\n",
              "\n",
              "    .dataframe tbody tr th {\n",
              "        vertical-align: top;\n",
              "    }\n",
              "\n",
              "    .dataframe thead th {\n",
              "        text-align: right;\n",
              "    }\n",
              "</style>\n",
              "<table border=\"1\" class=\"dataframe\">\n",
              "  <thead>\n",
              "    <tr style=\"text-align: right;\">\n",
              "      <th></th>\n",
              "      <th>Gender</th>\n",
              "      <th>area</th>\n",
              "      <th>smoke</th>\n",
              "      <th>eat</th>\n",
              "      <th>age</th>\n",
              "      <th>cold_food</th>\n",
              "      <th>headache_history</th>\n",
              "      <th>screen_time</th>\n",
              "      <th>acidity</th>\n",
              "      <th>stress</th>\n",
              "      <th>...</th>\n",
              "      <th>plusating</th>\n",
              "      <th>light_sensitivity</th>\n",
              "      <th>eyelid_edema</th>\n",
              "      <th>sweating</th>\n",
              "      <th>physical_activity</th>\n",
              "      <th>restlessness</th>\n",
              "      <th>miosis</th>\n",
              "      <th>nausea</th>\n",
              "      <th>ear_fullness1</th>\n",
              "      <th>self_medication</th>\n",
              "    </tr>\n",
              "  </thead>\n",
              "  <tbody>\n",
              "    <tr>\n",
              "      <th>0</th>\n",
              "      <td>Female</td>\n",
              "      <td>NaN</td>\n",
              "      <td>Never</td>\n",
              "      <td>NaN</td>\n",
              "      <td>[10-19]</td>\n",
              "      <td>Never</td>\n",
              "      <td>No</td>\n",
              "      <td>3-5 hours</td>\n",
              "      <td>NaN</td>\n",
              "      <td>Yes</td>\n",
              "      <td>...</td>\n",
              "      <td>NaN</td>\n",
              "      <td>NaN</td>\n",
              "      <td>NaN</td>\n",
              "      <td>NaN</td>\n",
              "      <td>NaN</td>\n",
              "      <td>NaN</td>\n",
              "      <td>NaN</td>\n",
              "      <td>NaN</td>\n",
              "      <td>NaN</td>\n",
              "      <td>Yes, I take medicine without consulting physic...</td>\n",
              "    </tr>\n",
              "    <tr>\n",
              "      <th>1</th>\n",
              "      <td>Female</td>\n",
              "      <td>NaN</td>\n",
              "      <td>Never</td>\n",
              "      <td>NaN</td>\n",
              "      <td>[20-29]</td>\n",
              "      <td>Ocassionally</td>\n",
              "      <td>Tension headache</td>\n",
              "      <td>3-5 hours</td>\n",
              "      <td>NaN</td>\n",
              "      <td>Yes</td>\n",
              "      <td>...</td>\n",
              "      <td>NaN</td>\n",
              "      <td>NaN</td>\n",
              "      <td>NaN</td>\n",
              "      <td>NaN</td>\n",
              "      <td>NaN</td>\n",
              "      <td>NaN</td>\n",
              "      <td>NaN</td>\n",
              "      <td>NaN</td>\n",
              "      <td>NaN</td>\n",
              "      <td>Someimes, I often visit physician to get consu...</td>\n",
              "    </tr>\n",
              "    <tr>\n",
              "      <th>2</th>\n",
              "      <td>Female</td>\n",
              "      <td>NaN</td>\n",
              "      <td>Never</td>\n",
              "      <td>NaN</td>\n",
              "      <td>[10-19]</td>\n",
              "      <td>Once a week</td>\n",
              "      <td>No</td>\n",
              "      <td>More then 2 hours</td>\n",
              "      <td>NaN</td>\n",
              "      <td>Yes</td>\n",
              "      <td>...</td>\n",
              "      <td>NaN</td>\n",
              "      <td>NaN</td>\n",
              "      <td>NaN</td>\n",
              "      <td>NaN</td>\n",
              "      <td>NaN</td>\n",
              "      <td>NaN</td>\n",
              "      <td>NaN</td>\n",
              "      <td>NaN</td>\n",
              "      <td>NaN</td>\n",
              "      <td>No, I don't take any medicine at all.</td>\n",
              "    </tr>\n",
              "    <tr>\n",
              "      <th>3</th>\n",
              "      <td>Female</td>\n",
              "      <td>NaN</td>\n",
              "      <td>Never</td>\n",
              "      <td>NaN</td>\n",
              "      <td>[10-19]</td>\n",
              "      <td>Ocassionally</td>\n",
              "      <td>No</td>\n",
              "      <td>3-5 hours</td>\n",
              "      <td>NaN</td>\n",
              "      <td>Yes</td>\n",
              "      <td>...</td>\n",
              "      <td>NaN</td>\n",
              "      <td>NaN</td>\n",
              "      <td>NaN</td>\n",
              "      <td>NaN</td>\n",
              "      <td>NaN</td>\n",
              "      <td>NaN</td>\n",
              "      <td>NaN</td>\n",
              "      <td>NaN</td>\n",
              "      <td>NaN</td>\n",
              "      <td>Yes, I take medicine without consulting physic...</td>\n",
              "    </tr>\n",
              "    <tr>\n",
              "      <th>4</th>\n",
              "      <td>Female</td>\n",
              "      <td>NaN</td>\n",
              "      <td>Never</td>\n",
              "      <td>NaN</td>\n",
              "      <td>[10-19]</td>\n",
              "      <td>Never</td>\n",
              "      <td>Migraine\\nTension headache</td>\n",
              "      <td>More then 2 hours</td>\n",
              "      <td>NaN</td>\n",
              "      <td>Yes</td>\n",
              "      <td>...</td>\n",
              "      <td>NaN</td>\n",
              "      <td>NaN</td>\n",
              "      <td>NaN</td>\n",
              "      <td>NaN</td>\n",
              "      <td>NaN</td>\n",
              "      <td>NaN</td>\n",
              "      <td>NaN</td>\n",
              "      <td>NaN</td>\n",
              "      <td>NaN</td>\n",
              "      <td>Someimes, I often visit physician to get consu...</td>\n",
              "    </tr>\n",
              "    <tr>\n",
              "      <th>...</th>\n",
              "      <td>...</td>\n",
              "      <td>...</td>\n",
              "      <td>...</td>\n",
              "      <td>...</td>\n",
              "      <td>...</td>\n",
              "      <td>...</td>\n",
              "      <td>...</td>\n",
              "      <td>...</td>\n",
              "      <td>...</td>\n",
              "      <td>...</td>\n",
              "      <td>...</td>\n",
              "      <td>...</td>\n",
              "      <td>...</td>\n",
              "      <td>...</td>\n",
              "      <td>...</td>\n",
              "      <td>...</td>\n",
              "      <td>...</td>\n",
              "      <td>...</td>\n",
              "      <td>...</td>\n",
              "      <td>...</td>\n",
              "      <td>...</td>\n",
              "    </tr>\n",
              "    <tr>\n",
              "      <th>146</th>\n",
              "      <td>Female</td>\n",
              "      <td>Less noisy urban area</td>\n",
              "      <td>Never</td>\n",
              "      <td>YES</td>\n",
              "      <td>[30-39]</td>\n",
              "      <td>Daily</td>\n",
              "      <td>NaN</td>\n",
              "      <td>NaN</td>\n",
              "      <td>NaN</td>\n",
              "      <td>NaN</td>\n",
              "      <td>...</td>\n",
              "      <td>YES</td>\n",
              "      <td>YES</td>\n",
              "      <td>NO</td>\n",
              "      <td>NO</td>\n",
              "      <td>YES</td>\n",
              "      <td>NO</td>\n",
              "      <td>NO</td>\n",
              "      <td>NO</td>\n",
              "      <td>NO</td>\n",
              "      <td>Someimes, I often visit physician to get consu...</td>\n",
              "    </tr>\n",
              "    <tr>\n",
              "      <th>147</th>\n",
              "      <td>Male</td>\n",
              "      <td>Noisy urban area</td>\n",
              "      <td>Never</td>\n",
              "      <td>YES</td>\n",
              "      <td>[20-29]</td>\n",
              "      <td>Ocassionally</td>\n",
              "      <td>NaN</td>\n",
              "      <td>NaN</td>\n",
              "      <td>NaN</td>\n",
              "      <td>NaN</td>\n",
              "      <td>...</td>\n",
              "      <td>YES</td>\n",
              "      <td>YES</td>\n",
              "      <td>YES</td>\n",
              "      <td>NO</td>\n",
              "      <td>NO</td>\n",
              "      <td>YES</td>\n",
              "      <td>NO</td>\n",
              "      <td>NO</td>\n",
              "      <td>YES</td>\n",
              "      <td>No, I don't take any medicine at all.</td>\n",
              "    </tr>\n",
              "    <tr>\n",
              "      <th>148</th>\n",
              "      <td>Male</td>\n",
              "      <td>Noisy urban area</td>\n",
              "      <td>Never</td>\n",
              "      <td>YES</td>\n",
              "      <td>[20-29]</td>\n",
              "      <td>Once a week</td>\n",
              "      <td>NaN</td>\n",
              "      <td>NaN</td>\n",
              "      <td>NaN</td>\n",
              "      <td>NaN</td>\n",
              "      <td>...</td>\n",
              "      <td>YES</td>\n",
              "      <td>YES</td>\n",
              "      <td>NO</td>\n",
              "      <td>YES</td>\n",
              "      <td>YES</td>\n",
              "      <td>NO</td>\n",
              "      <td>NO</td>\n",
              "      <td>NO</td>\n",
              "      <td>YES</td>\n",
              "      <td>No, I don't take any medicine at all.</td>\n",
              "    </tr>\n",
              "    <tr>\n",
              "      <th>149</th>\n",
              "      <td>Male</td>\n",
              "      <td>In rural area (More peaceful and less noisy)</td>\n",
              "      <td>Never</td>\n",
              "      <td>YES</td>\n",
              "      <td>NaN</td>\n",
              "      <td>NaN</td>\n",
              "      <td>NaN</td>\n",
              "      <td>NaN</td>\n",
              "      <td>NaN</td>\n",
              "      <td>NaN</td>\n",
              "      <td>...</td>\n",
              "      <td>YES</td>\n",
              "      <td>YES</td>\n",
              "      <td>NO</td>\n",
              "      <td>YES</td>\n",
              "      <td>NO</td>\n",
              "      <td>NO</td>\n",
              "      <td>NO</td>\n",
              "      <td>NO</td>\n",
              "      <td>YES</td>\n",
              "      <td>Yes, I take medicine without consulting physic...</td>\n",
              "    </tr>\n",
              "    <tr>\n",
              "      <th>150</th>\n",
              "      <td>Male</td>\n",
              "      <td>In rural area (More peaceful and less noisy)</td>\n",
              "      <td>Never</td>\n",
              "      <td>YES</td>\n",
              "      <td>NaN</td>\n",
              "      <td>NaN</td>\n",
              "      <td>NaN</td>\n",
              "      <td>NaN</td>\n",
              "      <td>NaN</td>\n",
              "      <td>NaN</td>\n",
              "      <td>...</td>\n",
              "      <td>YES</td>\n",
              "      <td>YES</td>\n",
              "      <td>NO</td>\n",
              "      <td>YES</td>\n",
              "      <td>YES</td>\n",
              "      <td>YES</td>\n",
              "      <td>YES</td>\n",
              "      <td>NO</td>\n",
              "      <td>NO</td>\n",
              "      <td>NaN</td>\n",
              "    </tr>\n",
              "  </tbody>\n",
              "</table>\n",
              "<p>151 rows × 40 columns</p>\n",
              "</div>\n",
              "      <button class=\"colab-df-convert\" onclick=\"convertToInteractive('df-a0092a00-aa48-40ef-9b80-a135fa78f5f1')\"\n",
              "              title=\"Convert this dataframe to an interactive table.\"\n",
              "              style=\"display:none;\">\n",
              "        \n",
              "  <svg xmlns=\"http://www.w3.org/2000/svg\" height=\"24px\"viewBox=\"0 0 24 24\"\n",
              "       width=\"24px\">\n",
              "    <path d=\"M0 0h24v24H0V0z\" fill=\"none\"/>\n",
              "    <path d=\"M18.56 5.44l.94 2.06.94-2.06 2.06-.94-2.06-.94-.94-2.06-.94 2.06-2.06.94zm-11 1L8.5 8.5l.94-2.06 2.06-.94-2.06-.94L8.5 2.5l-.94 2.06-2.06.94zm10 10l.94 2.06.94-2.06 2.06-.94-2.06-.94-.94-2.06-.94 2.06-2.06.94z\"/><path d=\"M17.41 7.96l-1.37-1.37c-.4-.4-.92-.59-1.43-.59-.52 0-1.04.2-1.43.59L10.3 9.45l-7.72 7.72c-.78.78-.78 2.05 0 2.83L4 21.41c.39.39.9.59 1.41.59.51 0 1.02-.2 1.41-.59l7.78-7.78 2.81-2.81c.8-.78.8-2.07 0-2.86zM5.41 20L4 18.59l7.72-7.72 1.47 1.35L5.41 20z\"/>\n",
              "  </svg>\n",
              "      </button>\n",
              "      \n",
              "  <style>\n",
              "    .colab-df-container {\n",
              "      display:flex;\n",
              "      flex-wrap:wrap;\n",
              "      gap: 12px;\n",
              "    }\n",
              "\n",
              "    .colab-df-convert {\n",
              "      background-color: #E8F0FE;\n",
              "      border: none;\n",
              "      border-radius: 50%;\n",
              "      cursor: pointer;\n",
              "      display: none;\n",
              "      fill: #1967D2;\n",
              "      height: 32px;\n",
              "      padding: 0 0 0 0;\n",
              "      width: 32px;\n",
              "    }\n",
              "\n",
              "    .colab-df-convert:hover {\n",
              "      background-color: #E2EBFA;\n",
              "      box-shadow: 0px 1px 2px rgba(60, 64, 67, 0.3), 0px 1px 3px 1px rgba(60, 64, 67, 0.15);\n",
              "      fill: #174EA6;\n",
              "    }\n",
              "\n",
              "    [theme=dark] .colab-df-convert {\n",
              "      background-color: #3B4455;\n",
              "      fill: #D2E3FC;\n",
              "    }\n",
              "\n",
              "    [theme=dark] .colab-df-convert:hover {\n",
              "      background-color: #434B5C;\n",
              "      box-shadow: 0px 1px 3px 1px rgba(0, 0, 0, 0.15);\n",
              "      filter: drop-shadow(0px 1px 2px rgba(0, 0, 0, 0.3));\n",
              "      fill: #FFFFFF;\n",
              "    }\n",
              "  </style>\n",
              "\n",
              "      <script>\n",
              "        const buttonEl =\n",
              "          document.querySelector('#df-a0092a00-aa48-40ef-9b80-a135fa78f5f1 button.colab-df-convert');\n",
              "        buttonEl.style.display =\n",
              "          google.colab.kernel.accessAllowed ? 'block' : 'none';\n",
              "\n",
              "        async function convertToInteractive(key) {\n",
              "          const element = document.querySelector('#df-a0092a00-aa48-40ef-9b80-a135fa78f5f1');\n",
              "          const dataTable =\n",
              "            await google.colab.kernel.invokeFunction('convertToInteractive',\n",
              "                                                     [key], {});\n",
              "          if (!dataTable) return;\n",
              "\n",
              "          const docLinkHtml = 'Like what you see? Visit the ' +\n",
              "            '<a target=\"_blank\" href=https://colab.research.google.com/notebooks/data_table.ipynb>data table notebook</a>'\n",
              "            + ' to learn more about interactive tables.';\n",
              "          element.innerHTML = '';\n",
              "          dataTable['output_type'] = 'display_data';\n",
              "          await google.colab.output.renderOutput(dataTable, element);\n",
              "          const docLink = document.createElement('div');\n",
              "          docLink.innerHTML = docLinkHtml;\n",
              "          element.appendChild(docLink);\n",
              "        }\n",
              "      </script>\n",
              "    </div>\n",
              "  </div>\n",
              "  "
            ]
          },
          "metadata": {},
          "execution_count": 57
        }
      ]
    },
    {
      "cell_type": "code",
      "source": [
        "mask = data.area.isna()\n",
        "mask"
      ],
      "metadata": {
        "colab": {
          "base_uri": "https://localhost:8080/"
        },
        "id": "ckpN9BRtOrWO",
        "outputId": "283cd8e2-1733-447a-84d6-677b90759eac"
      },
      "execution_count": null,
      "outputs": [
        {
          "output_type": "execute_result",
          "data": {
            "text/plain": [
              "0       True\n",
              "1       True\n",
              "2       True\n",
              "3       True\n",
              "4       True\n",
              "       ...  \n",
              "146    False\n",
              "147    False\n",
              "148    False\n",
              "149    False\n",
              "150    False\n",
              "Name: area, Length: 151, dtype: bool"
            ]
          },
          "metadata": {},
          "execution_count": 60
        }
      ]
    },
    {
      "cell_type": "code",
      "source": [
        "mask.info()"
      ],
      "metadata": {
        "colab": {
          "base_uri": "https://localhost:8080/"
        },
        "id": "NfDSNF4UPN5j",
        "outputId": "c46df378-6361-4665-ea55-7f500e5f3039"
      },
      "execution_count": null,
      "outputs": [
        {
          "output_type": "stream",
          "name": "stdout",
          "text": [
            "<class 'pandas.core.series.Series'>\n",
            "RangeIndex: 151 entries, 0 to 150\n",
            "Series name: area\n",
            "Non-Null Count  Dtype\n",
            "--------------  -----\n",
            "151 non-null    bool \n",
            "dtypes: bool(1)\n",
            "memory usage: 279.0 bytes\n"
          ]
        }
      ]
    },
    {
      "cell_type": "code",
      "source": [
        "mask = data.Gender.isna()"
      ],
      "metadata": {
        "id": "I4p7-YHEPViu"
      },
      "execution_count": 65,
      "outputs": []
    },
    {
      "cell_type": "code",
      "source": [
        "data.loc[mask, 'Gender']"
      ],
      "metadata": {
        "colab": {
          "base_uri": "https://localhost:8080/"
        },
        "id": "bB5kfGH3RJJe",
        "outputId": "40d1f29b-58fe-4bfc-c332-f9c8e9bb2e7e"
      },
      "execution_count": 67,
      "outputs": [
        {
          "output_type": "execute_result",
          "data": {
            "text/plain": [
              "43    NaN\n",
              "44    NaN\n",
              "83    NaN\n",
              "84    NaN\n",
              "85    NaN\n",
              "Name: Gender, dtype: object"
            ]
          },
          "metadata": {},
          "execution_count": 67
        }
      ]
    },
    {
      "cell_type": "code",
      "source": [
        "data.Gender.fillna('female', inplace=True)"
      ],
      "metadata": {
        "id": "R-gZxAt8SeEZ"
      },
      "execution_count": 68,
      "outputs": []
    },
    {
      "cell_type": "code",
      "source": [
        "data.Gender.isna()\n",
        "data.loc[mask, 'Gender']"
      ],
      "metadata": {
        "colab": {
          "base_uri": "https://localhost:8080/"
        },
        "id": "GrUn2PxySyZ9",
        "outputId": "cf6b908a-a5f5-46a4-92c9-b50e700ddc11"
      },
      "execution_count": 69,
      "outputs": [
        {
          "output_type": "execute_result",
          "data": {
            "text/plain": [
              "43    female\n",
              "44    female\n",
              "83    female\n",
              "84    female\n",
              "85    female\n",
              "Name: Gender, dtype: object"
            ]
          },
          "metadata": {},
          "execution_count": 69
        }
      ]
    },
    {
      "cell_type": "code",
      "source": [
        "mask=data.area.isna()\n",
        "data.loc[mask, 'area']"
      ],
      "metadata": {
        "colab": {
          "base_uri": "https://localhost:8080/"
        },
        "id": "jUelATvnS3TJ",
        "outputId": "72e50866-0db2-4349-a3bb-2253a11009d0"
      },
      "execution_count": 71,
      "outputs": [
        {
          "output_type": "execute_result",
          "data": {
            "text/plain": [
              "0      NaN\n",
              "1      NaN\n",
              "2      NaN\n",
              "3      NaN\n",
              "4      NaN\n",
              "9      NaN\n",
              "10     NaN\n",
              "11     NaN\n",
              "12     NaN\n",
              "13     NaN\n",
              "14     NaN\n",
              "15     NaN\n",
              "16     NaN\n",
              "17     NaN\n",
              "18     NaN\n",
              "19     NaN\n",
              "20     NaN\n",
              "21     NaN\n",
              "22     NaN\n",
              "23     NaN\n",
              "24     NaN\n",
              "25     NaN\n",
              "26     NaN\n",
              "27     NaN\n",
              "28     NaN\n",
              "29     NaN\n",
              "30     NaN\n",
              "31     NaN\n",
              "32     NaN\n",
              "33     NaN\n",
              "34     NaN\n",
              "35     NaN\n",
              "36     NaN\n",
              "37     NaN\n",
              "38     NaN\n",
              "39     NaN\n",
              "43     NaN\n",
              "44     NaN\n",
              "57     NaN\n",
              "58     NaN\n",
              "59     NaN\n",
              "60     NaN\n",
              "61     NaN\n",
              "62     NaN\n",
              "63     NaN\n",
              "64     NaN\n",
              "65     NaN\n",
              "66     NaN\n",
              "67     NaN\n",
              "68     NaN\n",
              "69     NaN\n",
              "70     NaN\n",
              "71     NaN\n",
              "72     NaN\n",
              "73     NaN\n",
              "83     NaN\n",
              "84     NaN\n",
              "85     NaN\n",
              "116    NaN\n",
              "117    NaN\n",
              "Name: area, dtype: object"
            ]
          },
          "metadata": {},
          "execution_count": 71
        }
      ]
    },
    {
      "cell_type": "code",
      "source": [
        "data.area.fillna('less noisy rural area', inplace=True)"
      ],
      "metadata": {
        "id": "7ii6VMWaS5zU"
      },
      "execution_count": 72,
      "outputs": []
    },
    {
      "cell_type": "code",
      "source": [
        "mask=data.smoke.isna()\n",
        "data.loc[mask, 'smoke']"
      ],
      "metadata": {
        "colab": {
          "base_uri": "https://localhost:8080/"
        },
        "id": "SqODfX2qTTqO",
        "outputId": "9aabd4d7-7d89-430c-a02e-0901f2dc6448"
      },
      "execution_count": 80,
      "outputs": [
        {
          "output_type": "execute_result",
          "data": {
            "text/plain": [
              "Series([], Name: smoke, dtype: object)"
            ]
          },
          "metadata": {},
          "execution_count": 80
        }
      ]
    },
    {
      "cell_type": "code",
      "source": [
        "data.smoke.fillna('daily', inplace=True)"
      ],
      "metadata": {
        "id": "cEt2uCjXTU9M"
      },
      "execution_count": 76,
      "outputs": []
    },
    {
      "cell_type": "code",
      "source": [
        "mask=data.age.isna()\n",
        "data.loc[mask, 'age']"
      ],
      "metadata": {
        "colab": {
          "base_uri": "https://localhost:8080/"
        },
        "id": "K3fqmkx2Ttmp",
        "outputId": "457b8f6c-d004-4f30-d7fb-9b3b94d99203"
      },
      "execution_count": 77,
      "outputs": [
        {
          "output_type": "execute_result",
          "data": {
            "text/plain": [
              "43     NaN\n",
              "44     NaN\n",
              "83     NaN\n",
              "84     NaN\n",
              "85     NaN\n",
              "94     NaN\n",
              "104    NaN\n",
              "122    NaN\n",
              "129    NaN\n",
              "136    NaN\n",
              "144    NaN\n",
              "149    NaN\n",
              "150    NaN\n",
              "Name: age, dtype: object"
            ]
          },
          "metadata": {},
          "execution_count": 77
        }
      ]
    },
    {
      "cell_type": "code",
      "source": [
        "data.age.fillna('[20-29]', inplace=True)"
      ],
      "metadata": {
        "id": "1b7yOynYT1JL"
      },
      "execution_count": 79,
      "outputs": []
    },
    {
      "cell_type": "code",
      "source": [
        "mask=data.eat.isna()\n",
        "data.loc[mask, 'eat']"
      ],
      "metadata": {
        "colab": {
          "base_uri": "https://localhost:8080/"
        },
        "id": "I99sZBwiT7hd",
        "outputId": "616064d3-5b88-446a-bcbe-0dc787a6abf7"
      },
      "execution_count": 81,
      "outputs": [
        {
          "output_type": "execute_result",
          "data": {
            "text/plain": [
              "0      NaN\n",
              "1      NaN\n",
              "2      NaN\n",
              "3      NaN\n",
              "4      NaN\n",
              "9      NaN\n",
              "10     NaN\n",
              "11     NaN\n",
              "12     NaN\n",
              "13     NaN\n",
              "14     NaN\n",
              "15     NaN\n",
              "16     NaN\n",
              "17     NaN\n",
              "18     NaN\n",
              "19     NaN\n",
              "20     NaN\n",
              "21     NaN\n",
              "22     NaN\n",
              "23     NaN\n",
              "24     NaN\n",
              "25     NaN\n",
              "26     NaN\n",
              "27     NaN\n",
              "28     NaN\n",
              "29     NaN\n",
              "30     NaN\n",
              "31     NaN\n",
              "32     NaN\n",
              "33     NaN\n",
              "34     NaN\n",
              "35     NaN\n",
              "36     NaN\n",
              "37     NaN\n",
              "38     NaN\n",
              "39     NaN\n",
              "57     NaN\n",
              "58     NaN\n",
              "59     NaN\n",
              "60     NaN\n",
              "61     NaN\n",
              "62     NaN\n",
              "63     NaN\n",
              "64     NaN\n",
              "65     NaN\n",
              "66     NaN\n",
              "67     NaN\n",
              "68     NaN\n",
              "69     NaN\n",
              "70     NaN\n",
              "71     NaN\n",
              "72     NaN\n",
              "73     NaN\n",
              "127    NaN\n",
              "128    NaN\n",
              "Name: eat, dtype: object"
            ]
          },
          "metadata": {},
          "execution_count": 81
        }
      ]
    },
    {
      "cell_type": "code",
      "source": [
        "data.eat.fillna('No', inplace=True)"
      ],
      "metadata": {
        "id": "l4h986cjUOie"
      },
      "execution_count": 82,
      "outputs": []
    },
    {
      "cell_type": "code",
      "source": [
        "mask=data.cold_food.isna()\n",
        "data.loc[mask, 'cold_food']"
      ],
      "metadata": {
        "colab": {
          "base_uri": "https://localhost:8080/"
        },
        "id": "2v08F1DrUT9C",
        "outputId": "d4e39397-1e3d-4073-caa0-fcf128da4717"
      },
      "execution_count": 83,
      "outputs": [
        {
          "output_type": "execute_result",
          "data": {
            "text/plain": [
              "64     NaN\n",
              "110    NaN\n",
              "149    NaN\n",
              "150    NaN\n",
              "Name: cold_food, dtype: object"
            ]
          },
          "metadata": {},
          "execution_count": 83
        }
      ]
    },
    {
      "cell_type": "code",
      "source": [
        "data.cold_food.fillna('Daily', inplace=True)"
      ],
      "metadata": {
        "id": "S0Kvx_RPUifQ"
      },
      "execution_count": 84,
      "outputs": []
    },
    {
      "cell_type": "code",
      "source": [
        "mask=data.headache_history.isna()\n",
        "data.loc[mask, 'headache_history']"
      ],
      "metadata": {
        "colab": {
          "base_uri": "https://localhost:8080/"
        },
        "id": "Q21ohqS-Usa1",
        "outputId": "e3cbb4db-579a-435b-bbf9-fd52c11f67fb"
      },
      "execution_count": 85,
      "outputs": [
        {
          "output_type": "execute_result",
          "data": {
            "text/plain": [
              "28     NaN\n",
              "43     NaN\n",
              "44     NaN\n",
              "63     NaN\n",
              "83     NaN\n",
              "84     NaN\n",
              "85     NaN\n",
              "130    NaN\n",
              "131    NaN\n",
              "132    NaN\n",
              "134    NaN\n",
              "135    NaN\n",
              "136    NaN\n",
              "137    NaN\n",
              "138    NaN\n",
              "139    NaN\n",
              "140    NaN\n",
              "141    NaN\n",
              "142    NaN\n",
              "143    NaN\n",
              "144    NaN\n",
              "145    NaN\n",
              "146    NaN\n",
              "147    NaN\n",
              "148    NaN\n",
              "149    NaN\n",
              "150    NaN\n",
              "Name: headache_history, dtype: object"
            ]
          },
          "metadata": {},
          "execution_count": 85
        }
      ]
    },
    {
      "cell_type": "code",
      "source": [
        "data.headache_history.fillna('No', inplace=True)"
      ],
      "metadata": {
        "id": "75iAPJ4NU20p"
      },
      "execution_count": 86,
      "outputs": []
    },
    {
      "cell_type": "code",
      "source": [
        "data.screen_time.fillna('Greater than 5 hours', inplace=True)"
      ],
      "metadata": {
        "id": "5CuVcdztU99v"
      },
      "execution_count": 88,
      "outputs": []
    },
    {
      "cell_type": "code",
      "source": [
        "data.acidity.fillna('No', inplace=True)"
      ],
      "metadata": {
        "id": "U4HixYCpU_Ev"
      },
      "execution_count": 89,
      "outputs": []
    },
    {
      "cell_type": "code",
      "source": [
        "data.stress.fillna('Yes', inplace=True)"
      ],
      "metadata": {
        "id": "G6g3XmKpVZ8I"
      },
      "execution_count": 91,
      "outputs": []
    },
    {
      "cell_type": "code",
      "source": [
        "data.skip_meal.fillna('once a week', inplace=True)"
      ],
      "metadata": {
        "id": "11qTOamOWFrf"
      },
      "execution_count": 93,
      "outputs": []
    },
    {
      "cell_type": "code",
      "source": [
        "data.weather_affect.fillna('No', inplace=True)"
      ],
      "metadata": {
        "id": "ybUZvN9VWRFg"
      },
      "execution_count": 94,
      "outputs": []
    },
    {
      "cell_type": "code",
      "source": [
        "data.fast_food.fillna('Once a week', inplace=True)"
      ],
      "metadata": {
        "id": "6R6LRZIGWXhE"
      },
      "execution_count": 96,
      "outputs": []
    },
    {
      "cell_type": "code",
      "source": [
        "data.self_medication.fillna('Yes, I take medicine without consulting doctor.', inplace=True)"
      ],
      "metadata": {
        "id": "kOftIhxgWmr0"
      },
      "execution_count": 97,
      "outputs": []
    },
    {
      "cell_type": "code",
      "source": [
        "data.nausea.fillna('No', inplace=True)"
      ],
      "metadata": {
        "id": "l56nmn_SWwEg"
      },
      "execution_count": 98,
      "outputs": []
    },
    {
      "cell_type": "code",
      "source": [
        "data.miosis.fillna('No', inplace=True)"
      ],
      "metadata": {
        "id": "Nuk8GbCSWzsV"
      },
      "execution_count": 99,
      "outputs": []
    },
    {
      "cell_type": "code",
      "source": [
        "data.restlessness.fillna('Yes', inplace=True)"
      ],
      "metadata": {
        "id": "MyMKJdZ2W3Ka"
      },
      "execution_count": 100,
      "outputs": []
    },
    {
      "cell_type": "code",
      "source": [
        "data.physical_activity.fillna('Yes', inplace=True)"
      ],
      "metadata": {
        "id": "XyK5LII8W7sb"
      },
      "execution_count": 101,
      "outputs": []
    },
    {
      "cell_type": "code",
      "source": [
        "data.sweating.fillna('No', inplace=True)"
      ],
      "metadata": {
        "id": "mrzvEFQdXA88"
      },
      "execution_count": 102,
      "outputs": []
    },
    {
      "cell_type": "code",
      "source": [
        "data.eyelid_edema.fillna('No', inplace=True)"
      ],
      "metadata": {
        "id": "ohqWQ9J3XFdo"
      },
      "execution_count": 103,
      "outputs": []
    },
    {
      "cell_type": "code",
      "source": [
        "data.light_sensitivity.fillna('Yes', inplace=True)"
      ],
      "metadata": {
        "id": "UK6SSjB6XJ8L"
      },
      "execution_count": 104,
      "outputs": []
    },
    {
      "cell_type": "code",
      "source": [
        "data.plusating.fillna('No', inplace=True)"
      ],
      "metadata": {
        "id": "nYyBYTrMXPOE"
      },
      "execution_count": 105,
      "outputs": []
    },
    {
      "cell_type": "code",
      "source": [
        "data.rhinorrhea.fillna('No', inplace=True)"
      ],
      "metadata": {
        "id": "dngoiSU_XUjv"
      },
      "execution_count": 106,
      "outputs": []
    },
    {
      "cell_type": "code",
      "source": [
        "data.lacrimation.fillna('No', inplace=True)"
      ],
      "metadata": {
        "id": "lePeFmh7XY2N"
      },
      "execution_count": 107,
      "outputs": []
    },
    {
      "cell_type": "code",
      "source": [
        "data.conjunctival_injection.fillna('No', inplace=True)"
      ],
      "metadata": {
        "id": "8yNff2v6XdDI"
      },
      "execution_count": 108,
      "outputs": []
    },
    {
      "cell_type": "code",
      "source": [
        "data.intensity.fillna('Moderate', inplace=True)"
      ],
      "metadata": {
        "id": "LcIp4uRlXh_G"
      },
      "execution_count": 109,
      "outputs": []
    },
    {
      "cell_type": "code",
      "source": [
        "data.headache_time.fillna('Night', inplace=True)"
      ],
      "metadata": {
        "id": "VBhdsiiBXoLz"
      },
      "execution_count": 110,
      "outputs": []
    },
    {
      "cell_type": "code",
      "source": [
        "data.headache_duration.fillna('More than 1 week', inplace=True)"
      ],
      "metadata": {
        "id": "DkBKpNlmXxBz"
      },
      "execution_count": 111,
      "outputs": []
    },
    {
      "cell_type": "code",
      "source": [
        "data.ear_fullness.fillna('No', inplace=True)"
      ],
      "metadata": {
        "id": "KYWpB2sLYtU4"
      },
      "execution_count": 118,
      "outputs": []
    },
    {
      "cell_type": "code",
      "source": [
        "data.info()"
      ],
      "metadata": {
        "colab": {
          "base_uri": "https://localhost:8080/"
        },
        "id": "s6YgZJCoX6R0",
        "outputId": "878e1c33-efa3-489a-992d-438588f9d91d"
      },
      "execution_count": 119,
      "outputs": [
        {
          "output_type": "stream",
          "name": "stdout",
          "text": [
            "<class 'pandas.core.frame.DataFrame'>\n",
            "RangeIndex: 151 entries, 0 to 150\n",
            "Data columns (total 36 columns):\n",
            " #   Column                  Non-Null Count  Dtype \n",
            "---  ------                  --------------  ----- \n",
            " 0   Gender                  151 non-null    object\n",
            " 1   area                    151 non-null    object\n",
            " 2   smoke                   151 non-null    object\n",
            " 3   eat                     151 non-null    object\n",
            " 4   age                     151 non-null    object\n",
            " 5   cold_food               151 non-null    object\n",
            " 6   headache_history        151 non-null    object\n",
            " 7   screen_time             151 non-null    object\n",
            " 8   acidity                 151 non-null    object\n",
            " 9   stress                  151 non-null    object\n",
            " 10  skip_meal               151 non-null    object\n",
            " 11  weather_affect          151 non-null    object\n",
            " 12  ear_fullness            151 non-null    object\n",
            " 13  fast_food               151 non-null    object\n",
            " 14  sleep_lack              150 non-null    object\n",
            " 15  sleep_disturbance       150 non-null    object\n",
            " 16  fatigue                 150 non-null    object\n",
            " 17  intense_emotion         151 non-null    object\n",
            " 18  harmone_fluctuation     147 non-null    object\n",
            " 19  headache_trigger        145 non-null    object\n",
            " 20  headache_duration       151 non-null    object\n",
            " 21  headache_time           151 non-null    object\n",
            " 22  headache_area           144 non-null    object\n",
            " 23  intensity               151 non-null    object\n",
            " 24  conjunctival_injection  151 non-null    object\n",
            " 25  lacrimation             151 non-null    object\n",
            " 26  rhinorrhea              151 non-null    object\n",
            " 27  plusating               151 non-null    object\n",
            " 28  light_sensitivity       151 non-null    object\n",
            " 29  eyelid_edema            151 non-null    object\n",
            " 30  sweating                151 non-null    object\n",
            " 31  physical_activity       151 non-null    object\n",
            " 32  restlessness            151 non-null    object\n",
            " 33  miosis                  151 non-null    object\n",
            " 34  nausea                  151 non-null    object\n",
            " 35  self_medication         151 non-null    object\n",
            "dtypes: object(36)\n",
            "memory usage: 42.6+ KB\n"
          ]
        }
      ]
    },
    {
      "cell_type": "code",
      "source": [
        "df =data.drop(labels=[\"ear_fullness1\"],\n",
        "          axis = 1,\n",
        "          inplace = True)"
      ],
      "metadata": {
        "id": "vS4MzjN5X_iN"
      },
      "execution_count": 116,
      "outputs": []
    },
    {
      "cell_type": "code",
      "source": [
        "data.to_excel(\"output.xlsx\")"
      ],
      "metadata": {
        "id": "b2W1HSf9YbI7"
      },
      "execution_count": 120,
      "outputs": []
    },
    {
      "cell_type": "code",
      "source": [],
      "metadata": {
        "id": "mouFwrwqZIVI"
      },
      "execution_count": null,
      "outputs": []
    }
  ]
}